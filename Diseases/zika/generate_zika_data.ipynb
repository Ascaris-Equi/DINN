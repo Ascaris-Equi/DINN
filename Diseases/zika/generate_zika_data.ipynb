{
 "cells": [
  {
   "cell_type": "markdown",
   "metadata": {},
   "source": [
    "# Paper: Prevention and Control of Zika as a Mosquito-Borne and Sexually Transmitted Disease: A Mathematical Modeling Analysis"
   ]
  },
  {
   "cell_type": "code",
   "execution_count": null,
   "metadata": {},
   "outputs": [],
   "source": [
    "import numpy as np\n",
    "from scipy.integrate import odeint\n",
    "import matplotlib.pyplot as plt"
   ]
  },
  {
   "cell_type": "code",
   "execution_count": null,
   "metadata": {},
   "outputs": [],
   "source": [
    "# Initial conditions\n",
    "\n",
    "Sh0 = 0.516\n",
    "Eh0 = 0.000657\n",
    "Ih10 = 0.000657\n",
    "Ih20 = 0.000657\n",
    "Ah0 = 0.000657\n",
    "Rh0 = 0\n",
    "Nh = Sh0 + Eh0 + Ih10 + Ih20 + Ah0 + Rh0\n",
    "Nv = 5 * Nh\n",
    "Sv0 = 1e-4\n",
    "Ev0 = 1e-4\n",
    "Iv0 =  1e-4\n",
    "\n",
    "# A grid of time points (in days)\n",
    "t = np.linspace(0, 30, 50) \n",
    "\n",
    "#parameters\n",
    "a = 0.5\n",
    "b = 0.4\n",
    "c = 0.5\n",
    "eta = 0.1\n",
    "beta = 0.05\n",
    "kappa = 0.6\n",
    "tao = 0.3\n",
    "theta = 18\n",
    "m = 5\n",
    "V_h = 1/5\n",
    "V_v = 10\n",
    "gamma_h1 = 1/5\n",
    "gamma_h2 = 1/20\n",
    "gamma_h = 1/7\n",
    "mu_v = 1/14\n",
    "\n",
    "\n",
    "# The SIR model differential equations.\n",
    "def deriv(y, t,Nh, a, b, c, eta, beta, kappa, tao, theta, m, V_h, V_v, gamma_h1, gamma_h2, gamma_h, mu_v):\n",
    "    Sh, Eh, Ih1, Ih2, Ah, Rh, Sv, Ev, Iv = y\n",
    "    dShdt = -a * b * (Iv/Nh) * Sh - beta * ((kappa * Eh + Ih1 + tao * Ih2) / Nh ) * Sh\n",
    "    dEhdt = theta * (-a * b * (Iv/Nh) * Sh - beta * ((kappa * Eh + Ih1 + tao * Ih2) / Nh ) * Sh) - V_h * Eh\n",
    "    dIh1dt = V_h * Eh - gamma_h1 * Ih1\n",
    "    dIh2dt = gamma_h1 * Ih1 - gamma_h2 * Ih2\n",
    "    dAhdt = (1 - theta) * (a * b * (Iv/Nh) * Sh - beta * ((kappa * Eh + Ih1 + tao * Ih2) / Nh ) * Sh) - gamma_h * Ah\n",
    "    dRhdt = gamma_h2 * Ih2 + gamma_h * Ah\n",
    "    dSvdt = mu_v * Nv - a * c * ((eta * Eh + Ih1)/Nh) * Sv - mu_v * Sv\n",
    "    dEvdt = a * c * ((eta * Eh + Ih1)/Nh) - (V_v + mu_v) * Ev\n",
    "    dIvdt = V_v * Ev - mu_v * Iv\n",
    "\n",
    "    return dShdt, dEhdt, dIh1dt, dIh2dt, dAhdt, dRhdt, dSvdt, dEvdt, dIvdt\n",
    "\n",
    "\n",
    "# Initial conditions vector\n",
    "y0 = Sh0, Eh0, Ih10, Ih20, Ah0, Rh0, Sv0, Ev0, Iv0\n",
    "# Integrate the SIR equations over the time grid, t.\n",
    "ret = odeint(deriv, y0, t, args=(Nh, a, b, c, eta, beta, kappa, tao, theta, m, V_h, V_v, gamma_h1, gamma_h2, gamma_h, mu_v))\n",
    "Sh, Eh, Ih1, Ih2, Ah, Rh, Sv, Ev, Iv = ret.T\n",
    "\n",
    "\n",
    "# Plot the data on two separate curves for S(t), I(t)\n",
    "fig = plt.figure(facecolor='w')\n",
    "ax = fig.add_subplot(111, facecolor='#dddddd', axisbelow=True)\n",
    "ax.plot(t, Sh, 'violet', alpha=0.5, lw=2, label='Sh', linestyle='dashed')\n",
    "ax.plot(t, Eh, 'darkgreen', alpha=0.5, lw=2, label='Eh', linestyle='dashed')\n",
    "ax.plot(t, Ih1, 'blue', alpha=0.5, lw=2, label='Ih1', linestyle='dashed')\n",
    "ax.plot(t, Ih2, 'orange', alpha=0.5, lw=2, label='Ih2', linestyle='dashed')\n",
    "ax.plot(t, Ah, 'red', alpha=0.5, lw=2, label='Ah', linestyle='dashed')\n",
    "ax.plot(t, Rh, 'teal', alpha=0.5, lw=2, label='Rh', linestyle='dashed')\n",
    "ax.plot(t, Sv, 'black', alpha=0.5, lw=2, label='Sv', linestyle='dashed')\n",
    "ax.plot(t, Ev, 'green', alpha=0.5, lw=2, label='Ev', linestyle='dashed')\n",
    "ax.plot(t, Iv, 'purple', alpha=0.5, lw=2, label='Iv', linestyle='dashed')\n",
    "ax.set_xlabel('Time /days')\n",
    "ax.yaxis.set_tick_params(length=0)\n",
    "ax.xaxis.set_tick_params(length=0)\n",
    "ax.grid(b=True, which='major', c='w', lw=2, ls='-')\n",
    "legend = ax.legend()\n",
    "legend.get_frame().set_alpha(0.5)\n",
    "for spine in ('top', 'right', 'bottom', 'left'):\n",
    "    ax.spines[spine].set_visible(False)\n",
    "plt.show()"
   ]
  },
  {
   "cell_type": "code",
   "execution_count": null,
   "metadata": {},
   "outputs": [],
   "source": [
    "#save to csv file\n",
    "a = np.asarray([t, Sh, Eh, Ih1, Ih2, Ah, Rh, Sv, Ev, Iv]) \n",
    "\n",
    "# np.savetxt(\"zika.csv\", a, delimiter=\",\")"
   ]
  },
  {
   "cell_type": "code",
   "execution_count": null,
   "metadata": {},
   "outputs": [],
   "source": []
  }
 ],
 "metadata": {
  "kernelspec": {
   "display_name": "Python 3.7.3 64-bit ('base': conda)",
   "name": "python373jvsc74a57bd0f0396a0f98e081442f6005f4438dae70905c4dba32e635697d7a979ca5a56ea2"
  },
  "language_info": {
   "codemirror_mode": {
    "name": "ipython",
    "version": 3
   },
   "file_extension": ".py",
   "mimetype": "text/x-python",
   "name": "python",
   "nbconvert_exporter": "python",
   "pygments_lexer": "ipython3",
   "version": "3.7.3"
  },
  "orig_nbformat": 2
 },
 "nbformat": 4,
 "nbformat_minor": 2
}