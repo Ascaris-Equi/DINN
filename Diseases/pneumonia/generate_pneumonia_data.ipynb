{
 "cells": [
  {
   "cell_type": "markdown",
   "metadata": {},
   "source": [
    "# Paper: Modelling and optimal control of pneumonia disease with cost-effective strategies"
   ]
  },
  {
   "cell_type": "code",
   "execution_count": null,
   "metadata": {},
   "outputs": [],
   "source": [
    "import numpy as np\n",
    "from scipy.integrate import odeint\n",
    "import matplotlib.pyplot as plt"
   ]
  },
  {
   "cell_type": "code",
   "execution_count": null,
   "metadata": {},
   "outputs": [],
   "source": [
    "# Initial conditions\n",
    "S0 = 8200\n",
    "V0 = 2800 \n",
    "C0 = 200 \n",
    "I0 = 210\n",
    "R0 = 200\n",
    "\n",
    "# A grid of time points (in days)\n",
    "t = np.linspace(0, 100, 50) \n",
    "\n",
    "#parameters\n",
    "pi = 0.01\n",
    "lambdda = 0.1\n",
    "k = 0.5\n",
    "epsilon = 0.002\n",
    "tao = 0.89\n",
    "phi = 0.0025\n",
    "chi = 0.001\n",
    "p = 0.2\n",
    "theta = 0.008\n",
    "mu = 0.01\n",
    "alpha = 0.057\n",
    "rho = 0.05\n",
    "beta = 0.0115\n",
    "eta = 0.2\n",
    "q = 0.5\n",
    "delta = 0.1\n",
    "\n",
    "\n",
    "# The SIR model differential equations.\n",
    "def deriv(y, t, pi, lambdda, k ,epsilon ,tao ,phi ,chi ,p ,theta ,mu ,alpha ,rho ,beta ,eta ,q ,delta):\n",
    "    S ,V ,C ,I ,R = y\n",
    "\n",
    "    dSdt = (1-p)*pi + phi*V + delta * R - (mu + lambdda + theta) * S\n",
    "    dVdt = p * pi + theta * S - (mu + epsilon * lambdda + phi) * V\n",
    "    dCdt = rho * lambdda * S + rho*epsilon*lambdda*V + (1-q) * eta * I - (mu + beta + chi) * C\n",
    "    dIdt = (1-rho)*lambdda * S + (1-rho)*epsilon*lambdda*V+chi*C-(mu+alpha+eta)*I\n",
    "    dRdt = beta * C + q*eta*I - (mu + delta)*R\n",
    "\n",
    "    return dSdt  ,dVdt  ,dCdt  ,dIdt  ,dRdt \n",
    "\n",
    "\n",
    "# Initial conditions vector\n",
    "y0 = S0 ,V0 ,C0 ,I0 ,R0\n",
    "# Integrate the SIR equations over the time grid, t.\n",
    "ret = odeint(deriv, y0, t, args=(pi, lambdda, k ,epsilon ,tao ,phi ,chi ,p ,theta ,mu ,alpha ,rho ,beta ,eta ,q ,delta))\n",
    "S ,V ,C ,I ,R  = ret.T\n",
    "\n",
    "# Plot the data on two separate curves for S(t), I(t)\n",
    "fig = plt.figure(facecolor='w')\n",
    "ax = fig.add_subplot(111, facecolor='#dddddd', axisbelow=True)\n",
    "ax.plot(t, S, 'violet', alpha=0.5, lw=2, label='S', linestyle='dashed')\n",
    "ax.plot(t, V, 'darkgreen', alpha=0.5, lw=2, label='V', linestyle='dashed')\n",
    "ax.plot(t, C, 'blue', alpha=0.5, lw=2, label='C', linestyle='dashed')\n",
    "ax.plot(t, I, 'black', alpha=0.5, lw=2, label='I', linestyle='dashed')\n",
    "ax.plot(t, R, 'red', alpha=0.5, lw=2, label='R', linestyle='dashed')\n",
    "\n",
    "ax.set_xlabel('Time /days')\n",
    "ax.yaxis.set_tick_params(length=0)\n",
    "ax.xaxis.set_tick_params(length=0)\n",
    "ax.grid(b=True, which='major', c='w', lw=2, ls='-')\n",
    "legend = ax.legend()\n",
    "legend.get_frame().set_alpha(0.5)\n",
    "for spine in ('top', 'right', 'bottom', 'left'):\n",
    "    ax.spines[spine].set_visible(False)\n",
    "plt.show()"
   ]
  },
  {
   "cell_type": "code",
   "execution_count": null,
   "metadata": {},
   "outputs": [],
   "source": [
    "#save to csv file\n",
    "a = np.asarray([t, S ,V ,C ,I, R]) \n",
    "\n",
    "# np.savetxt(\"pneumonia.csv\", a, delimiter=\",\")"
   ]
  },
  {
   "cell_type": "code",
   "execution_count": null,
   "metadata": {},
   "outputs": [],
   "source": []
  }
 ],
 "metadata": {
  "kernelspec": {
   "display_name": "Python 3.7.3 64-bit ('base': conda)",
   "name": "python373jvsc74a57bd0f0396a0f98e081442f6005f4438dae70905c4dba32e635697d7a979ca5a56ea2"
  },
  "language_info": {
   "codemirror_mode": {
    "name": "ipython",
    "version": 3
   },
   "file_extension": ".py",
   "mimetype": "text/x-python",
   "name": "python",
   "nbconvert_exporter": "python",
   "pygments_lexer": "ipython3",
   "version": "3.7.3"
  },
  "orig_nbformat": 2
 },
 "nbformat": 4,
 "nbformat_minor": 2
}