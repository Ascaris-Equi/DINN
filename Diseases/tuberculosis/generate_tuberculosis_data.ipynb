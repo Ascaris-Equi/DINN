{
 "cells": [
  {
   "cell_type": "markdown",
   "metadata": {},
   "source": [
    "# Paper: To treat or not to treat: the case of tuberculosis"
   ]
  },
  {
   "cell_type": "code",
   "execution_count": null,
   "metadata": {},
   "outputs": [],
   "source": [
    "import numpy as np\n",
    "from scipy.integrate import odeint\n",
    "import matplotlib.pyplot as plt"
   ]
  },
  {
   "cell_type": "code",
   "execution_count": null,
   "metadata": {},
   "outputs": [],
   "source": [
    "# Initial conditions\n",
    "S0 = 1000\n",
    "L0 = 0\n",
    "I0 = 1\n",
    "T0 = 0\n",
    "N = 1001 #S0 + L0 + I0 + T0\n",
    "\n",
    "# A grid of time points (in days)\n",
    "t = np.linspace(0, 40, 50) \n",
    "\n",
    "#parameters\n",
    "delta  = 500\n",
    "beta = 13\n",
    "c = 1\n",
    "mu = 0.143\n",
    "k = 0.5\n",
    "r_1 = 2 \n",
    "r_2 = 1\n",
    "beta_prime = 13\n",
    "d = 0\n",
    "\n",
    "# The SIR model differential equations.\n",
    "def deriv(y, t, N, delta  ,beta ,c ,mu ,k ,r_1 ,r_2 ,beta_prime,d ):\n",
    "    S, L, I, T= y\n",
    "\n",
    "    dSdt = delta - beta * c * S * I / N - mu * S\n",
    "    dLdt = beta * c * S * I / N - (mu + k + r_1) * L + beta_prime * c * T * 1/N\n",
    "    dIdt = k*L - (mu + d) * I - r_2 * I\n",
    "    dTdt = r_1 * L + r_2 * I - beta_prime * c * T * 1/N - mu*T\n",
    "\n",
    "    return dSdt, dLdt, dIdt, dTdt\n",
    "\n",
    "\n",
    "# Initial conditions vector\n",
    "y0 = S0, L0, I0, T0\n",
    "# Integrate the SIR equations over the time grid, t.\n",
    "ret = odeint(deriv, y0, t, args=(N, delta  ,beta ,c ,mu ,k ,r_1 ,r_2 ,beta_prime,d ))\n",
    "S, L, I, T = ret.T\n",
    "\n",
    "# Plot the data on two separate curves for S(t), I(t)\n",
    "fig = plt.figure(facecolor='w')\n",
    "ax = fig.add_subplot(111, facecolor='#dddddd', axisbelow=True)\n",
    "ax.plot(t, S, 'violet', alpha=0.5, lw=2, label='S', linestyle='dashed')\n",
    "ax.plot(t, L, 'darkgreen', alpha=0.5, lw=2, label='L', linestyle='dashed')\n",
    "ax.plot(t, I, 'blue', alpha=0.5, lw=2, label='I', linestyle='dashed')\n",
    "ax.plot(t, T, 'black', alpha=0.5, lw=2, label='I', linestyle='dashed')\n",
    "\n",
    "ax.set_xlabel('Time /days')\n",
    "ax.yaxis.set_tick_params(length=0)\n",
    "ax.xaxis.set_tick_params(length=0)\n",
    "ax.grid(b=True, which='major', c='w', lw=2, ls='-')\n",
    "legend = ax.legend()\n",
    "legend.get_frame().set_alpha(0.5)\n",
    "for spine in ('top', 'right', 'bottom', 'left'):\n",
    "    ax.spines[spine].set_visible(False)\n",
    "plt.show()"
   ]
  },
  {
   "cell_type": "code",
   "execution_count": null,
   "metadata": {},
   "outputs": [],
   "source": [
    "#save to csv file\n",
    "a = np.asarray([t, S, L, I, T]) \n",
    "\n",
    "# np.savetxt(\"tuberculosis.csv\", a, delimiter=\",\")"
   ]
  },
  {
   "cell_type": "code",
   "execution_count": null,
   "metadata": {},
   "outputs": [],
   "source": []
  }
 ],
 "metadata": {
  "kernelspec": {
   "display_name": "Python 3.7.3 64-bit ('base': conda)",
   "name": "python373jvsc74a57bd0f0396a0f98e081442f6005f4438dae70905c4dba32e635697d7a979ca5a56ea2"
  },
  "language_info": {
   "codemirror_mode": {
    "name": "ipython",
    "version": 3
   },
   "file_extension": ".py",
   "mimetype": "text/x-python",
   "name": "python",
   "nbconvert_exporter": "python",
   "pygments_lexer": "ipython3",
   "version": "3.7.3"
  },
  "orig_nbformat": 2
 },
 "nbformat": 4,
 "nbformat_minor": 2
}