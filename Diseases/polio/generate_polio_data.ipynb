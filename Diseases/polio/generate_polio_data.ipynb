{
 "cells": [
  {
   "cell_type": "markdown",
   "metadata": {},
   "source": [
    "# Paper: Modeling polio as a disease of development"
   ]
  },
  {
   "cell_type": "code",
   "execution_count": null,
   "metadata": {},
   "outputs": [],
   "source": [
    "import numpy as np\n",
    "from scipy.integrate import odeint\n",
    "import matplotlib.pyplot as plt"
   ]
  },
  {
   "cell_type": "code",
   "execution_count": null,
   "metadata": {},
   "outputs": [],
   "source": [
    "# Initial conditions\n",
    "Sc0 = 0.0355 * 1000\n",
    "Sa0 = 0.3550 * 1000\n",
    "Ic0 = 0.0003 * 1000\n",
    "Ia0 = 0 * 1000\n",
    "Rc0 = 0.0554 * 1000\n",
    "Ra0 = 0.5538 * 1000\n",
    "Na = Sa0 + Ia0 + Ra0\n",
    "Nc = Sc0 + Ic0 + Rc0\n",
    "N = Nc + Na \n",
    "\n",
    "# A grid of time points (in days)\n",
    "t = np.linspace(0, 40, 50) \n",
    "\n",
    "#parameters\n",
    "mu = 0.02\n",
    "alpha = 0.5\n",
    "gamma_a = 18\n",
    "gamma_c = 36\n",
    "beta_aa = 40\n",
    "beta_cc = 90\n",
    "beta_ac = 0\n",
    "beta_ca = 0\n",
    "\n",
    "\n",
    "# The SIR model differential equations.\n",
    "def deriv(y, t, N, Nc, Na, mu ,alpha ,gamma_a ,gamma_c ,beta_aa ,beta_cc ,beta_ac ,beta_ca):\n",
    "    Sc  ,Sa  ,Ic  ,Ia  ,Rc  ,Ra = y\n",
    " \n",
    "    dScdt = mu*N - (alpha+mu+(beta_cc/Nc) *Ic + (beta_ca/Nc) *Ia) * Sc\n",
    "    dSadt = alpha*Sc - (mu + (beta_aa/Na)*Ia + (beta_ac/Na)*Ic)*Sa\n",
    "    dIcdt = ((beta_cc/Nc)*Ic + (beta_ca/Nc)*Ia)*Sc - (gamma_c+alpha+mu)*Ic\n",
    "    dIadt = ((beta_ac/Na)*Ic + (beta_aa/Na)*Ia)*Sa - (gamma_a+mu)*Ia +alpha*Ic\n",
    "    dRcdt = gamma_c*Ic - mu*Rc - alpha*Rc\n",
    "    dRadt = gamma_a*Ia - mu*Ra + alpha*Rc\n",
    "\n",
    "    return  dScdt  ,dSadt  ,dIcdt  ,dIadt  ,dRcdt  ,dRadt \n",
    "\n",
    "\n",
    "# Initial conditions vector\n",
    "y0 = Sc0  ,Sa0  ,Ic0  ,Ia0  ,Rc0  ,Ra0 \n",
    "# Integrate the SIR equations over the time grid, t.\n",
    "ret = odeint(deriv, y0, t, args=(N, Nc, Na, mu ,alpha ,gamma_a ,gamma_c ,beta_aa ,beta_cc ,beta_ac ,beta_ca))\n",
    "Sc  ,Sa  ,Ic  ,Ia  ,Rc  ,Ra  = ret.T\n",
    "\n",
    "# Plot the data on two separate curves for S(t), I(t)\n",
    "fig = plt.figure(facecolor='w')\n",
    "ax = fig.add_subplot(111, facecolor='#dddddd', axisbelow=True)\n",
    "\n",
    "ax.plot(t, Sc, 'violet', alpha=0.5, lw=2, label='Sc', linestyle='dashed')\n",
    "ax.plot(t, Sa, 'black', alpha=0.5, lw=2, label='Sa', linestyle='dashed')\n",
    "ax.plot(t, Ic, 'darkgreen', alpha=0.5, lw=2, label='Ic', linestyle='dashed')\n",
    "ax.plot(t, Ia, 'blue', alpha=0.5, lw=2, label='Ia', linestyle='dashed')\n",
    "ax.plot(t, Rc, 'yellow', alpha=0.5, lw=2, label='Rc', linestyle='dashed')\n",
    "ax.plot(t, Ra, 'red', alpha=0.5, lw=2, label='Ra', linestyle='dashed')\n",
    "\n",
    "ax.set_xlabel('Time /days')\n",
    "ax.yaxis.set_tick_params(length=0)\n",
    "ax.xaxis.set_tick_params(length=0)\n",
    "ax.grid(b=True, which='major', c='w', lw=2, ls='-')\n",
    "legend = ax.legend()\n",
    "legend.get_frame().set_alpha(0.5)\n",
    "for spine in ('top', 'right', 'bottom', 'left'):\n",
    "    ax.spines[spine].set_visible(False)\n",
    "plt.show()"
   ]
  },
  {
   "cell_type": "code",
   "execution_count": null,
   "metadata": {},
   "outputs": [],
   "source": [
    "#save to csv file\n",
    "a = np.asarray([t, Sc  ,Sa  ,Ic  ,Ia  ,Rc  ,Ra]) \n",
    "\n",
    "# np.savetxt(\"polio.csv\", a, delimiter=\",\")"
   ]
  },
  {
   "cell_type": "code",
   "execution_count": null,
   "metadata": {},
   "outputs": [],
   "source": []
  }
 ],
 "metadata": {
  "kernelspec": {
   "display_name": "Python 3.7.3 64-bit ('base': conda)",
   "name": "python373jvsc74a57bd0f0396a0f98e081442f6005f4438dae70905c4dba32e635697d7a979ca5a56ea2"
  },
  "language_info": {
   "codemirror_mode": {
    "name": "ipython",
    "version": 3
   },
   "file_extension": ".py",
   "mimetype": "text/x-python",
   "name": "python",
   "nbconvert_exporter": "python",
   "pygments_lexer": "ipython3",
   "version": "3.7.3"
  },
  "orig_nbformat": 2
 },
 "nbformat": 4,
 "nbformat_minor": 2
}