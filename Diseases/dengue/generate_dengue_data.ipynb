{
 "cells": [
  {
   "cell_type": "markdown",
   "metadata": {},
   "source": [
    "# Paper: Backward bifurcations in dengue transmission dynamics"
   ]
  },
  {
   "cell_type": "code",
   "execution_count": null,
   "metadata": {},
   "outputs": [],
   "source": [
    "import numpy as np\n",
    "from scipy.integrate import odeint\n",
    "import matplotlib.pyplot as plt"
   ]
  },
  {
   "cell_type": "code",
   "execution_count": null,
   "metadata": {},
   "outputs": [],
   "source": [
    "# Initial conditions\n",
    "\n",
    "Sh0 = 100\n",
    "Eh0 = 0\n",
    "Ih = 0\n",
    "Rh0 = 0\n",
    "Sv0 = 1\n",
    "Ev0 = 0 \n",
    "Iv0 = 0\n",
    "\n",
    "# A grid of time points (in days)\n",
    "t = np.linspace(0, 200, 50) \n",
    "\n",
    "#parameters\n",
    "pi_h = 10\n",
    "pi_v = 30\n",
    "lambdda_h = 0.05530\n",
    "lambdda_v = 0.05\n",
    "delta_h = 0.99\n",
    "delta_v = 0.057\n",
    "mu_h = 0.0195\n",
    "mu_v = 0.016\n",
    "sigma_h = 0.53\n",
    "sigma_v = 0.2\n",
    "tao_h = 0.1\n",
    "\n",
    "\n",
    "# The SIR model differential equations.\n",
    "def deriv(y, t, pi_h ,pi_v ,lambdda_h ,lambdda_v ,delta_h ,delta_v ,mu_h ,mu_v ,sigma_h ,sigma_v ,tao_h):\n",
    "    Sh ,Eh ,Ih ,Rh ,Sv ,Ev ,Iv = y\n",
    "    dShdt = pi_h - lambdda_h * Sh - mu_h * Sh\n",
    "    dEhdt = lambdda_h * Sh - (sigma_h * mu_h) * Eh\n",
    "    dIhdt = sigma_h * Eh - (tao_h + mu_h + delta_h) * Ih\n",
    "    dRhdt = tao_h * Ih - mu_h * Rh\n",
    "    dSvdt = pi_v - delta_v * Sv - mu_v * Sv\n",
    "    dEvdt = delta_v * Sv - (sigma_v + mu_v) * Ev\n",
    "    dIvdt = sigma_v * Ev - (mu_v + delta_v) * Iv\n",
    "\n",
    "    return dShdt,dEhdt,dIhdt,dRhdt,dSvdt,dEvdt, dIvdt\n",
    "\n",
    "\n",
    "# Initial conditions vector\n",
    "y0 = Sh0 ,Eh0 ,Ih ,Rh0 ,Sv0 ,Ev0 ,Iv0\n",
    "# Integrate the SIR equations over the time grid, t.\n",
    "ret = odeint(deriv, y0, t, args=(pi_h ,pi_v ,lambdda_h ,lambdda_v ,delta_h ,delta_v ,mu_h ,mu_v ,sigma_h ,sigma_v ,tao_h))\n",
    "Sh ,Eh ,Ih ,Rh ,Sv ,Ev ,Iv = ret.T\n",
    "\n",
    "# Plot the data on two separate curves for S(t), I(t)\n",
    "fig = plt.figure(facecolor='w')\n",
    "ax = fig.add_subplot(111, facecolor='#dddddd', axisbelow=True)\n",
    "ax.plot(t, Sh, 'violet', alpha=0.5, lw=2, label='Sh', linestyle='dashed')\n",
    "ax.plot(t, Eh, 'darkgreen', alpha=0.5, lw=2, label='Eh', linestyle='dashed')\n",
    "ax.plot(t, Ih, 'blue', alpha=0.5, lw=2, label='Ih1', linestyle='dashed')\n",
    "ax.plot(t, Rh, 'teal', alpha=0.5, lw=2, label='Rh', linestyle='dashed')\n",
    "ax.plot(t, Sv, 'black', alpha=0.5, lw=2, label='Sv', linestyle='dashed')\n",
    "ax.plot(t, Ev, 'green', alpha=0.5, lw=2, label='Ev', linestyle='dashed')\n",
    "ax.plot(t, Iv, 'purple', alpha=0.5, lw=2, label='Iv', linestyle='dashed')\n",
    "ax.set_xlabel('Time /days')\n",
    "ax.yaxis.set_tick_params(length=0)\n",
    "ax.xaxis.set_tick_params(length=0)\n",
    "ax.grid(b=True, which='major', c='w', lw=2, ls='-')\n",
    "legend = ax.legend()\n",
    "legend.get_frame().set_alpha(0.5)\n",
    "for spine in ('top', 'right', 'bottom', 'left'):\n",
    "    ax.spines[spine].set_visible(False)\n",
    "plt.show()"
   ]
  },
  {
   "cell_type": "code",
   "execution_count": null,
   "metadata": {},
   "outputs": [],
   "source": [
    "#save to csv file\n",
    "a = np.asarray([t, Sh ,Eh ,Ih ,Rh ,Sv ,Ev ,Iv]) \n",
    "\n",
    "# np.savetxt(\"dengue.csv\", a, delimiter=\",\")"
   ]
  },
  {
   "cell_type": "code",
   "execution_count": null,
   "metadata": {},
   "outputs": [],
   "source": []
  }
 ],
 "metadata": {
  "kernelspec": {
   "display_name": "Python 3.7.3 64-bit ('base': conda)",
   "name": "python373jvsc74a57bd0f0396a0f98e081442f6005f4438dae70905c4dba32e635697d7a979ca5a56ea2"
  },
  "language_info": {
   "codemirror_mode": {
    "name": "ipython",
    "version": 3
   },
   "file_extension": ".py",
   "mimetype": "text/x-python",
   "name": "python",
   "nbconvert_exporter": "python",
   "pygments_lexer": "ipython3",
   "version": "3.7.3"
  },
  "orig_nbformat": 2
 },
 "nbformat": 4,
 "nbformat_minor": 2
}