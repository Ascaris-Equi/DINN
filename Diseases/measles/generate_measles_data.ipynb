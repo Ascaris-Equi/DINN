{
 "cells": [
  {
   "cell_type": "markdown",
   "metadata": {},
   "source": [
    "# Paper: Space, persistence and dynamics of measles epidemics"
   ]
  },
  {
   "cell_type": "code",
   "execution_count": null,
   "metadata": {},
   "outputs": [],
   "source": [
    "import numpy as np\n",
    "from scipy.integrate import odeint\n",
    "import matplotlib.pyplot as plt"
   ]
  },
  {
   "cell_type": "code",
   "execution_count": null,
   "metadata": {},
   "outputs": [],
   "source": [
    "# Initial conditions\n",
    "S0 = 5e4\n",
    "E0 = 0\n",
    "I0 = 1\n",
    "N = S0 + E0 + I0\n",
    "print(N)\n",
    "\n",
    "# A grid of time points (in days)\n",
    "t = np.linspace(0, 10, 50) \n",
    "\n",
    "#parameters\n",
    "mu = 0.02\n",
    "beta0 = 0.0010107 * N\n",
    "beta1 = 0.28 \n",
    "gamma = 100\n",
    "sigma = 35.84\n",
    "\n",
    "# The SIR model differential equations.\n",
    "def deriv(y, t, N, mu, beta0, beta1, gamma, sigma):\n",
    "    S, E, I = y\n",
    "    beta = beta0 * (1 + beta1 * np.cos(2 * np.pi * t))\n",
    "\n",
    "    dSdt = mu * (N - S) - (beta * S * I)/N\n",
    "    dEdt = (beta * S * I)/N - (mu * sigma) * E\n",
    "    dIdt = sigma * E - (mu + gamma) * I\n",
    "\n",
    "    return dSdt, dEdt, dIdt\n",
    "\n",
    "\n",
    "# Initial conditions vector\n",
    "y0 = S0, E0, I0\n",
    "# Integrate the SIR equations over the time grid, t.\n",
    "ret = odeint(deriv, y0, t, args=(N, mu, beta0, beta1, gamma, sigma))\n",
    "S, E, I = ret.T\n",
    "\n",
    "# Plot the data on two separate curves for S(t), I(t)\n",
    "fig = plt.figure(facecolor='w')\n",
    "ax = fig.add_subplot(111, facecolor='#dddddd', axisbelow=True)\n",
    "ax.plot(t, S, 'violet', alpha=0.5, lw=2, label='S', linestyle='dashed')\n",
    "ax.plot(t, E, 'darkgreen', alpha=0.5, lw=2, label='E', linestyle='dashed')\n",
    "ax.plot(t, I, 'blue', alpha=0.5, lw=2, label='I', linestyle='dashed')\n",
    "\n",
    "ax.set_xlabel('Time /days')\n",
    "ax.yaxis.set_tick_params(length=0)\n",
    "ax.xaxis.set_tick_params(length=0)\n",
    "ax.grid(b=True, which='major', c='w', lw=2, ls='-')\n",
    "legend = ax.legend()\n",
    "legend.get_frame().set_alpha(0.5)\n",
    "for spine in ('top', 'right', 'bottom', 'left'):\n",
    "    ax.spines[spine].set_visible(False)\n",
    "plt.show()"
   ]
  },
  {
   "cell_type": "code",
   "execution_count": null,
   "metadata": {},
   "outputs": [],
   "source": [
    "#save to csv file\n",
    "a = np.asarray([t, S, E, I]) \n",
    "\n",
    "# np.savetxt(\"measles.csv\", a, delimiter=\",\")"
   ]
  },
  {
   "cell_type": "code",
   "execution_count": null,
   "metadata": {},
   "outputs": [],
   "source": []
  }
 ],
 "metadata": {
  "kernelspec": {
   "display_name": "Python 3.7.3 64-bit ('base': conda)",
   "name": "python373jvsc74a57bd0f0396a0f98e081442f6005f4438dae70905c4dba32e635697d7a979ca5a56ea2"
  },
  "language_info": {
   "codemirror_mode": {
    "name": "ipython",
    "version": 3
   },
   "file_extension": ".py",
   "mimetype": "text/x-python",
   "name": "python",
   "nbconvert_exporter": "python",
   "pygments_lexer": "ipython3",
   "version": "3.7.3"
  },
  "orig_nbformat": 2
 },
 "nbformat": 4,
 "nbformat_minor": 2
}