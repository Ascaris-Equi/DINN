{
 "cells": [
  {
   "cell_type": "markdown",
   "metadata": {},
   "source": [
    "# Paper: Understanding the dynamic of ebola epidemics"
   ]
  },
  {
   "cell_type": "code",
   "execution_count": null,
   "metadata": {},
   "outputs": [],
   "source": [
    "import numpy as np\n",
    "from scipy.integrate import odeint\n",
    "import matplotlib.pyplot as plt"
   ]
  },
  {
   "cell_type": "code",
   "execution_count": null,
   "metadata": {},
   "outputs": [],
   "source": [
    "# Initial conditions\n",
    "E0 = 0\n",
    "I0 = 425\n",
    "H0 = 0\n",
    "F0 = 0\n",
    "R0 = 0\n",
    "N = 470000\n",
    "S0 = N - I0\n",
    "\n",
    "# A grid of time points (in days)\n",
    "t = np.linspace(0, 100, 100) \n",
    "\n",
    "#parameters\n",
    "beta1 = 3.532\n",
    "beta_h = 0.012\n",
    "beta_f = 0.462\n",
    "alpha = 1/12\n",
    "gamma_h = 1/4.2\n",
    "theta1 = 0.65\n",
    "gamma_i = 1/10\n",
    "delta1 = 0.47\n",
    "gamma_d = 1/8\n",
    "delta2 = 0.42\n",
    "gamma_f = 1/2\n",
    "gamma_ih  = 1 / ( (1/gamma_d) + (1/gamma_h))\n",
    "gamma_dh = 1 / ( (1/gamma_i) + (1/gamma_h))\n",
    "print(gamma_ih)\n",
    "print(gamma_dh)\n",
    "# The SIR model differential equations.\n",
    "def deriv(y, t, N, beta1, beta_h, beta_f, alpha, gamma_h, theta1, gamma_i, delta1, gamma_d, delta2, gamma_f, gamma_ih , gamma_dh):\n",
    "    S, E, I, H, F, R  = y\n",
    "    dSdt = -1/N * (beta1 * S * I + beta_h * S * H + beta_f * S * F)\n",
    "    dEdt = 1/N * (beta1 * S * I + beta_h * S * H + beta_f * S * F) - alpha * E\n",
    "    dIdt = alpha * E - (gamma_h * theta1 + gamma_i * (1-theta1)*(1-delta1) + gamma_d * (1-theta1) * delta1) * I\n",
    "    dHdt = gamma_h * theta1 * I - (gamma_dh * delta2 + gamma_ih * (1-delta2)) * H\n",
    "    dFdt = gamma_d * (1-theta1) * delta1 * I + gamma_dh * delta2 * H - gamma_f * F\n",
    "    dRdt = gamma_i * (1-theta1) * (1-delta1) * I + gamma_ih * (1-delta2) * H + gamma_f * F\n",
    "\n",
    "    return dSdt, dEdt, dIdt, dHdt, dFdt, dRdt\n",
    "\n",
    "\n",
    "# Initial conditions vector\n",
    "y0 = S0, E0, I0, H0, F0, R0\n",
    "# Integrate the SIR equations over the time grid, t.\n",
    "ret = odeint(deriv, y0, t, args=(N, beta1, beta_h, beta_f, alpha, gamma_h, theta1, gamma_i, delta1, gamma_d, delta2, gamma_f, gamma_ih , gamma_dh))\n",
    "S, E, I, H, F, R = ret.T\n",
    "\n",
    "# Plot the data on two separate curves for S(t), I(t)\n",
    "fig = plt.figure(facecolor='w')\n",
    "ax = fig.add_subplot(111, facecolor='#dddddd', axisbelow=True)\n",
    "ax.plot(t, S, 'violet', alpha=0.5, lw=2, label='S', linestyle='dashed')\n",
    "ax.plot(t, E, 'darkgreen', alpha=0.5, lw=2, label='E', linestyle='dashed')\n",
    "ax.plot(t, I, 'blue', alpha=0.5, lw=2, label='I', linestyle='dashed')\n",
    "ax.plot(t, H, 'red', alpha=0.5, lw=2, label='H', linestyle='dashed')\n",
    "ax.plot(t, F, 'black', alpha=0.5, lw=2, label='F', linestyle='dashed')\n",
    "ax.plot(t, R, 'teal', alpha=0.5, lw=2, label='R', linestyle='dashed')\n",
    "ax.set_xlabel('Time /days')\n",
    "ax.yaxis.set_tick_params(length=0)\n",
    "ax.xaxis.set_tick_params(length=0)\n",
    "ax.grid(b=True, which='major', c='w', lw=2, ls='-')\n",
    "legend = ax.legend()\n",
    "legend.get_frame().set_alpha(0.5)\n",
    "for spine in ('top', 'right', 'bottom', 'left'):\n",
    "    ax.spines[spine].set_visible(False)\n",
    "plt.show()"
   ]
  },
  {
   "cell_type": "code",
   "execution_count": null,
   "metadata": {},
   "outputs": [],
   "source": [
    "#save to csv file\n",
    "a = np.asarray([t, S, E, I, H, F, R]) \n",
    "\n",
    "#np.savetxt(\"ebola.csv\", a, delimiter=\",\")"
   ]
  },
  {
   "cell_type": "code",
   "execution_count": null,
   "metadata": {},
   "outputs": [],
   "source": []
  }
 ],
 "metadata": {
  "kernelspec": {
   "display_name": "Python 3.7.3 64-bit ('base': conda)",
   "name": "python373jvsc74a57bd0f0396a0f98e081442f6005f4438dae70905c4dba32e635697d7a979ca5a56ea2"
  },
  "language_info": {
   "codemirror_mode": {
    "name": "ipython",
    "version": 3
   },
   "file_extension": ".py",
   "mimetype": "text/x-python",
   "name": "python",
   "nbconvert_exporter": "python",
   "pygments_lexer": "ipython3",
   "version": "3.7.3"
  },
  "orig_nbformat": 2
 },
 "nbformat": 4,
 "nbformat_minor": 2
}