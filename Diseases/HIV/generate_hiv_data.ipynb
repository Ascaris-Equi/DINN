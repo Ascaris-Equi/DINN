{
 "cells": [
  {
   "cell_type": "markdown",
   "metadata": {},
   "source": [
    "# Paper: Dynamics of HIV infection of CD4+ T cells"
   ]
  },
  {
   "cell_type": "code",
   "execution_count": null,
   "metadata": {},
   "outputs": [],
   "source": [
    "import numpy as np\n",
    "from scipy.integrate import odeint\n",
    "import matplotlib.pyplot as plt"
   ]
  },
  {
   "cell_type": "code",
   "execution_count": null,
   "metadata": {},
   "outputs": [],
   "source": [
    "# Initial conditions\n",
    "T0 = 1000\n",
    "I0 = 10\n",
    "V0 = 10e-3\n",
    "\n",
    "# A grid of time points (in days)\n",
    "t = np.linspace(0, 20, 50) \n",
    "\n",
    "#parameters\n",
    "s = 10\n",
    "mu_T = 0.02\n",
    "mu_I = 0.26\n",
    "mu_b = 0.24\n",
    "mu_V = 2.4\n",
    "r = 0.03\n",
    "N = 250\n",
    "T_max = 1500\n",
    "k1 = 2.4*10e-5\n",
    "k1_prime = 2*10e-5\n",
    "\n",
    "\n",
    "# The SIR model differential equations.\n",
    "def deriv(y, t, s, mu_T, mu_V, mu_b, r, N, T_max, k1, k1_prime):\n",
    "    T, I, V = y\n",
    "    dTdt = s - mu_T * T + r * T * (1 - ((T + I) / T_max) - k1 * V * T)\n",
    "    dIdt = k1_prime * V * T - mu_I * I\n",
    "    dVdt = N * mu_b * I - k1 * V * T - mu_V * V\n",
    "\n",
    "    return dTdt, dIdt, dVdt\n",
    "\n",
    "\n",
    "# Initial conditions vector\n",
    "y0 = T0, I0, V0\n",
    "# Integrate the SIR equations over the time grid, t.\n",
    "ret = odeint(deriv, y0, t, args=(s, mu_T, mu_V, mu_b, r, N, T_max, k1, k1_prime))\n",
    "T, I, V = ret.T\n",
    "\n",
    "# Plot the data on two separate curves for S(t), I(t)\n",
    "fig = plt.figure(facecolor='w')\n",
    "ax = fig.add_subplot(111, facecolor='#dddddd', axisbelow=True)\n",
    "ax.plot(t, T, 'violet', alpha=0.5, lw=2, label='T', linestyle='dashed')\n",
    "ax.plot(t, I, 'darkgreen', alpha=0.5, lw=2, label='I', linestyle='dashed')\n",
    "ax.plot(t, V, 'blue', alpha=0.5, lw=2, label='V', linestyle='dashed')\n",
    "ax.set_xlabel('Time /days')\n",
    "ax.yaxis.set_tick_params(length=0)\n",
    "ax.xaxis.set_tick_params(length=0)\n",
    "ax.grid(b=True, which='major', c='w', lw=2, ls='-')\n",
    "legend = ax.legend()\n",
    "legend.get_frame().set_alpha(0.5)\n",
    "for spine in ('top', 'right', 'bottom', 'left'):\n",
    "    ax.spines[spine].set_visible(False)\n",
    "plt.show()"
   ]
  },
  {
   "cell_type": "code",
   "execution_count": null,
   "metadata": {},
   "outputs": [],
   "source": [
    "#save to csv file\n",
    "a = np.asarray([t, T, I, V]) \n",
    "\n",
    "#np.savetxt(\"hiv.csv\", a, delimiter=\",\")"
   ]
  },
  {
   "cell_type": "code",
   "execution_count": null,
   "metadata": {},
   "outputs": [],
   "source": []
  }
 ],
 "metadata": {
  "kernelspec": {
   "display_name": "Python 3.7.3 64-bit ('base': conda)",
   "name": "python373jvsc74a57bd0f0396a0f98e081442f6005f4438dae70905c4dba32e635697d7a979ca5a56ea2"
  },
  "language_info": {
   "codemirror_mode": {
    "name": "ipython",
    "version": 3
   },
   "file_extension": ".py",
   "mimetype": "text/x-python",
   "name": "python",
   "nbconvert_exporter": "python",
   "pygments_lexer": "ipython3",
   "version": "3.7.3"
  },
  "orig_nbformat": 2
 },
 "nbformat": 4,
 "nbformat_minor": 2
}