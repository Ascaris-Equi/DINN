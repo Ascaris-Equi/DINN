{
 "cells": [
  {
   "cell_type": "markdown",
   "metadata": {},
   "source": [
    "# Paper: A Mathematical Model of Anthrax Transmission in Animal Populations"
   ]
  },
  {
   "cell_type": "code",
   "execution_count": null,
   "metadata": {},
   "outputs": [],
   "source": [
    "import numpy as np\n",
    "from scipy.integrate import odeint\n",
    "import matplotlib.pyplot as plt"
   ]
  },
  {
   "cell_type": "code",
   "execution_count": null,
   "metadata": {},
   "outputs": [],
   "source": [
    "# Initial conditions\n",
    "\n",
    "S0 = 20\n",
    "I0 = 3\n",
    "A0 = 0\n",
    "C0 = 0\n",
    "\n",
    "# A grid of time points (in days)\n",
    "t = np.linspace(0, 4000, 100) \n",
    "\n",
    "#parameters\n",
    "r = 1/300\n",
    "mu = 1/600\n",
    "kappa = 1/10\n",
    "eta_a = 1/2\n",
    "eta_c = 1/10\n",
    "eta_i = 1/100\n",
    "tao = 1/10\n",
    "gamma = 1/7\n",
    "delta = 1/20\n",
    "K = 100\n",
    "beta = 1/500\n",
    "sigma = 1/10\n",
    "\n",
    "# The SIR model differential equations.\n",
    "def deriv(y, t, r ,mu ,kappa ,eta_a ,eta_c ,eta_i ,tao ,gamma ,delta ,K ,beta ,sigma ):\n",
    "    S, I, A, C = y\n",
    "\n",
    "    dSdt = r * (S + I) * (1 - (S + I)/K) - eta_a * A * S - eta_c * S * C - eta_i * (S * I)/(S + I) - mu * S + tao * I\n",
    "    dIdt = eta_a * A * S + eta_c * S * C + (eta_i * (S * I)/(S + I) - (gamma + mu + tao)) * I\n",
    "    dAdt = -sigma * A + beta * C\n",
    "    dCdt = (gamma + mu) * I - delta * (S + I) * C - kappa * C\n",
    "    \n",
    "    return dSdt, dIdt, dAdt, dCdt\n",
    "\n",
    "\n",
    "# Initial conditions vector\n",
    "y0 = S0, I0, A0, C0\n",
    "# Integrate the SIR equations over the time grid, t.\n",
    "ret = odeint(deriv, y0, t, args=(r ,mu ,kappa ,eta_a ,eta_c ,eta_i ,tao ,gamma ,delta ,K ,beta ,sigma ))\n",
    "S, I, A, C = ret.T\n",
    "\n",
    "# Plot the data on two separate curves for S(t), I(t)\n",
    "fig = plt.figure(facecolor='w')\n",
    "ax = fig.add_subplot(111, facecolor='#dddddd', axisbelow=True)\n",
    "ax.plot(t, S, 'violet', alpha=0.5, lw=2, label='Sh', linestyle='dashed')\n",
    "ax.plot(t, I, 'blue', alpha=0.5, lw=2, label='I', linestyle='dashed')\n",
    "ax.plot(t, A, 'orange', alpha=0.5, lw=2, label='A', linestyle='dashed')\n",
    "ax.plot(t, C, 'red', alpha=0.5, lw=2, label='C', linestyle='dashed')\n",
    "ax.set_xlabel('Time /days')\n",
    "ax.yaxis.set_tick_params(length=0)\n",
    "ax.xaxis.set_tick_params(length=0)\n",
    "ax.grid(b=True, which='major', c='w', lw=2, ls='-')\n",
    "legend = ax.legend()\n",
    "legend.get_frame().set_alpha(0.5)\n",
    "for spine in ('top', 'right', 'bottom', 'left'):\n",
    "    ax.spines[spine].set_visible(False)\n",
    "plt.show()"
   ]
  },
  {
   "cell_type": "code",
   "execution_count": null,
   "metadata": {},
   "outputs": [],
   "source": [
    "#save to csv file\n",
    "a = np.asarray([t, S, I, A, C]) \n",
    "\n",
    "# np.savetxt(\"anthrax.csv\", a, delimiter=\",\")"
   ]
  },
  {
   "cell_type": "code",
   "execution_count": null,
   "metadata": {},
   "outputs": [],
   "source": []
  }
 ],
 "metadata": {
  "kernelspec": {
   "display_name": "Python 3.7.3 64-bit ('base': conda)",
   "name": "python373jvsc74a57bd0f0396a0f98e081442f6005f4438dae70905c4dba32e635697d7a979ca5a56ea2"
  },
  "language_info": {
   "codemirror_mode": {
    "name": "ipython",
    "version": 3
   },
   "file_extension": ".py",
   "mimetype": "text/x-python",
   "name": "python",
   "nbconvert_exporter": "python",
   "pygments_lexer": "ipython3",
   "version": "3.7.3"
  },
  "orig_nbformat": 2
 },
 "nbformat": 4,
 "nbformat_minor": 2
}