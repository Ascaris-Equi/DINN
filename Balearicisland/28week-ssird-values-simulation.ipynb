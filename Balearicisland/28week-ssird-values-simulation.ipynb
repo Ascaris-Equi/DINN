{
 "cells": [
  {
   "cell_type": "code",
   "execution_count": 1,
   "id": "616b7144",
   "metadata": {
    "_cell_guid": "b1076dfc-b9ad-4769-8c92-a6c4dae69d19",
    "_uuid": "8f2839f25d086af736a60e9eeb907d3b93b6e0e5",
    "execution": {
     "iopub.execute_input": "2022-04-23T11:00:23.972157Z",
     "iopub.status.busy": "2022-04-23T11:00:23.971364Z",
     "iopub.status.idle": "2022-04-23T11:00:24.666939Z",
     "shell.execute_reply": "2022-04-23T11:00:24.665917Z"
    },
    "papermill": {
     "duration": 0.708433,
     "end_time": "2022-04-23T11:00:24.670161",
     "exception": false,
     "start_time": "2022-04-23T11:00:23.961728",
     "status": "completed"
    },
    "tags": []
   },
   "outputs": [],
   "source": [
    "import numpy as np\n",
    "from scipy.integrate import odeint\n",
    "import matplotlib.pyplot as plt# 设置区\n",
    "# 初始条件设定\n",
    "N = 12111 #总人口\n",
    "S0 = N - 1 #假设每个人一开始都是易感的，除了 1 人被感染\n",
    "I0 = 1 \n",
    "D0 = 0\n",
    "R0 = 0\n",
    "\n",
    "# 形成时间点网络，0-3000天均分100份\n",
    "t = np.linspace(0, 100, 100) \n",
    "\n",
    "# 参数设定 (可以参考文献或者自己训练)\n",
    "alpha = 0.0689\n",
    "beta = 0.4760\n",
    "gamma = 0.2372"
   ]
  },
  {
   "cell_type": "code",
   "execution_count": 2,
   "id": "58625337",
   "metadata": {
    "execution": {
     "iopub.execute_input": "2022-04-23T11:00:24.684223Z",
     "iopub.status.busy": "2022-04-23T11:00:24.683870Z",
     "iopub.status.idle": "2022-04-23T11:00:24.690561Z",
     "shell.execute_reply": "2022-04-23T11:00:24.689450Z"
    },
    "papermill": {
     "duration": 0.016527,
     "end_time": "2022-04-23T11:00:24.693105",
     "exception": false,
     "start_time": "2022-04-23T11:00:24.676578",
     "status": "completed"
    },
    "tags": []
   },
   "outputs": [],
   "source": [
    "# SIR 模型微分方程，输入时间网络，参数和变量向量化，输出每个变量对时间t的微分\n",
    "def deriv(y, t, alpha, betta, gamma):\n",
    "    S, I, D, R = y\n",
    "    dSdt = - (alpha / N) * S * I\n",
    "    dIdt = (alpha / N) * S * I - beta * I - gamma * I \n",
    "    dDdt = gamma * I\n",
    "    dRdt = beta * I\n",
    "\n",
    "    return dSdt, dIdt, dDdt, dRdt"
   ]
  },
  {
   "cell_type": "code",
   "execution_count": 3,
   "id": "361b49ff",
   "metadata": {
    "execution": {
     "iopub.execute_input": "2022-04-23T11:00:24.706958Z",
     "iopub.status.busy": "2022-04-23T11:00:24.706571Z",
     "iopub.status.idle": "2022-04-23T11:00:24.717323Z",
     "shell.execute_reply": "2022-04-23T11:00:24.715909Z"
    },
    "papermill": {
     "duration": 0.020783,
     "end_time": "2022-04-23T11:00:24.719935",
     "exception": false,
     "start_time": "2022-04-23T11:00:24.699152",
     "status": "completed"
    },
    "tags": []
   },
   "outputs": [
    {
     "name": "stdout",
     "output_type": "stream",
     "text": [
      "CPU times: user 1.61 ms, sys: 95 µs, total: 1.7 ms\n",
      "Wall time: 2.36 ms\n"
     ]
    }
   ],
   "source": [
    "%%time\n",
    "# 初始条件向量化\n",
    "y0 = S0, I0, D0, R0\n",
    "# 在时间网格 t 上积分 SIR 方程\n",
    "# odeint(方程函数，初始向量，求解范围，参数)，返回值是微分方程数值解的矩阵\n",
    "ret = odeint(deriv, y0, t, args=(alpha, beta, gamma))\n",
    "#转置矩阵赋值给四个向量\n",
    "S, I, D, R = ret.T"
   ]
  },
  {
   "cell_type": "code",
   "execution_count": 4,
   "id": "edac25b3",
   "metadata": {
    "execution": {
     "iopub.execute_input": "2022-04-23T11:00:24.735548Z",
     "iopub.status.busy": "2022-04-23T11:00:24.735163Z",
     "iopub.status.idle": "2022-04-23T11:00:25.047251Z",
     "shell.execute_reply": "2022-04-23T11:00:25.046184Z"
    },
    "papermill": {
     "duration": 0.322892,
     "end_time": "2022-04-23T11:00:25.049956",
     "exception": false,
     "start_time": "2022-04-23T11:00:24.727064",
     "status": "completed"
    },
    "tags": []
   },
   "outputs": [
    {
     "name": "stderr",
     "output_type": "stream",
     "text": [
      "/opt/conda/lib/python3.7/site-packages/ipykernel_launcher.py:15: MatplotlibDeprecationWarning: The 'b' parameter of grid() has been renamed 'visible' since Matplotlib 3.5; support for the old name will be dropped two minor releases later.\n",
      "  from ipykernel import kernelapp as app\n"
     ]
    },
    {
     "data": {
      "image/png": "[encoded data removed]",
      "text/plain": [
       "<Figure size 864x864 with 1 Axes>"
      ]
     },
     "metadata": {
      "needs_background": "light"
     },
     "output_type": "display_data"
    }
   ],
   "source": [
    "# 绘制时间序列图\n",
    "fig = plt.figure(figsize=(12,12))\n",
    "ax = fig.add_subplot(111, facecolor='#dddddd', axisbelow=True)\n",
    "ax.set_facecolor('xkcd:white')\n",
    "\n",
    "ax.plot(t, S, 'violet', alpha=0.5, lw=2, label='Susceptible', linestyle='dashed')\n",
    "ax.plot(t, I, 'darkgreen', alpha=0.5, lw=2, label='Infected', linestyle='dashed')\n",
    "ax.plot(t, D, 'blue', alpha=0.5, lw=2, label='Dead', linestyle='dashed')\n",
    "ax.plot(t, R, 'red', alpha=0.5, lw=2, label='Recovered', linestyle='dashed')\n",
    "\n",
    "ax.set_xlabel('Time /days')\n",
    "ax.set_ylabel('Number')\n",
    "ax.yaxis.set_tick_params(length=0)\n",
    "ax.xaxis.set_tick_params(length=0)\n",
    "ax.grid(b=True, which='major', c='black', lw=0.2, ls='-')\n",
    "legend = ax.legend()\n",
    "legend.get_frame().set_alpha(0.5)\n",
    "for spine in ('top', 'right', 'bottom', 'left'):\n",
    "    ax.spines[spine].set_visible(False)\n",
    "plt.show()"
   ]
  }
 ],
 "metadata": {
  "kernelspec": {
   "display_name": "Python 3",
   "language": "python",
   "name": "python3"
  },
  "language_info": {
   "codemirror_mode": {
    "name": "ipython",
    "version": 3
   },
   "file_extension": ".py",
   "mimetype": "text/x-python",
   "name": "python",
   "nbconvert_exporter": "python",
   "pygments_lexer": "ipython3",
   "version": "3.7.12"
  },
  "papermill": {
   "default_parameters": {},
   "duration": 13.108331,
   "end_time": "2022-04-23T11:00:25.984373",
   "environment_variables": {},
   "exception": null,
   "input_path": "__notebook__.ipynb",
   "output_path": "__notebook__.ipynb",
   "parameters": {},
   "start_time": "2022-04-23T11:00:12.876042",
   "version": "2.3.4"
  }
 },
 "nbformat": 4,
 "nbformat_minor": 5
}
