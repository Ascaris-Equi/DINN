{
 "cells": [
  {
   "cell_type": "code",
   "execution_count": 1,
   "id": "8f53c467",
   "metadata": {
    "_cell_guid": "b1076dfc-b9ad-4769-8c92-a6c4dae69d19",
    "_uuid": "8f2839f25d086af736a60e9eeb907d3b93b6e0e5",
    "execution": {
     "iopub.execute_input": "2022-04-23T10:57:13.514292Z",
     "iopub.status.busy": "2022-04-23T10:57:13.513804Z",
     "iopub.status.idle": "2022-04-23T10:57:14.130865Z",
     "shell.execute_reply": "2022-04-23T10:57:14.130256Z"
    },
    "papermill": {
     "duration": 0.630503,
     "end_time": "2022-04-23T10:57:14.133398",
     "exception": false,
     "start_time": "2022-04-23T10:57:13.502895",
     "status": "completed"
    },
    "tags": []
   },
   "outputs": [],
   "source": [
    "import numpy as np\n",
    "from scipy.integrate import odeint\n",
    "import matplotlib.pyplot as plt# 设置区\n",
    "# 初始条件设定\n",
    "N = 12111 #总人口\n",
    "S0 = N - 1 #假设每个人一开始都是易感的，除了 1 人被感染\n",
    "I0 = 1 \n",
    "D0 = 0\n",
    "R0 = 0\n",
    "\n",
    "# 形成时间点网络，0-3000天均分100份\n",
    "t = np.linspace(0, 100, 100) \n",
    "\n",
    "# 参数设定 (可以参考文献或者自己训练)\n",
    "alpha = 0.1496\n",
    "beta = 0.1199\n",
    "gamma = 0.2266"
   ]
  },
  {
   "cell_type": "code",
   "execution_count": 2,
   "id": "0228358e",
   "metadata": {
    "execution": {
     "iopub.execute_input": "2022-04-23T10:57:14.148631Z",
     "iopub.status.busy": "2022-04-23T10:57:14.148346Z",
     "iopub.status.idle": "2022-04-23T10:57:14.153838Z",
     "shell.execute_reply": "2022-04-23T10:57:14.153282Z"
    },
    "papermill": {
     "duration": 0.015111,
     "end_time": "2022-04-23T10:57:14.155600",
     "exception": false,
     "start_time": "2022-04-23T10:57:14.140489",
     "status": "completed"
    },
    "tags": []
   },
   "outputs": [],
   "source": [
    "# SIR 模型微分方程，输入时间网络，参数和变量向量化，输出每个变量对时间t的微分\n",
    "def deriv(y, t, alpha, betta, gamma):\n",
    "    S, I, D, R = y\n",
    "    dSdt = - (alpha / N) * S * I\n",
    "    dIdt = (alpha / N) * S * I - beta * I - gamma * I \n",
    "    dDdt = gamma * I\n",
    "    dRdt = beta * I\n",
    "\n",
    "    return dSdt, dIdt, dDdt, dRdt"
   ]
  },
  {
   "cell_type": "code",
   "execution_count": 3,
   "id": "ee8c73de",
   "metadata": {
    "execution": {
     "iopub.execute_input": "2022-04-23T10:57:14.168119Z",
     "iopub.status.busy": "2022-04-23T10:57:14.167835Z",
     "iopub.status.idle": "2022-04-23T10:57:14.174805Z",
     "shell.execute_reply": "2022-04-23T10:57:14.174222Z"
    },
    "papermill": {
     "duration": 0.01728,
     "end_time": "2022-04-23T10:57:14.178386",
     "exception": false,
     "start_time": "2022-04-23T10:57:14.161106",
     "status": "completed"
    },
    "tags": []
   },
   "outputs": [
    {
     "name": "stdout",
     "output_type": "stream",
     "text": [
      "CPU times: user 1.16 ms, sys: 27 µs, total: 1.18 ms\n",
      "Wall time: 1.15 ms\n"
     ]
    }
   ],
   "source": [
    "%%time\n",
    "# 初始条件向量化\n",
    "y0 = S0, I0, D0, R0\n",
    "# 在时间网格 t 上积分 SIR 方程\n",
    "# odeint(方程函数，初始向量，求解范围，参数)，返回值是微分方程数值解的矩阵\n",
    "ret = odeint(deriv, y0, t, args=(alpha, beta, gamma))\n",
    "#转置矩阵赋值给四个向量\n",
    "S, I, D, R = ret.T"
   ]
  },
  {
   "cell_type": "code",
   "execution_count": 4,
   "id": "e1f555bd",
   "metadata": {
    "execution": {
     "iopub.execute_input": "2022-04-23T10:57:14.193789Z",
     "iopub.status.busy": "2022-04-23T10:57:14.193371Z",
     "iopub.status.idle": "2022-04-23T10:57:14.472141Z",
     "shell.execute_reply": "2022-04-23T10:57:14.471247Z"
    },
    "papermill": {
     "duration": 0.288017,
     "end_time": "2022-04-23T10:57:14.474256",
     "exception": false,
     "start_time": "2022-04-23T10:57:14.186239",
     "status": "completed"
    },
    "tags": []
   },
   "outputs": [
    {
     "name": "stderr",
     "output_type": "stream",
     "text": [
      "/opt/conda/lib/python3.7/site-packages/ipykernel_launcher.py:15: MatplotlibDeprecationWarning: The 'b' parameter of grid() has been renamed 'visible' since Matplotlib 3.5; support for the old name will be dropped two minor releases later.\n",
      "  from ipykernel import kernelapp as app\n"
     ]
    },
    {
     "data": {
      "image/png": "[encoded data removed]",
      "text/plain": [
       "<Figure size 864x864 with 1 Axes>"
      ]
     },
     "metadata": {
      "needs_background": "light"
     },
     "output_type": "display_data"
    }
   ],
   "source": [
    "# 绘制时间序列图\n",
    "fig = plt.figure(figsize=(12,12))\n",
    "ax = fig.add_subplot(111, facecolor='#dddddd', axisbelow=True)\n",
    "ax.set_facecolor('xkcd:white')\n",
    "\n",
    "ax.plot(t, S, 'violet', alpha=0.5, lw=2, label='Susceptible', linestyle='dashed')\n",
    "ax.plot(t, I, 'darkgreen', alpha=0.5, lw=2, label='Infected', linestyle='dashed')\n",
    "ax.plot(t, D, 'blue', alpha=0.5, lw=2, label='Dead', linestyle='dashed')\n",
    "ax.plot(t, R, 'red', alpha=0.5, lw=2, label='Recovered', linestyle='dashed')\n",
    "\n",
    "ax.set_xlabel('Time /days')\n",
    "ax.set_ylabel('Number')\n",
    "ax.yaxis.set_tick_params(length=0)\n",
    "ax.xaxis.set_tick_params(length=0)\n",
    "ax.grid(b=True, which='major', c='black', lw=0.2, ls='-')\n",
    "legend = ax.legend()\n",
    "legend.get_frame().set_alpha(0.5)\n",
    "for spine in ('top', 'right', 'bottom', 'left'):\n",
    "    ax.spines[spine].set_visible(False)\n",
    "plt.show()"
   ]
  }
 ],
 "metadata": {
  "kernelspec": {
   "display_name": "Python 3",
   "language": "python",
   "name": "python3"
  },
  "language_info": {
   "codemirror_mode": {
    "name": "ipython",
    "version": 3
   },
   "file_extension": ".py",
   "mimetype": "text/x-python",
   "name": "python",
   "nbconvert_exporter": "python",
   "pygments_lexer": "ipython3",
   "version": "3.7.12"
  },
  "papermill": {
   "default_parameters": {},
   "duration": 10.935036,
   "end_time": "2022-04-23T10:57:15.104608",
   "environment_variables": {},
   "exception": null,
   "input_path": "__notebook__.ipynb",
   "output_path": "__notebook__.ipynb",
   "parameters": {},
   "start_time": "2022-04-23T10:57:04.169572",
   "version": "2.3.4"
  }
 },
 "nbformat": 4,
 "nbformat_minor": 5
}
