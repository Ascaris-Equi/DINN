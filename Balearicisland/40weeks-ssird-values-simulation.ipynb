{
 "cells": [
  {
   "cell_type": "code",
   "execution_count": 1,
   "id": "f51f2889",
   "metadata": {
    "_cell_guid": "b1076dfc-b9ad-4769-8c92-a6c4dae69d19",
    "_uuid": "8f2839f25d086af736a60e9eeb907d3b93b6e0e5",
    "execution": {
     "iopub.execute_input": "2022-04-23T11:02:08.100997Z",
     "iopub.status.busy": "2022-04-23T11:02:08.100518Z",
     "iopub.status.idle": "2022-04-23T11:02:08.758469Z",
     "shell.execute_reply": "2022-04-23T11:02:08.757355Z"
    },
    "papermill": {
     "duration": 0.669616,
     "end_time": "2022-04-23T11:02:08.761506",
     "exception": false,
     "start_time": "2022-04-23T11:02:08.091890",
     "status": "completed"
    },
    "tags": []
   },
   "outputs": [],
   "source": [
    "import numpy as np\n",
    "from scipy.integrate import odeint\n",
    "import matplotlib.pyplot as plt# 设置区\n",
    "# 初始条件设定\n",
    "N = 12111 #总人口\n",
    "S0 = N - 1 #假设每个人一开始都是易感的，除了 1 人被感染\n",
    "I0 = 1 \n",
    "D0 = 0\n",
    "R0 = 0\n",
    "\n",
    "# 形成时间点网络，0-3000天均分100份\n",
    "t = np.linspace(0, 100, 100) \n",
    "\n",
    "# 参数设定 (可以参考文献或者自己训练)\n",
    "alpha = 0.0723\n",
    "beta = 0.4775\n",
    "gamma = 0.2360"
   ]
  },
  {
   "cell_type": "code",
   "execution_count": 2,
   "id": "8cc60dcd",
   "metadata": {
    "execution": {
     "iopub.execute_input": "2022-04-23T11:02:08.774333Z",
     "iopub.status.busy": "2022-04-23T11:02:08.774072Z",
     "iopub.status.idle": "2022-04-23T11:02:08.779684Z",
     "shell.execute_reply": "2022-04-23T11:02:08.778803Z"
    },
    "papermill": {
     "duration": 0.014484,
     "end_time": "2022-04-23T11:02:08.782071",
     "exception": false,
     "start_time": "2022-04-23T11:02:08.767587",
     "status": "completed"
    },
    "tags": []
   },
   "outputs": [],
   "source": [
    "# SIR 模型微分方程，输入时间网络，参数和变量向量化，输出每个变量对时间t的微分\n",
    "def deriv(y, t, alpha, betta, gamma):\n",
    "    S, I, D, R = y\n",
    "    dSdt = - (alpha / N) * S * I\n",
    "    dIdt = (alpha / N) * S * I - beta * I - gamma * I \n",
    "    dDdt = gamma * I\n",
    "    dRdt = beta * I\n",
    "\n",
    "    return dSdt, dIdt, dDdt, dRdt"
   ]
  },
  {
   "cell_type": "code",
   "execution_count": 3,
   "id": "7b812e5b",
   "metadata": {
    "execution": {
     "iopub.execute_input": "2022-04-23T11:02:08.794204Z",
     "iopub.status.busy": "2022-04-23T11:02:08.793740Z",
     "iopub.status.idle": "2022-04-23T11:02:08.802649Z",
     "shell.execute_reply": "2022-04-23T11:02:08.801673Z"
    },
    "papermill": {
     "duration": 0.017672,
     "end_time": "2022-04-23T11:02:08.805032",
     "exception": false,
     "start_time": "2022-04-23T11:02:08.787360",
     "status": "completed"
    },
    "tags": []
   },
   "outputs": [
    {
     "name": "stdout",
     "output_type": "stream",
     "text": [
      "CPU times: user 1.47 ms, sys: 0 ns, total: 1.47 ms\n",
      "Wall time: 1.98 ms\n"
     ]
    }
   ],
   "source": [
    "%%time\n",
    "# 初始条件向量化\n",
    "y0 = S0, I0, D0, R0\n",
    "# 在时间网格 t 上积分 SIR 方程\n",
    "# odeint(方程函数，初始向量，求解范围，参数)，返回值是微分方程数值解的矩阵\n",
    "ret = odeint(deriv, y0, t, args=(alpha, beta, gamma))\n",
    "#转置矩阵赋值给四个向量\n",
    "S, I, D, R = ret.T"
   ]
  },
  {
   "cell_type": "code",
   "execution_count": 4,
   "id": "6ef5b376",
   "metadata": {
    "execution": {
     "iopub.execute_input": "2022-04-23T11:02:08.818296Z",
     "iopub.status.busy": "2022-04-23T11:02:08.817816Z",
     "iopub.status.idle": "2022-04-23T11:02:09.071836Z",
     "shell.execute_reply": "2022-04-23T11:02:09.070910Z"
    },
    "papermill": {
     "duration": 0.263237,
     "end_time": "2022-04-23T11:02:09.074315",
     "exception": false,
     "start_time": "2022-04-23T11:02:08.811078",
     "status": "completed"
    },
    "tags": []
   },
   "outputs": [
    {
     "name": "stderr",
     "output_type": "stream",
     "text": [
      "/opt/conda/lib/python3.7/site-packages/ipykernel_launcher.py:15: MatplotlibDeprecationWarning: The 'b' parameter of grid() has been renamed 'visible' since Matplotlib 3.5; support for the old name will be dropped two minor releases later.\n",
      "  from ipykernel import kernelapp as app\n"
     ]
    },
    {
     "data": {
      "image/png": "[encoded data removed]",
      "text/plain": [
       "<Figure size 864x864 with 1 Axes>"
      ]
     },
     "metadata": {
      "needs_background": "light"
     },
     "output_type": "display_data"
    }
   ],
   "source": [
    "# 绘制时间序列图\n",
    "fig = plt.figure(figsize=(12,12))\n",
    "ax = fig.add_subplot(111, facecolor='#dddddd', axisbelow=True)\n",
    "ax.set_facecolor('xkcd:white')\n",
    "\n",
    "ax.plot(t, S, 'violet', alpha=0.5, lw=2, label='Susceptible', linestyle='dashed')\n",
    "ax.plot(t, I, 'darkgreen', alpha=0.5, lw=2, label='Infected', linestyle='dashed')\n",
    "ax.plot(t, D, 'blue', alpha=0.5, lw=2, label='Dead', linestyle='dashed')\n",
    "ax.plot(t, R, 'red', alpha=0.5, lw=2, label='Recovered', linestyle='dashed')\n",
    "\n",
    "ax.set_xlabel('Time /days')\n",
    "ax.set_ylabel('Number')\n",
    "ax.yaxis.set_tick_params(length=0)\n",
    "ax.xaxis.set_tick_params(length=0)\n",
    "ax.grid(b=True, which='major', c='black', lw=0.2, ls='-')\n",
    "legend = ax.legend()\n",
    "legend.get_frame().set_alpha(0.5)\n",
    "for spine in ('top', 'right', 'bottom', 'left'):\n",
    "    ax.spines[spine].set_visible(False)\n",
    "plt.show()"
   ]
  }
 ],
 "metadata": {
  "kernelspec": {
   "display_name": "Python 3",
   "language": "python",
   "name": "python3"
  },
  "language_info": {
   "codemirror_mode": {
    "name": "ipython",
    "version": 3
   },
   "file_extension": ".py",
   "mimetype": "text/x-python",
   "name": "python",
   "nbconvert_exporter": "python",
   "pygments_lexer": "ipython3",
   "version": "3.7.12"
  },
  "papermill": {
   "default_parameters": {},
   "duration": 11.45079,
   "end_time": "2022-04-23T11:02:09.702251",
   "environment_variables": {},
   "exception": null,
   "input_path": "__notebook__.ipynb",
   "output_path": "__notebook__.ipynb",
   "parameters": {},
   "start_time": "2022-04-23T11:01:58.251461",
   "version": "2.3.4"
  }
 },
 "nbformat": 4,
 "nbformat_minor": 5
}
