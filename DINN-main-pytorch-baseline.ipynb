{
 "cells": [
  {
   "cell_type": "markdown",
   "id": "8494a990",
   "metadata": {
    "papermill": {
     "duration": 0.056004,
     "end_time": "2022-04-23T10:23:50.303244",
     "exception": false,
     "start_time": "2022-04-23T10:23:50.247240",
     "status": "completed"
    },
    "tags": []
   },
   "source": [
    "# DINN Tutorial --- COVID"
   ]
  },
  {
   "cell_type": "markdown",
   "id": "74fe0284",
   "metadata": {
    "papermill": {
     "duration": 0.054408,
     "end_time": "2022-04-23T10:23:50.411740",
     "exception": false,
     "start_time": "2022-04-23T10:23:50.357332",
     "status": "completed"
    },
    "tags": []
   },
   "source": [
    "## This notebook will show the entire process of training a neural network to learn a disease"
   ]
  },
  {
   "cell_type": "markdown",
   "id": "4ef9d59e",
   "metadata": {
    "papermill": {
     "duration": 0.052627,
     "end_time": "2022-04-23T10:23:50.517516",
     "exception": false,
     "start_time": "2022-04-23T10:23:50.464889",
     "status": "completed"
    },
    "tags": []
   },
   "source": [
    "## Consider the following system of differential equations"
   ]
  },
  {
   "cell_type": "markdown",
   "id": "a002a5e9",
   "metadata": {
    "papermill": {
     "duration": 0.052667,
     "end_time": "2022-04-23T10:23:50.623571",
     "exception": false,
     "start_time": "2022-04-23T10:23:50.570904",
     "status": "completed"
    },
    "tags": []
   },
   "source": [
    "dS/dt = - (alpha / N)  S  I\n",
    "\n",
    "dI/dt = (alpha / N)  S  I - beta  I - gamma  I \n",
    "\n",
    "dD/dt = gamma  I\n",
    "\n",
    "dR/dt = beta  I"
   ]
  },
  {
   "cell_type": "markdown",
   "id": "fd64bce0",
   "metadata": {
    "papermill": {
     "duration": 0.052759,
     "end_time": "2022-04-23T10:23:50.729335",
     "exception": false,
     "start_time": "2022-04-23T10:23:50.676576",
     "status": "completed"
    },
    "tags": []
   },
   "source": [
    "\n",
    "Where \n",
    "\n",
    "beta = “effective/apparent” per day recovery rates\n",
    "\n",
    "gamma = “effective/apparent” per day fatality rates\n",
    "\n",
    "alpha = infection rate\n",
    "\n",
    "N = population size"
   ]
  },
  {
   "cell_type": "markdown",
   "id": "74a179b9",
   "metadata": {
    "papermill": {
     "duration": 0.05281,
     "end_time": "2022-04-23T10:23:50.834942",
     "exception": false,
     "start_time": "2022-04-23T10:23:50.782132",
     "status": "completed"
    },
    "tags": []
   },
   "source": [
    "## This system represents a COVID model and has 4 compartments: susceptible, infected, dead, and recovered\n",
    "\n",
    "## Since we don't have actual data from the environment to work with, we will generate it"
   ]
  },
  {
   "cell_type": "markdown",
   "id": "971ecdd9",
   "metadata": {
    "papermill": {
     "duration": 0.069133,
     "end_time": "2022-04-23T10:23:50.959121",
     "exception": false,
     "start_time": "2022-04-23T10:23:50.889988",
     "status": "completed"
    },
    "tags": []
   },
   "source": [
    "# Import libraries for generating & visualizing the data"
   ]
  },
  {
   "cell_type": "code",
   "execution_count": 1,
   "id": "31bea3df",
   "metadata": {
    "execution": {
     "iopub.execute_input": "2022-04-23T10:23:51.071855Z",
     "iopub.status.busy": "2022-04-23T10:23:51.070682Z",
     "iopub.status.idle": "2022-04-23T10:23:51.699630Z",
     "shell.execute_reply": "2022-04-23T10:23:51.698858Z"
    },
    "papermill": {
     "duration": 0.685611,
     "end_time": "2022-04-23T10:23:51.699790",
     "exception": false,
     "start_time": "2022-04-23T10:23:51.014179",
     "status": "completed"
    },
    "tags": []
   },
   "outputs": [],
   "source": [
    "import numpy as np\n",
    "from scipy.integrate import odeint\n",
    "import matplotlib.pyplot as plt"
   ]
  },
  {
   "cell_type": "markdown",
   "id": "3c86b369",
   "metadata": {
    "papermill": {
     "duration": 0.055262,
     "end_time": "2022-04-23T10:23:51.808705",
     "exception": false,
     "start_time": "2022-04-23T10:23:51.753443",
     "status": "completed"
    },
    "tags": []
   },
   "source": [
    "## We start by setting some information that we got from the literature"
   ]
  },
  {
   "cell_type": "code",
   "execution_count": 2,
   "id": "64600849",
   "metadata": {
    "execution": {
     "iopub.execute_input": "2022-04-23T10:23:51.925627Z",
     "iopub.status.busy": "2022-04-23T10:23:51.921948Z",
     "iopub.status.idle": "2022-04-23T10:23:51.927471Z",
     "shell.execute_reply": "2022-04-23T10:23:51.927933Z"
    },
    "papermill": {
     "duration": 0.062839,
     "end_time": "2022-04-23T10:23:51.928097",
     "exception": false,
     "start_time": "2022-04-23T10:23:51.865258",
     "status": "completed"
    },
    "tags": []
   },
   "outputs": [],
   "source": [
    "# Initial conditions (from the literature)\n",
    "N = 59e6 #population size\n",
    "\n",
    "S0 = N - 1 #everyone starts out as susceptible, except for 1 person that is infected\n",
    "I0 = 1 #1 infected person\n",
    "D0 = 0\n",
    "R0 = 0\n",
    "\n",
    "# A grid of time points (in days)\n",
    "t = np.linspace(0, 500, 100) #from day 0 to day 500, generate 100 points\n",
    "\n",
    "#parameters (from the literature)\n",
    "alpha = 0.191\n",
    "beta = 0.05\n",
    "gamma = 0.0294"
   ]
  },
  {
   "cell_type": "markdown",
   "id": "ade9c7ed",
   "metadata": {
    "papermill": {
     "duration": 0.054605,
     "end_time": "2022-04-23T10:23:52.038047",
     "exception": false,
     "start_time": "2022-04-23T10:23:51.983442",
     "status": "completed"
    },
    "tags": []
   },
   "source": [
    "## We then write out the system of equations in a function that will calculate the value of each compartment at each time step (e.g day)"
   ]
  },
  {
   "cell_type": "code",
   "execution_count": 3,
   "id": "ee362d5b",
   "metadata": {
    "execution": {
     "iopub.execute_input": "2022-04-23T10:23:52.160503Z",
     "iopub.status.busy": "2022-04-23T10:23:52.159482Z",
     "iopub.status.idle": "2022-04-23T10:23:52.162230Z",
     "shell.execute_reply": "2022-04-23T10:23:52.163031Z"
    },
    "papermill": {
     "duration": 0.071464,
     "end_time": "2022-04-23T10:23:52.163259",
     "exception": false,
     "start_time": "2022-04-23T10:23:52.091795",
     "status": "completed"
    },
    "tags": []
   },
   "outputs": [],
   "source": [
    "# The SIR model differential equations.\n",
    "def deriv(y, t, alpha, betta, gamma):\n",
    "    S, I, D, R = y\n",
    "    dSdt = - (alpha / N) * S * I\n",
    "    dIdt = (alpha / N) * S * I - beta * I - gamma * I \n",
    "    dDdt = gamma * I\n",
    "    dRdt = beta * I\n",
    "\n",
    "    return dSdt, dIdt, dDdt, dRdt"
   ]
  },
  {
   "cell_type": "markdown",
   "id": "366e754a",
   "metadata": {
    "papermill": {
     "duration": 0.05661,
     "end_time": "2022-04-23T10:23:52.291128",
     "exception": false,
     "start_time": "2022-04-23T10:23:52.234518",
     "status": "completed"
    },
    "tags": []
   },
   "source": [
    "## And then we pass the initial conditions to the function to get the values of each compartment for the length we chose before (500 days, 100 data points per compartment)"
   ]
  },
  {
   "cell_type": "code",
   "execution_count": 4,
   "id": "e2d023ed",
   "metadata": {
    "execution": {
     "iopub.execute_input": "2022-04-23T10:23:52.416842Z",
     "iopub.status.busy": "2022-04-23T10:23:52.416153Z",
     "iopub.status.idle": "2022-04-23T10:23:52.427122Z",
     "shell.execute_reply": "2022-04-23T10:23:52.427687Z"
    },
    "papermill": {
     "duration": 0.069027,
     "end_time": "2022-04-23T10:23:52.427865",
     "exception": false,
     "start_time": "2022-04-23T10:23:52.358838",
     "status": "completed"
    },
    "tags": []
   },
   "outputs": [],
   "source": [
    "# Initial conditions vector\n",
    "y0 = S0, I0, D0, R0\n",
    "# Integrate the SIR equations over the time grid, t.\n",
    "ret = odeint(deriv, y0, t, args=(alpha, beta, gamma))\n",
    "S, I, D, R = ret.T"
   ]
  },
  {
   "cell_type": "markdown",
   "id": "6c4d3004",
   "metadata": {
    "papermill": {
     "duration": 0.056486,
     "end_time": "2022-04-23T10:23:52.556675",
     "exception": false,
     "start_time": "2022-04-23T10:23:52.500189",
     "status": "completed"
    },
    "tags": []
   },
   "source": [
    "## We can now plot the results"
   ]
  },
  {
   "cell_type": "code",
   "execution_count": 5,
   "id": "eb04bbde",
   "metadata": {
    "execution": {
     "iopub.execute_input": "2022-04-23T10:23:52.674206Z",
     "iopub.status.busy": "2022-04-23T10:23:52.673440Z",
     "iopub.status.idle": "2022-04-23T10:23:52.987542Z",
     "shell.execute_reply": "2022-04-23T10:23:52.988212Z"
    },
    "papermill": {
     "duration": 0.375356,
     "end_time": "2022-04-23T10:23:52.988389",
     "exception": false,
     "start_time": "2022-04-23T10:23:52.613033",
     "status": "completed"
    },
    "tags": []
   },
   "outputs": [
    {
     "name": "stderr",
     "output_type": "stream",
     "text": [
      "/opt/conda/lib/python3.7/site-packages/ipykernel_launcher.py:15: MatplotlibDeprecationWarning: The 'b' parameter of grid() has been renamed 'visible' since Matplotlib 3.5; support for the old name will be dropped two minor releases later.\n",
      "  from ipykernel import kernelapp as app\n"
     ]
    },
    {
     "data": {
      "image/png": "[encoded data removed]",
      "text/plain": [
       "<Figure size 864x864 with 1 Axes>"
      ]
     },
     "metadata": {
      "needs_background": "light"
     },
     "output_type": "display_data"
    }
   ],
   "source": [
    "# Plot the data\n",
    "fig = plt.figure(figsize=(12,12))\n",
    "ax = fig.add_subplot(111, facecolor='#dddddd', axisbelow=True)\n",
    "ax.set_facecolor('xkcd:white')\n",
    "\n",
    "ax.plot(t, S, 'violet', alpha=0.5, lw=2, label='Susceptible', linestyle='dashed')\n",
    "ax.plot(t, I, 'darkgreen', alpha=0.5, lw=2, label='Infected', linestyle='dashed')\n",
    "ax.plot(t, D, 'blue', alpha=0.5, lw=2, label='Dead', linestyle='dashed')\n",
    "ax.plot(t, R, 'red', alpha=0.5, lw=2, label='Recovered', linestyle='dashed')\n",
    "\n",
    "ax.set_xlabel('Time /days')\n",
    "ax.set_ylabel('Number')\n",
    "ax.yaxis.set_tick_params(length=0)\n",
    "ax.xaxis.set_tick_params(length=0)\n",
    "ax.grid(b=True, which='major', c='black', lw=0.2, ls='-')\n",
    "legend = ax.legend()\n",
    "legend.get_frame().set_alpha(0.5)\n",
    "for spine in ('top', 'right', 'bottom', 'left'):\n",
    "    ax.spines[spine].set_visible(False)\n",
    "plt.show()"
   ]
  },
  {
   "cell_type": "markdown",
   "id": "53279bd6",
   "metadata": {
    "papermill": {
     "duration": 0.056113,
     "end_time": "2022-04-23T10:23:53.106384",
     "exception": false,
     "start_time": "2022-04-23T10:23:53.050271",
     "status": "completed"
    },
    "tags": []
   },
   "source": [
    "## And to save the results as a csv file"
   ]
  },
  {
   "cell_type": "code",
   "execution_count": 6,
   "id": "af032b59",
   "metadata": {
    "execution": {
     "iopub.execute_input": "2022-04-23T10:23:53.224893Z",
     "iopub.status.busy": "2022-04-23T10:23:53.224214Z",
     "iopub.status.idle": "2022-04-23T10:23:53.227531Z",
     "shell.execute_reply": "2022-04-23T10:23:53.228146Z"
    },
    "papermill": {
     "duration": 0.065465,
     "end_time": "2022-04-23T10:23:53.228312",
     "exception": false,
     "start_time": "2022-04-23T10:23:53.162847",
     "status": "completed"
    },
    "tags": []
   },
   "outputs": [],
   "source": [
    "#save to csv file\n",
    "COVID_Data = np.asarray([t, S, I, D, R]) \n",
    "\n",
    "np.savetxt(\"COVID_Tutorial.csv\", COVID_Data, delimiter=\",\")"
   ]
  },
  {
   "cell_type": "markdown",
   "id": "92668735",
   "metadata": {
    "papermill": {
     "duration": 0.060693,
     "end_time": "2022-04-23T10:23:53.349278",
     "exception": false,
     "start_time": "2022-04-23T10:23:53.288585",
     "status": "completed"
    },
    "tags": []
   },
   "source": [
    "## Great! Now we have data to work with. On to training a neural network.\n",
    "I will break down the entire training process into parts. These parts might NOT be runnable on their own (meaning, you can't run the code -- which is why I will comment them out). The point is, I think that it will be easier to understand the process by first understanding what each part is doing, and then seeing how they all work together"
   ]
  },
  {
   "cell_type": "markdown",
   "id": "7d6a1b97",
   "metadata": {
    "papermill": {
     "duration": 0.05713,
     "end_time": "2022-04-23T10:23:53.466524",
     "exception": false,
     "start_time": "2022-04-23T10:23:53.409394",
     "status": "completed"
    },
    "tags": []
   },
   "source": [
    "## 1. Import libraries"
   ]
  },
  {
   "cell_type": "code",
   "execution_count": 7,
   "id": "f28bce32",
   "metadata": {
    "execution": {
     "iopub.execute_input": "2022-04-23T10:23:53.584124Z",
     "iopub.status.busy": "2022-04-23T10:23:53.583112Z",
     "iopub.status.idle": "2022-04-23T10:23:54.727630Z",
     "shell.execute_reply": "2022-04-23T10:23:54.728190Z"
    },
    "papermill": {
     "duration": 1.204262,
     "end_time": "2022-04-23T10:23:54.728383",
     "exception": false,
     "start_time": "2022-04-23T10:23:53.524121",
     "status": "completed"
    },
    "tags": []
   },
   "outputs": [
    {
     "data": {
      "text/plain": [
       "<torch._C.Generator at 0x7fea39968850>"
      ]
     },
     "execution_count": 7,
     "metadata": {},
     "output_type": "execute_result"
    }
   ],
   "source": [
    "import torch\n",
    "from torch.autograd import grad\n",
    "import torch.nn as nn\n",
    "from numpy import genfromtxt\n",
    "import torch.optim as optim\n",
    "import matplotlib.pyplot as plt\n",
    "import torch.nn.functional as F\n",
    "\n",
    "torch.manual_seed(1234) #set seed (optional)"
   ]
  },
  {
   "cell_type": "markdown",
   "id": "f4d149ee",
   "metadata": {
    "papermill": {
     "duration": 0.059751,
     "end_time": "2022-04-23T10:23:54.848766",
     "exception": false,
     "start_time": "2022-04-23T10:23:54.789015",
     "status": "completed"
    },
    "tags": []
   },
   "source": [
    "## 2. Load the data"
   ]
  },
  {
   "cell_type": "code",
   "execution_count": 8,
   "id": "f1b54deb",
   "metadata": {
    "execution": {
     "iopub.execute_input": "2022-04-23T10:23:54.973435Z",
     "iopub.status.busy": "2022-04-23T10:23:54.972735Z",
     "iopub.status.idle": "2022-04-23T10:23:54.978941Z",
     "shell.execute_reply": "2022-04-23T10:23:54.979384Z"
    },
    "papermill": {
     "duration": 0.068733,
     "end_time": "2022-04-23T10:23:54.979561",
     "exception": false,
     "start_time": "2022-04-23T10:23:54.910828",
     "status": "completed"
    },
    "tags": []
   },
   "outputs": [],
   "source": [
    "covid_data = genfromtxt('COVID_Tutorial.csv', delimiter=',') #in the form of [t,S,I,D,R]"
   ]
  },
  {
   "cell_type": "markdown",
   "id": "4da2ac1b",
   "metadata": {
    "papermill": {
     "duration": 0.058187,
     "end_time": "2022-04-23T10:23:55.095372",
     "exception": false,
     "start_time": "2022-04-23T10:23:55.037185",
     "status": "completed"
    },
    "tags": []
   },
   "source": [
    "## 3. Define the class"
   ]
  },
  {
   "cell_type": "code",
   "execution_count": 9,
   "id": "29c2fe7f",
   "metadata": {
    "execution": {
     "iopub.execute_input": "2022-04-23T10:23:55.223308Z",
     "iopub.status.busy": "2022-04-23T10:23:55.222295Z",
     "iopub.status.idle": "2022-04-23T10:23:55.226901Z",
     "shell.execute_reply": "2022-04-23T10:23:55.227437Z"
    },
    "papermill": {
     "duration": 0.071041,
     "end_time": "2022-04-23T10:23:55.227593",
     "exception": false,
     "start_time": "2022-04-23T10:23:55.156552",
     "status": "completed"
    },
    "tags": []
   },
   "outputs": [],
   "source": [
    "class DINN(nn.Module):\n",
    "    def __init__(self, t, S_data, I_data, D_data, R_data): # remember that the data was saved as [t,S,I,D,R]\n",
    "        super(DINN, self).__init__()\n",
    "        # here all the \"loading the data\" and training is happening\n",
    "        pass"
   ]
  },
  {
   "cell_type": "markdown",
   "id": "9da491c2",
   "metadata": {
    "papermill": {
     "duration": 0.058017,
     "end_time": "2022-04-23T10:23:55.344813",
     "exception": false,
     "start_time": "2022-04-23T10:23:55.286796",
     "status": "completed"
    },
    "tags": []
   },
   "source": [
    "## 4. Now we need to define some initial conditions"
   ]
  },
  {
   "cell_type": "code",
   "execution_count": 10,
   "id": "1f149786",
   "metadata": {
    "execution": {
     "iopub.execute_input": "2022-04-23T10:23:55.462285Z",
     "iopub.status.busy": "2022-04-23T10:23:55.461357Z",
     "iopub.status.idle": "2022-04-23T10:23:55.468679Z",
     "shell.execute_reply": "2022-04-23T10:23:55.469225Z"
    },
    "papermill": {
     "duration": 0.067736,
     "end_time": "2022-04-23T10:23:55.469384",
     "exception": false,
     "start_time": "2022-04-23T10:23:55.401648",
     "status": "completed"
    },
    "tags": []
   },
   "outputs": [],
   "source": [
    "class DINN(nn.Module):\n",
    "    def __init__(self, t, S_data, I_data, D_data, R_data): #[t,S,I,D,R]\n",
    "        super(DINN, self).__init__()\n",
    "        \n",
    "        self.N = 59e6 #population size\n",
    "        \n",
    "        #for the time steps, we need to convert them to a tensor, a float, and eventually to reshape it so it can be used as a batch\n",
    "        self.t = torch.tensor(t, requires_grad=True)\n",
    "        self.t_float = self.t.float()\n",
    "        self.t_batch = torch.reshape(self.t_float, (len(self.t),1)) #reshape for batch \n",
    "\n",
    "        #for the compartments we just need to convert them into tensors\n",
    "        self.S = torch.tensor(S_data)\n",
    "        self.I = torch.tensor(I_data)\n",
    "        self.D = torch.tensor(D_data)\n",
    "        self.R = torch.tensor(R_data)\n",
    "\n",
    "        self.losses = [] # here I saved the model's losses per epoch"
   ]
  },
  {
   "cell_type": "markdown",
   "id": "2a50c21c",
   "metadata": {
    "papermill": {
     "duration": 0.058252,
     "end_time": "2022-04-23T10:23:55.585056",
     "exception": false,
     "start_time": "2022-04-23T10:23:55.526804",
     "status": "completed"
    },
    "tags": []
   },
   "source": [
    "## 5. There are two options for this part. Either you know the values of the parameters (alpha, beta, gamma) or you don't. \n",
    "If you're wondering how can we not know their values if we just generated the data using them, remember that we can also get the data from the environment, and so we might not have the parameters"
   ]
  },
  {
   "cell_type": "markdown",
   "id": "89e0917f",
   "metadata": {
    "papermill": {
     "duration": 0.058027,
     "end_time": "2022-04-23T10:23:55.700056",
     "exception": false,
     "start_time": "2022-04-23T10:23:55.642029",
     "status": "completed"
    },
    "tags": []
   },
   "source": [
    "## If we don't know their values, we let the neural network learn it\n",
    "Note that the reason for the \"tilda\" part will be clear soon. It's basically to bound the variables around a certain range (imagine telling the neural network to learn alpha, but not from negative infinity to infinity, but from -100 to 100)"
   ]
  },
  {
   "cell_type": "code",
   "execution_count": 11,
   "id": "1ff20a49",
   "metadata": {
    "execution": {
     "iopub.execute_input": "2022-04-23T10:23:55.825704Z",
     "iopub.status.busy": "2022-04-23T10:23:55.824729Z",
     "iopub.status.idle": "2022-04-23T10:23:55.827947Z",
     "shell.execute_reply": "2022-04-23T10:23:55.828436Z"
    },
    "papermill": {
     "duration": 0.067867,
     "end_time": "2022-04-23T10:23:55.828596",
     "exception": false,
     "start_time": "2022-04-23T10:23:55.760729",
     "status": "completed"
    },
    "tags": []
   },
   "outputs": [],
   "source": [
    "# self.alpha_tilda = torch.nn.Parameter(torch.rand(1, requires_grad=True))\n",
    "# self.beta_tilda = torch.nn.Parameter(torch.rand(1, requires_grad=True))\n",
    "# self.gamma_tilda = torch.nn.Parameter(torch.rand(1, requires_grad=True))"
   ]
  },
  {
   "cell_type": "markdown",
   "id": "d8ab3646",
   "metadata": {
    "papermill": {
     "duration": 0.060096,
     "end_time": "2022-04-23T10:23:55.946851",
     "exception": false,
     "start_time": "2022-04-23T10:23:55.886755",
     "status": "completed"
    },
    "tags": []
   },
   "source": [
    "## If we do know their values, we just set it"
   ]
  },
  {
   "cell_type": "code",
   "execution_count": 12,
   "id": "47b16f11",
   "metadata": {
    "execution": {
     "iopub.execute_input": "2022-04-23T10:23:56.070815Z",
     "iopub.status.busy": "2022-04-23T10:23:56.069855Z",
     "iopub.status.idle": "2022-04-23T10:23:56.073046Z",
     "shell.execute_reply": "2022-04-23T10:23:56.073481Z"
    },
    "papermill": {
     "duration": 0.066352,
     "end_time": "2022-04-23T10:23:56.073659",
     "exception": false,
     "start_time": "2022-04-23T10:23:56.007307",
     "status": "completed"
    },
    "tags": []
   },
   "outputs": [],
   "source": [
    "# self.alpha_tilda = torch.tensor(0.191)\n",
    "# self.beta_tilda = torch.tensor(0.05)\n",
    "# self.gamma_tilda = torch.tensor(0.0294)"
   ]
  },
  {
   "cell_type": "markdown",
   "id": "96d156d9",
   "metadata": {
    "papermill": {
     "duration": 0.057216,
     "end_time": "2022-04-23T10:23:56.188453",
     "exception": false,
     "start_time": "2022-04-23T10:23:56.131237",
     "status": "completed"
    },
    "tags": []
   },
   "source": [
    "## Let's assume we don't know them:"
   ]
  },
  {
   "cell_type": "code",
   "execution_count": 13,
   "id": "f3f13413",
   "metadata": {
    "execution": {
     "iopub.execute_input": "2022-04-23T10:23:56.308470Z",
     "iopub.status.busy": "2022-04-23T10:23:56.307485Z",
     "iopub.status.idle": "2022-04-23T10:23:56.316436Z",
     "shell.execute_reply": "2022-04-23T10:23:56.316902Z"
    },
    "papermill": {
     "duration": 0.071406,
     "end_time": "2022-04-23T10:23:56.317069",
     "exception": false,
     "start_time": "2022-04-23T10:23:56.245663",
     "status": "completed"
    },
    "tags": []
   },
   "outputs": [],
   "source": [
    "class DINN(nn.Module):\n",
    "    def __init__(self, t, S_data, I_data, D_data, R_data): #[t,S,I,D,R]\n",
    "        super(DINN, self).__init__()\n",
    "        \n",
    "        self.N = 59e6 #population size\n",
    "        \n",
    "        #for the time steps, we need to convert them to a tensor, a float, and eventually to reshape it so it can be used as a batch\n",
    "        self.t = torch.tensor(t, requires_grad=True)\n",
    "        self.t_float = self.t.float()\n",
    "        self.t_batch = torch.reshape(self.t_float, (len(self.t),1)) #reshape for batch \n",
    "\n",
    "        #for the compartments we just need to convert them into tensors\n",
    "        self.S = torch.tensor(S_data)\n",
    "        self.I = torch.tensor(I_data)\n",
    "        self.D = torch.tensor(D_data)\n",
    "        self.R = torch.tensor(R_data)\n",
    "\n",
    "        self.losses = [] # here I saved the model's losses per epoch\n",
    "\n",
    "        #setting the parameters\n",
    "        self.alpha_tilda = torch.nn.Parameter(torch.rand(1, requires_grad=True))\n",
    "        self.beta_tilda = torch.nn.Parameter(torch.rand(1, requires_grad=True))\n",
    "        self.gamma_tilda = torch.nn.Parameter(torch.rand(1, requires_grad=True))"
   ]
  },
  {
   "cell_type": "markdown",
   "id": "b97bbc66",
   "metadata": {
    "papermill": {
     "duration": 0.057396,
     "end_time": "2022-04-23T10:23:56.432350",
     "exception": false,
     "start_time": "2022-04-23T10:23:56.374954",
     "status": "completed"
    },
    "tags": []
   },
   "source": [
    "## 6. Normalize the data\n",
    "Remember that our population size was 59 mil? Remember that there was only 1 infected person and almost 59 mil susceptible people? These drastic variations in values are quite challenging for the network to learn. So we normalize each compartment to be between 0 and 1 for the sake of training"
   ]
  },
  {
   "cell_type": "code",
   "execution_count": 14,
   "id": "780f3d1d",
   "metadata": {
    "execution": {
     "iopub.execute_input": "2022-04-23T10:23:56.552633Z",
     "iopub.status.busy": "2022-04-23T10:23:56.552029Z",
     "iopub.status.idle": "2022-04-23T10:23:56.554123Z",
     "shell.execute_reply": "2022-04-23T10:23:56.553519Z"
    },
    "papermill": {
     "duration": 0.064332,
     "end_time": "2022-04-23T10:23:56.554257",
     "exception": false,
     "start_time": "2022-04-23T10:23:56.489925",
     "status": "completed"
    },
    "tags": []
   },
   "outputs": [],
   "source": [
    "# find values for normalization\n",
    "\n",
    "# max values\n",
    "# self.S_max = max(self.S)\n",
    "# self.I_max = max(self.I)\n",
    "# self.D_max = max(self.D)\n",
    "# self.R_max = max(self.R)\n",
    "\n",
    "# min values\n",
    "# self.S_min = min(self.S)\n",
    "# self.I_min = min(self.I)\n",
    "# self.D_min = min(self.D)\n",
    "# self.R_min = min(self.R)\n",
    "\n",
    "# create new normalized parameters (which is why the \"hat\" parts)\n",
    "# self.S_hat = (self.S - self.S_min) / (self.S_max - self.S_min)\n",
    "# self.I_hat = (self.I - self.I_min) / (self.I_max - self.I_min)\n",
    "# self.D_hat = (self.D - self.D_min) / (self.D_max - self.D_min)\n",
    "# self.R_hat = (self.R - self.R_min) / (self.R_max - self.R_min)\n"
   ]
  },
  {
   "cell_type": "code",
   "execution_count": 15,
   "id": "7224fc8a",
   "metadata": {
    "execution": {
     "iopub.execute_input": "2022-04-23T10:23:56.672091Z",
     "iopub.status.busy": "2022-04-23T10:23:56.671458Z",
     "iopub.status.idle": "2022-04-23T10:23:56.684238Z",
     "shell.execute_reply": "2022-04-23T10:23:56.684724Z"
    },
    "papermill": {
     "duration": 0.073294,
     "end_time": "2022-04-23T10:23:56.684903",
     "exception": false,
     "start_time": "2022-04-23T10:23:56.611609",
     "status": "completed"
    },
    "tags": []
   },
   "outputs": [],
   "source": [
    "class DINN(nn.Module):\n",
    "    def __init__(self, t, S_data, I_data, D_data, R_data): #[t,S,I,D,R]\n",
    "        super(DINN, self).__init__()\n",
    "        \n",
    "        self.N = 59e6 #population size\n",
    "        \n",
    "        #for the time steps, we need to convert them to a tensor, a float, and eventually to reshape it so it can be used as a batch\n",
    "        self.t = torch.tensor(t, requires_grad=True)\n",
    "        self.t_float = self.t.float()\n",
    "        self.t_batch = torch.reshape(self.t_float, (len(self.t),1)) #reshape for batch \n",
    "\n",
    "        #for the compartments we just need to convert them into tensors\n",
    "        self.S = torch.tensor(S_data)\n",
    "        self.I = torch.tensor(I_data)\n",
    "        self.D = torch.tensor(D_data)\n",
    "        self.R = torch.tensor(R_data)\n",
    "\n",
    "        self.losses = [] # here I saved the model's losses per epoch\n",
    "\n",
    "        #setting the parameters\n",
    "        self.alpha_tilda = torch.nn.Parameter(torch.rand(1, requires_grad=True))\n",
    "        self.beta_tilda = torch.nn.Parameter(torch.rand(1, requires_grad=True))\n",
    "        self.gamma_tilda = torch.nn.Parameter(torch.rand(1, requires_grad=True))\n",
    "\n",
    "        #find values for normalization\n",
    "        self.S_max = max(self.S)\n",
    "        self.I_max = max(self.I)\n",
    "        self.D_max = max(self.D)\n",
    "        self.R_max = max(self.R)\n",
    "        self.S_min = min(self.S)\n",
    "        self.I_min = min(self.I)\n",
    "        self.D_min = min(self.D)\n",
    "        self.R_min = min(self.R)\n",
    "\n",
    "        #normalize\n",
    "        self.S_hat = (self.S - self.S_min) / (self.S_max - self.S_min)\n",
    "        self.I_hat = (self.I - self.I_min) / (self.I_max - self.I_min)\n",
    "        self.D_hat = (self.D - self.D_min) / (self.D_max - self.D_min)\n",
    "        self.R_hat = (self.R - self.R_min) / (self.R_max - self.R_min)        "
   ]
  },
  {
   "cell_type": "markdown",
   "id": "1c1ca75f",
   "metadata": {
    "papermill": {
     "duration": 0.05767,
     "end_time": "2022-04-23T10:23:56.800265",
     "exception": false,
     "start_time": "2022-04-23T10:23:56.742595",
     "status": "completed"
    },
    "tags": []
   },
   "source": [
    "## 7. A bit \"hacky\" way to calculate the gradients later\n",
    "It doesn't seem like PyTorch has an easy way to calculate gradients. The issue is that \"grad\" only knows how to propagate gradients from a scalar tensor (which our network's output is not), which is why I had to calculate the Jacobian.\n",
    "So instead of calculating the entire jacobian, I'm using this \"hacky\" way\n",
    " "
   ]
  },
  {
   "cell_type": "code",
   "execution_count": 16,
   "id": "b9dd8cf6",
   "metadata": {
    "execution": {
     "iopub.execute_input": "2022-04-23T10:23:56.918638Z",
     "iopub.status.busy": "2022-04-23T10:23:56.918038Z",
     "iopub.status.idle": "2022-04-23T10:23:56.921394Z",
     "shell.execute_reply": "2022-04-23T10:23:56.921955Z"
    },
    "papermill": {
     "duration": 0.064318,
     "end_time": "2022-04-23T10:23:56.922124",
     "exception": false,
     "start_time": "2022-04-23T10:23:56.857806",
     "status": "completed"
    },
    "tags": []
   },
   "outputs": [],
   "source": [
    "# matrices (x4 for S,I,D,R) for the gradients\n",
    "# What's important here:\n",
    "# We have 4 compartments, hence the value 4 in \"torch.zeros((len(self.t), 4))\". \n",
    "# If we had 20 compartments we would write torch.zeros((len(self.t), 20))\n",
    "# Also, we're setting each specific column in the formed matrices to 1\n",
    "\n",
    "# self.m1 = torch.zeros((len(self.t), 4)); self.m1[:, 0] = 1\n",
    "# self.m2 = torch.zeros((len(self.t), 4)); self.m2[:, 1] = 1\n",
    "# self.m3 = torch.zeros((len(self.t), 4)); self.m3[:, 2] = 1\n",
    "# self.m4 = torch.zeros((len(self.t), 4)); self.m4[:, 3] = 1\n",
    "\n",
    "# See (https://stackoverflow.com/questions/67472361/using-pytorchs-autograd-efficiently-with-tensors-by-calculating-the-jacobian) for more details"
   ]
  },
  {
   "cell_type": "code",
   "execution_count": 17,
   "id": "23d029ac",
   "metadata": {
    "execution": {
     "iopub.execute_input": "2022-04-23T10:23:57.041567Z",
     "iopub.status.busy": "2022-04-23T10:23:57.040934Z",
     "iopub.status.idle": "2022-04-23T10:23:57.056512Z",
     "shell.execute_reply": "2022-04-23T10:23:57.057051Z"
    },
    "papermill": {
     "duration": 0.077263,
     "end_time": "2022-04-23T10:23:57.057218",
     "exception": false,
     "start_time": "2022-04-23T10:23:56.979955",
     "status": "completed"
    },
    "tags": []
   },
   "outputs": [],
   "source": [
    "class DINN(nn.Module):\n",
    "    def __init__(self, t, S_data, I_data, D_data, R_data): #[t,S,I,D,R]\n",
    "        super(DINN, self).__init__()\n",
    "        \n",
    "        self.N = 59e6 #population size\n",
    "        \n",
    "        #for the time steps, we need to convert them to a tensor, a float, and eventually to reshape it so it can be used as a batch\n",
    "        self.t = torch.tensor(t, requires_grad=True)\n",
    "        self.t_float = self.t.float()\n",
    "        self.t_batch = torch.reshape(self.t_float, (len(self.t),1)) #reshape for batch \n",
    "\n",
    "        #for the compartments we just need to convert them into tensors\n",
    "        self.S = torch.tensor(S_data)\n",
    "        self.I = torch.tensor(I_data)\n",
    "        self.D = torch.tensor(D_data)\n",
    "        self.R = torch.tensor(R_data)\n",
    "\n",
    "        self.losses = [] # here I saved the model's losses per epoch\n",
    "\n",
    "        #setting the parameters\n",
    "        self.alpha_tilda = torch.nn.Parameter(torch.rand(1, requires_grad=True))\n",
    "        self.beta_tilda = torch.nn.Parameter(torch.rand(1, requires_grad=True))\n",
    "        self.gamma_tilda = torch.nn.Parameter(torch.rand(1, requires_grad=True))\n",
    "\n",
    "        #find values for normalization\n",
    "        self.S_max = max(self.S)\n",
    "        self.I_max = max(self.I)\n",
    "        self.D_max = max(self.D)\n",
    "        self.R_max = max(self.R)\n",
    "        self.S_min = min(self.S)\n",
    "        self.I_min = min(self.I)\n",
    "        self.D_min = min(self.D)\n",
    "        self.R_min = min(self.R)\n",
    "\n",
    "        #normalize\n",
    "        self.S_hat = (self.S - self.S_min) / (self.S_max - self.S_min)\n",
    "        self.I_hat = (self.I - self.I_min) / (self.I_max - self.I_min)\n",
    "        self.D_hat = (self.D - self.D_min) / (self.D_max - self.D_min)\n",
    "        self.R_hat = (self.R - self.R_min) / (self.R_max - self.R_min)        \n",
    "\n",
    "        #matrices (x4 for S,I,D,R) for the gradients\n",
    "        self.m1 = torch.zeros((len(self.t), 4)); self.m1[:, 0] = 1\n",
    "        self.m2 = torch.zeros((len(self.t), 4)); self.m2[:, 1] = 1\n",
    "        self.m3 = torch.zeros((len(self.t), 4)); self.m3[:, 2] = 1\n",
    "        self.m4 = torch.zeros((len(self.t), 4)); self.m4[:, 3] = 1"
   ]
  },
  {
   "cell_type": "markdown",
   "id": "0cb59a7c",
   "metadata": {
    "papermill": {
     "duration": 0.058053,
     "end_time": "2022-04-23T10:23:57.173274",
     "exception": false,
     "start_time": "2022-04-23T10:23:57.115221",
     "status": "completed"
    },
    "tags": []
   },
   "source": [
    "## 8. Let's initialize the network and learnable parameters"
   ]
  },
  {
   "cell_type": "code",
   "execution_count": 18,
   "id": "8bc76bff",
   "metadata": {
    "execution": {
     "iopub.execute_input": "2022-04-23T10:23:57.294342Z",
     "iopub.status.busy": "2022-04-23T10:23:57.293673Z",
     "iopub.status.idle": "2022-04-23T10:23:57.295313Z",
     "shell.execute_reply": "2022-04-23T10:23:57.295786Z"
    },
    "papermill": {
     "duration": 0.064558,
     "end_time": "2022-04-23T10:23:57.295961",
     "exception": false,
     "start_time": "2022-04-23T10:23:57.231403",
     "status": "completed"
    },
    "tags": []
   },
   "outputs": [],
   "source": [
    "# # Initializing the neural network\n",
    "# self.net_sidr = self.Net_sidr()\n",
    "\n",
    "# # adding the parameters (alpha, beta, gamma) to the list of learnable parameters (basically, without this part only the neural network's weights will be updated, so we're telling the model to learn alpha, beta, and gamma as well)\n",
    "# self.params = list(self.net_sidr.parameters())\n",
    "# self.params.extend(list([self.alpha_tilda, self.beta_tilda, self.gamma_tilda]))"
   ]
  },
  {
   "cell_type": "code",
   "execution_count": 19,
   "id": "c0acfbe3",
   "metadata": {
    "execution": {
     "iopub.execute_input": "2022-04-23T10:23:57.417367Z",
     "iopub.status.busy": "2022-04-23T10:23:57.416644Z",
     "iopub.status.idle": "2022-04-23T10:23:57.433676Z",
     "shell.execute_reply": "2022-04-23T10:23:57.434163Z"
    },
    "papermill": {
     "duration": 0.079264,
     "end_time": "2022-04-23T10:23:57.434338",
     "exception": false,
     "start_time": "2022-04-23T10:23:57.355074",
     "status": "completed"
    },
    "tags": []
   },
   "outputs": [],
   "source": [
    "class DINN(nn.Module):\n",
    "    def __init__(self, t, S_data, I_data, D_data, R_data): #[t,S,I,D,R]\n",
    "        super(DINN, self).__init__()\n",
    "        \n",
    "        self.N = 59e6 #population size\n",
    "        \n",
    "        #for the time steps, we need to convert them to a tensor, a float, and eventually to reshape it so it can be used as a batch\n",
    "        self.t = torch.tensor(t, requires_grad=True)\n",
    "        self.t_float = self.t.float()\n",
    "        self.t_batch = torch.reshape(self.t_float, (len(self.t),1)) #reshape for batch \n",
    "\n",
    "        #for the compartments we just need to convert them into tensors\n",
    "        self.S = torch.tensor(S_data)\n",
    "        self.I = torch.tensor(I_data)\n",
    "        self.D = torch.tensor(D_data)\n",
    "        self.R = torch.tensor(R_data)\n",
    "\n",
    "        self.losses = [] # here I saved the model's losses per epoch\n",
    "\n",
    "        #setting the parameters\n",
    "        self.alpha_tilda = torch.nn.Parameter(torch.rand(1, requires_grad=True))\n",
    "        self.beta_tilda = torch.nn.Parameter(torch.rand(1, requires_grad=True))\n",
    "        self.gamma_tilda = torch.nn.Parameter(torch.rand(1, requires_grad=True))\n",
    "\n",
    "        #find values for normalization\n",
    "        self.S_max = max(self.S)\n",
    "        self.I_max = max(self.I)\n",
    "        self.D_max = max(self.D)\n",
    "        self.R_max = max(self.R)\n",
    "        self.S_min = min(self.S)\n",
    "        self.I_min = min(self.I)\n",
    "        self.D_min = min(self.D)\n",
    "        self.R_min = min(self.R)\n",
    "\n",
    "        #normalize\n",
    "        self.S_hat = (self.S - self.S_min) / (self.S_max - self.S_min)\n",
    "        self.I_hat = (self.I - self.I_min) / (self.I_max - self.I_min)\n",
    "        self.D_hat = (self.D - self.D_min) / (self.D_max - self.D_min)\n",
    "        self.R_hat = (self.R - self.R_min) / (self.R_max - self.R_min)        \n",
    "\n",
    "        #matrices (x4 for S,I,D,R) for the gradients\n",
    "        self.m1 = torch.zeros((len(self.t), 4)); self.m1[:, 0] = 1\n",
    "        self.m2 = torch.zeros((len(self.t), 4)); self.m2[:, 1] = 1\n",
    "        self.m3 = torch.zeros((len(self.t), 4)); self.m3[:, 2] = 1\n",
    "        self.m4 = torch.zeros((len(self.t), 4)); self.m4[:, 3] = 1\n",
    "\n",
    "        #NN\n",
    "        self.net_sidr = self.Net_sidr()\n",
    "        self.params = list(self.net_sidr.parameters())\n",
    "        self.params.extend(list([self.alpha_tilda, self.beta_tilda, self.gamma_tilda]))\n"
   ]
  },
  {
   "cell_type": "markdown",
   "id": "dfd0b365",
   "metadata": {
    "papermill": {
     "duration": 0.058412,
     "end_time": "2022-04-23T10:23:57.551550",
     "exception": false,
     "start_time": "2022-04-23T10:23:57.493138",
     "status": "completed"
    },
    "tags": []
   },
   "source": [
    "## 9. Forcing the parameters to be in a certain range\n",
    "As I mentioned before, we could let the model learn the parameters from negative infinity to infinity, but why should we? These parameters usually have some plausible range. Here we force these ranges"
   ]
  },
  {
   "cell_type": "code",
   "execution_count": 20,
   "id": "d5e04bf0",
   "metadata": {
    "execution": {
     "iopub.execute_input": "2022-04-23T10:23:57.672716Z",
     "iopub.status.busy": "2022-04-23T10:23:57.671675Z",
     "iopub.status.idle": "2022-04-23T10:23:57.680133Z",
     "shell.execute_reply": "2022-04-23T10:23:57.680680Z"
    },
    "papermill": {
     "duration": 0.0706,
     "end_time": "2022-04-23T10:23:57.680846",
     "exception": false,
     "start_time": "2022-04-23T10:23:57.610246",
     "status": "completed"
    },
    "tags": []
   },
   "outputs": [],
   "source": [
    "#force parameters to be in the range of (-1, 1)\n",
    "@property\n",
    "def alpha(self):\n",
    "    return torch.tanh(self.alpha_tilda) \n",
    "\n",
    "@property\n",
    "def beta(self):\n",
    "    return torch.tanh(self.beta_tilda) \n",
    "\n",
    "@property\n",
    "def gamma(self):\n",
    "    return torch.tanh(self.gamma_tilda) \n",
    "\n",
    "\n",
    "#note that you can easily play with that:\n",
    "\n",
    "#force parameters to be in various ranges\n",
    "@property\n",
    "def alpha(self):\n",
    "    return torch.tanh(self.alpha_tilda) * 0.5 # range of (-0.5, 0.5)\n",
    "\n",
    "@property\n",
    "def beta(self):\n",
    "    return torch.tanh(self.beta_tilda) * 0.01 + 1 # range of (-0.99, 1.01)\n",
    "\n",
    "@property\n",
    "def gamma(self):\n",
    "    return torch.tanh(self.gamma_tilda) * 100 # range of (-100, 100)\n",
    "\n",
    "\n",
    "# Also note that we call these alpha, beta, and gamma (in comparison to \"alpha_tilda\", etc. from before)\n",
    "\n",
    "# If you know the values of the parameters you just need to change this to:\n",
    "@property\n",
    "def alpha(self):\n",
    "    return self.alpha_tilda\n",
    "\n",
    "@property\n",
    "def beta(self):\n",
    "    return self.beta_tilda\n",
    "\n",
    "@property\n",
    "def gamma(self):\n",
    "    return self.gamma_tilda"
   ]
  },
  {
   "cell_type": "code",
   "execution_count": 21,
   "id": "306b821e",
   "metadata": {
    "execution": {
     "iopub.execute_input": "2022-04-23T10:23:57.802239Z",
     "iopub.status.busy": "2022-04-23T10:23:57.801221Z",
     "iopub.status.idle": "2022-04-23T10:23:57.820085Z",
     "shell.execute_reply": "2022-04-23T10:23:57.820596Z"
    },
    "papermill": {
     "duration": 0.081173,
     "end_time": "2022-04-23T10:23:57.820761",
     "exception": false,
     "start_time": "2022-04-23T10:23:57.739588",
     "status": "completed"
    },
    "tags": []
   },
   "outputs": [],
   "source": [
    "class DINN(nn.Module):\n",
    "    def __init__(self, t, S_data, I_data, D_data, R_data): #[t,S,I,D,R]\n",
    "        super(DINN, self).__init__()\n",
    "        \n",
    "        self.N = 59e6 #population size\n",
    "        \n",
    "        #for the time steps, we need to convert them to a tensor, a float, and eventually to reshape it so it can be used as a batch\n",
    "        self.t = torch.tensor(t, requires_grad=True)\n",
    "        self.t_float = self.t.float()\n",
    "        self.t_batch = torch.reshape(self.t_float, (len(self.t),1)) #reshape for batch \n",
    "\n",
    "        #for the compartments we just need to convert them into tensors\n",
    "        self.S = torch.tensor(S_data)\n",
    "        self.I = torch.tensor(I_data)\n",
    "        self.D = torch.tensor(D_data)\n",
    "        self.R = torch.tensor(R_data)\n",
    "\n",
    "        self.losses = [] # here I saved the model's losses per epoch\n",
    "\n",
    "        #setting the parameters\n",
    "        self.alpha_tilda = torch.nn.Parameter(torch.rand(1, requires_grad=True))\n",
    "        self.beta_tilda = torch.nn.Parameter(torch.rand(1, requires_grad=True))\n",
    "        self.gamma_tilda = torch.nn.Parameter(torch.rand(1, requires_grad=True))\n",
    "\n",
    "        #find values for normalization\n",
    "        self.S_max = max(self.S)\n",
    "        self.I_max = max(self.I)\n",
    "        self.D_max = max(self.D)\n",
    "        self.R_max = max(self.R)\n",
    "        self.S_min = min(self.S)\n",
    "        self.I_min = min(self.I)\n",
    "        self.D_min = min(self.D)\n",
    "        self.R_min = min(self.R)\n",
    "\n",
    "        #normalize\n",
    "        self.S_hat = (self.S - self.S_min) / (self.S_max - self.S_min)\n",
    "        self.I_hat = (self.I - self.I_min) / (self.I_max - self.I_min)\n",
    "        self.D_hat = (self.D - self.D_min) / (self.D_max - self.D_min)\n",
    "        self.R_hat = (self.R - self.R_min) / (self.R_max - self.R_min)        \n",
    "\n",
    "        #matrices (x4 for S,I,D,R) for the gradients\n",
    "        self.m1 = torch.zeros((len(self.t), 4)); self.m1[:, 0] = 1\n",
    "        self.m2 = torch.zeros((len(self.t), 4)); self.m2[:, 1] = 1\n",
    "        self.m3 = torch.zeros((len(self.t), 4)); self.m3[:, 2] = 1\n",
    "        self.m4 = torch.zeros((len(self.t), 4)); self.m4[:, 3] = 1\n",
    "\n",
    "        #NN\n",
    "        self.net_sidr = self.Net_sidr()\n",
    "        self.params = list(self.net_sidr.parameters())\n",
    "        self.params.extend(list([self.alpha_tilda, self.beta_tilda, self.gamma_tilda]))\n",
    "\n",
    "    #force parameters to be in a range\n",
    "    @property\n",
    "    def alpha(self):\n",
    "        return torch.tanh(self.alpha_tilda) \n",
    "\n",
    "    @property\n",
    "    def beta(self):\n",
    "        return torch.tanh(self.beta_tilda) \n",
    "    \n",
    "    @property\n",
    "    def gamma(self):\n",
    "        return torch.tanh(self.gamma_tilda) \n"
   ]
  },
  {
   "cell_type": "markdown",
   "id": "e30d4f31",
   "metadata": {
    "papermill": {
     "duration": 0.058686,
     "end_time": "2022-04-23T10:23:57.940337",
     "exception": false,
     "start_time": "2022-04-23T10:23:57.881651",
     "status": "completed"
    },
    "tags": []
   },
   "source": [
    "## 10. Creating the neural network"
   ]
  },
  {
   "cell_type": "code",
   "execution_count": 22,
   "id": "ff8eaefa",
   "metadata": {
    "execution": {
     "iopub.execute_input": "2022-04-23T10:23:58.063609Z",
     "iopub.status.busy": "2022-04-23T10:23:58.062641Z",
     "iopub.status.idle": "2022-04-23T10:23:58.072755Z",
     "shell.execute_reply": "2022-04-23T10:23:58.073450Z"
    },
    "papermill": {
     "duration": 0.073589,
     "end_time": "2022-04-23T10:23:58.073635",
     "exception": false,
     "start_time": "2022-04-23T10:23:58.000046",
     "status": "completed"
    },
    "tags": []
   },
   "outputs": [],
   "source": [
    "class Net_sidr(nn.Module): # input = [[t1], [t2]...[t100]] -- that is, a batch of timesteps \n",
    "    def __init__(self):\n",
    "        super(DINN.Net_sidr, self).__init__()\n",
    "\n",
    "        self.fc1=nn.Linear(1, 20) #takes 100 t's\n",
    "        self.fc2=nn.Linear(20, 20)\n",
    "        self.fc3=nn.Linear(20, 20)\n",
    "        self.fc4=nn.Linear(20, 20)\n",
    "        self.fc5=nn.Linear(20, 20)\n",
    "        self.fc6=nn.Linear(20, 20)\n",
    "        self.fc7=nn.Linear(20, 20)\n",
    "        self.fc8=nn.Linear(20, 20)\n",
    "        self.out=nn.Linear(20, 4) #outputs S, I, D, R (100 S, 100 I, 100 D, 100 R --- since we have a batch of 100 timesteps)\n",
    "\n",
    "    def forward(self, t_batch):\n",
    "        sidr=F.relu(self.fc1(t_batch))\n",
    "        sidr=F.relu(self.fc2(sidr))\n",
    "        sidr=F.relu(self.fc3(sidr))\n",
    "        sidr=F.relu(self.fc4(sidr))\n",
    "        sidr=F.relu(self.fc5(sidr))\n",
    "        sidr=F.relu(self.fc6(sidr))\n",
    "        sidr=F.relu(self.fc7(sidr))\n",
    "        sidr=F.relu(self.fc8(sidr))\n",
    "        sidr=self.out(sidr)\n",
    "        return sidr\n",
    "        "
   ]
  },
  {
   "cell_type": "code",
   "execution_count": 23,
   "id": "5bf92198",
   "metadata": {
    "execution": {
     "iopub.execute_input": "2022-04-23T10:23:58.196950Z",
     "iopub.status.busy": "2022-04-23T10:23:58.195951Z",
     "iopub.status.idle": "2022-04-23T10:23:58.221934Z",
     "shell.execute_reply": "2022-04-23T10:23:58.222471Z"
    },
    "papermill": {
     "duration": 0.08954,
     "end_time": "2022-04-23T10:23:58.222639",
     "exception": false,
     "start_time": "2022-04-23T10:23:58.133099",
     "status": "completed"
    },
    "tags": []
   },
   "outputs": [],
   "source": [
    "class DINN(nn.Module):\n",
    "    def __init__(self, t, S_data, I_data, D_data, R_data): #[t,S,I,D,R]\n",
    "        super(DINN, self).__init__()\n",
    "        \n",
    "        self.N = 59e6 #population size\n",
    "        \n",
    "        #for the time steps, we need to convert them to a tensor, a float, and eventually to reshape it so it can be used as a batch\n",
    "        self.t = torch.tensor(t, requires_grad=True)\n",
    "        self.t_float = self.t.float()\n",
    "        self.t_batch = torch.reshape(self.t_float, (len(self.t),1)) #reshape for batch \n",
    "\n",
    "        #for the compartments we just need to convert them into tensors\n",
    "        self.S = torch.tensor(S_data)\n",
    "        self.I = torch.tensor(I_data)\n",
    "        self.D = torch.tensor(D_data)\n",
    "        self.R = torch.tensor(R_data)\n",
    "\n",
    "        self.losses = [] # here I saved the model's losses per epoch\n",
    "\n",
    "        #setting the parameters\n",
    "        self.alpha_tilda = torch.nn.Parameter(torch.rand(1, requires_grad=True))\n",
    "        self.beta_tilda = torch.nn.Parameter(torch.rand(1, requires_grad=True))\n",
    "        self.gamma_tilda = torch.nn.Parameter(torch.rand(1, requires_grad=True))\n",
    "\n",
    "        #find values for normalization\n",
    "        self.S_max = max(self.S)\n",
    "        self.I_max = max(self.I)\n",
    "        self.D_max = max(self.D)\n",
    "        self.R_max = max(self.R)\n",
    "        self.S_min = min(self.S)\n",
    "        self.I_min = min(self.I)\n",
    "        self.D_min = min(self.D)\n",
    "        self.R_min = min(self.R)\n",
    "\n",
    "        #normalize\n",
    "        self.S_hat = (self.S - self.S_min) / (self.S_max - self.S_min)\n",
    "        self.I_hat = (self.I - self.I_min) / (self.I_max - self.I_min)\n",
    "        self.D_hat = (self.D - self.D_min) / (self.D_max - self.D_min)\n",
    "        self.R_hat = (self.R - self.R_min) / (self.R_max - self.R_min)        \n",
    "\n",
    "        #matrices (x4 for S,I,D,R) for the gradients\n",
    "        self.m1 = torch.zeros((len(self.t), 4)); self.m1[:, 0] = 1\n",
    "        self.m2 = torch.zeros((len(self.t), 4)); self.m2[:, 1] = 1\n",
    "        self.m3 = torch.zeros((len(self.t), 4)); self.m3[:, 2] = 1\n",
    "        self.m4 = torch.zeros((len(self.t), 4)); self.m4[:, 3] = 1\n",
    "\n",
    "        #NN\n",
    "        self.net_sidr = self.Net_sidr()\n",
    "        self.params = list(self.net_sidr.parameters())\n",
    "        self.params.extend(list([self.alpha_tilda, self.beta_tilda, self.gamma_tilda]))\n",
    "\n",
    "    #force parameters to be in a range\n",
    "    @property\n",
    "    def alpha(self):\n",
    "        return torch.tanh(self.alpha_tilda) #* 0.1 + 0.2\n",
    "\n",
    "    @property\n",
    "    def beta(self):\n",
    "        return torch.tanh(self.beta_tilda) #* 0.01 + 0.05\n",
    "    \n",
    "    @property\n",
    "    def gamma(self):\n",
    "        return torch.tanh(self.gamma_tilda) #* 0.01 + 0.03\n",
    "\n",
    "    class Net_sidr(nn.Module): # input = [[t1], [t2]...[t100]] -- that is, a batch of timesteps \n",
    "        def __init__(self):\n",
    "            super(DINN.Net_sidr, self).__init__()\n",
    "\n",
    "            self.fc1=nn.Linear(1, 20) #takes 100 t's\n",
    "            self.fc2=nn.Linear(20, 20)\n",
    "            self.fc3=nn.Linear(20, 20)\n",
    "            self.fc4=nn.Linear(20, 20)\n",
    "            self.fc5=nn.Linear(20, 20)\n",
    "            self.fc6=nn.Linear(20, 20)\n",
    "            self.fc7=nn.Linear(20, 20)\n",
    "            self.fc8=nn.Linear(20, 20)\n",
    "            self.out=nn.Linear(20, 4) #outputs S, I, D, R (100 S, 100 I, 100 D, 100 R --- since we have a batch of 100 timesteps)\n",
    "\n",
    "        def forward(self, t_batch):\n",
    "            sidr=F.relu(self.fc1(t_batch))\n",
    "            sidr=F.relu(self.fc2(sidr))\n",
    "            sidr=F.relu(self.fc3(sidr))\n",
    "            sidr=F.relu(self.fc4(sidr))\n",
    "            sidr=F.relu(self.fc5(sidr))\n",
    "            sidr=F.relu(self.fc6(sidr))\n",
    "            sidr=F.relu(self.fc7(sidr))\n",
    "            sidr=F.relu(self.fc8(sidr))\n",
    "            sidr=self.out(sidr)\n",
    "            return sidr"
   ]
  },
  {
   "cell_type": "markdown",
   "id": "4f593081",
   "metadata": {
    "papermill": {
     "duration": 0.059366,
     "end_time": "2022-04-23T10:23:58.341292",
     "exception": false,
     "start_time": "2022-04-23T10:23:58.281926",
     "status": "completed"
    },
    "tags": []
   },
   "source": [
    "## 11. Now the somewhat complicated part, we create another function that takes the timesteps batch, and pass it to the neural network \n",
    "We basically want to optimize the neural network and also this function that has the system of equations"
   ]
  },
  {
   "cell_type": "code",
   "execution_count": 24,
   "id": "1268b8b6",
   "metadata": {
    "execution": {
     "iopub.execute_input": "2022-04-23T10:23:58.464759Z",
     "iopub.status.busy": "2022-04-23T10:23:58.463817Z",
     "iopub.status.idle": "2022-04-23T10:23:58.468528Z",
     "shell.execute_reply": "2022-04-23T10:23:58.469143Z"
    },
    "papermill": {
     "duration": 0.068139,
     "end_time": "2022-04-23T10:23:58.469307",
     "exception": false,
     "start_time": "2022-04-23T10:23:58.401168",
     "status": "completed"
    },
    "tags": []
   },
   "outputs": [],
   "source": [
    "def net_f(self, t_batch):\n",
    "        \n",
    "        #pass the timesteps batch to the neural network\n",
    "        sidr_hat = self.net_sidr(t_batch)\n",
    "        \n",
    "        #organize S,I,D,R from the neural network's output -- note that these are normalized values -- hence the \"hat\" part\n",
    "        S_hat, I_hat, D_hat, R_hat = sidr_hat[:,0], sidr_hat[:,1], sidr_hat[:,2], sidr_hat[:,3]\n"
   ]
  },
  {
   "cell_type": "code",
   "execution_count": 25,
   "id": "fdeda796",
   "metadata": {
    "execution": {
     "iopub.execute_input": "2022-04-23T10:23:58.607944Z",
     "iopub.status.busy": "2022-04-23T10:23:58.591578Z",
     "iopub.status.idle": "2022-04-23T10:23:58.618810Z",
     "shell.execute_reply": "2022-04-23T10:23:58.619434Z"
    },
    "papermill": {
     "duration": 0.090972,
     "end_time": "2022-04-23T10:23:58.619609",
     "exception": false,
     "start_time": "2022-04-23T10:23:58.528637",
     "status": "completed"
    },
    "tags": []
   },
   "outputs": [],
   "source": [
    "class DINN(nn.Module):\n",
    "    def __init__(self, t, S_data, I_data, D_data, R_data): #[t,S,I,D,R]\n",
    "        super(DINN, self).__init__()\n",
    "        \n",
    "        self.N = 59e6 #population size\n",
    "        \n",
    "        #for the time steps, we need to convert them to a tensor, a float, and eventually to reshape it so it can be used as a batch\n",
    "        self.t = torch.tensor(t, requires_grad=True)\n",
    "        self.t_float = self.t.float()\n",
    "        self.t_batch = torch.reshape(self.t_float, (len(self.t),1)) #reshape for batch \n",
    "\n",
    "        #for the compartments we just need to convert them into tensors\n",
    "        self.S = torch.tensor(S_data)\n",
    "        self.I = torch.tensor(I_data)\n",
    "        self.D = torch.tensor(D_data)\n",
    "        self.R = torch.tensor(R_data)\n",
    "\n",
    "        self.losses = [] # here I saved the model's losses per epoch\n",
    "\n",
    "        #setting the parameters\n",
    "        self.alpha_tilda = torch.nn.Parameter(torch.rand(1, requires_grad=True))\n",
    "        self.beta_tilda = torch.nn.Parameter(torch.rand(1, requires_grad=True))\n",
    "        self.gamma_tilda = torch.nn.Parameter(torch.rand(1, requires_grad=True))\n",
    "\n",
    "        #find values for normalization\n",
    "        self.S_max = max(self.S)\n",
    "        self.I_max = max(self.I)\n",
    "        self.D_max = max(self.D)\n",
    "        self.R_max = max(self.R)\n",
    "        self.S_min = min(self.S)\n",
    "        self.I_min = min(self.I)\n",
    "        self.D_min = min(self.D)\n",
    "        self.R_min = min(self.R)\n",
    "\n",
    "        #normalize\n",
    "        self.S_hat = (self.S - self.S_min) / (self.S_max - self.S_min)\n",
    "        self.I_hat = (self.I - self.I_min) / (self.I_max - self.I_min)\n",
    "        self.D_hat = (self.D - self.D_min) / (self.D_max - self.D_min)\n",
    "        self.R_hat = (self.R - self.R_min) / (self.R_max - self.R_min)        \n",
    "\n",
    "        #matrices (x4 for S,I,D,R) for the gradients\n",
    "        self.m1 = torch.zeros((len(self.t), 4)); self.m1[:, 0] = 1\n",
    "        self.m2 = torch.zeros((len(self.t), 4)); self.m2[:, 1] = 1\n",
    "        self.m3 = torch.zeros((len(self.t), 4)); self.m3[:, 2] = 1\n",
    "        self.m4 = torch.zeros((len(self.t), 4)); self.m4[:, 3] = 1\n",
    "\n",
    "        #NN\n",
    "        self.net_sidr = self.Net_sidr()\n",
    "        self.params = list(self.net_sidr.parameters())\n",
    "        self.params.extend(list([self.alpha_tilda, self.beta_tilda, self.gamma_tilda]))\n",
    "\n",
    "    #force parameters to be in a range\n",
    "    @property\n",
    "    def alpha(self):\n",
    "        return torch.tanh(self.alpha_tilda) #* 0.1 + 0.2\n",
    "\n",
    "    @property\n",
    "    def beta(self):\n",
    "        return torch.tanh(self.beta_tilda) #* 0.01 + 0.05\n",
    "    \n",
    "    @property\n",
    "    def gamma(self):\n",
    "        return torch.tanh(self.gamma_tilda) #* 0.01 + 0.03\n",
    "\n",
    "    class Net_sidr(nn.Module): # input = [[t1], [t2]...[t100]] -- that is, a batch of timesteps \n",
    "        def __init__(self):\n",
    "            super(DINN.Net_sidr, self).__init__()\n",
    "\n",
    "            self.fc1=nn.Linear(1, 20) #takes 100 t's\n",
    "            self.fc2=nn.Linear(20, 20)\n",
    "            self.fc3=nn.Linear(20, 20)\n",
    "            self.fc4=nn.Linear(20, 20)\n",
    "            self.fc5=nn.Linear(20, 20)\n",
    "            self.fc6=nn.Linear(20, 20)\n",
    "            self.fc7=nn.Linear(20, 20)\n",
    "            self.fc8=nn.Linear(20, 20)\n",
    "            self.out=nn.Linear(20, 4) #outputs S, I, D, R (100 S, 100 I, 100 D, 100 R --- since we have a batch of 100 timesteps)\n",
    "\n",
    "        def forward(self, t_batch):\n",
    "            sidr=F.relu(self.fc1(t_batch))\n",
    "            sidr=F.relu(self.fc2(sidr))\n",
    "            sidr=F.relu(self.fc3(sidr))\n",
    "            sidr=F.relu(self.fc4(sidr))\n",
    "            sidr=F.relu(self.fc5(sidr))\n",
    "            sidr=F.relu(self.fc6(sidr))\n",
    "            sidr=F.relu(self.fc7(sidr))\n",
    "            sidr=F.relu(self.fc8(sidr))\n",
    "            sidr=self.out(sidr)\n",
    "            return sidr\n",
    "\n",
    "    def net_f(self, t_batch):\n",
    "            \n",
    "            #pass the timesteps batch to the neural network\n",
    "            sidr_hat = self.net_sidr(t_batch)\n",
    "            \n",
    "            #organize S,I,D,R from the neural network's output -- note that these are normalized values -- hence the \"hat\" part\n",
    "            S_hat, I_hat, D_hat, R_hat = sidr_hat[:,0], sidr_hat[:,1], sidr_hat[:,2], sidr_hat[:,3]"
   ]
  },
  {
   "cell_type": "markdown",
   "id": "68430b8b",
   "metadata": {
    "papermill": {
     "duration": 0.059254,
     "end_time": "2022-04-23T10:23:58.738926",
     "exception": false,
     "start_time": "2022-04-23T10:23:58.679672",
     "status": "completed"
    },
    "tags": []
   },
   "source": [
    "## 12. we now want to get the derivative of each compartment with respect to time (this is why we had to do the \"hacky\" jacobian part)\n",
    "We do this to plug in the systems of equations (you'll see in the next step)"
   ]
  },
  {
   "cell_type": "code",
   "execution_count": 26,
   "id": "1130efdc",
   "metadata": {
    "execution": {
     "iopub.execute_input": "2022-04-23T10:23:58.864813Z",
     "iopub.status.busy": "2022-04-23T10:23:58.864172Z",
     "iopub.status.idle": "2022-04-23T10:23:58.868157Z",
     "shell.execute_reply": "2022-04-23T10:23:58.868708Z"
    },
    "papermill": {
     "duration": 0.069544,
     "end_time": "2022-04-23T10:23:58.868911",
     "exception": false,
     "start_time": "2022-04-23T10:23:58.799367",
     "status": "completed"
    },
    "tags": []
   },
   "outputs": [],
   "source": [
    "# #S_t\n",
    "# sidr_hat.backward(self.m1, retain_graph=True)\n",
    "# S_hat_t = self.t.grad.clone()\n",
    "# self.t.grad.zero_()\n",
    "\n",
    "# #I_t\n",
    "# sidr_hat.backward(self.m2, retain_graph=True)\n",
    "# I_hat_t = self.t.grad.clone()\n",
    "# self.t.grad.zero_()\n",
    "\n",
    "# #D_t\n",
    "# sidr_hat.backward(self.m3, retain_graph=True)\n",
    "# D_hat_t = self.t.grad.clone()\n",
    "# self.t.grad.zero_()\n",
    "\n",
    "# #R_t\n",
    "# sidr_hat.backward(self.m4, retain_graph=True)\n",
    "# R_hat_t = self.t.grad.clone()\n",
    "# self.t.grad.zero_()"
   ]
  },
  {
   "cell_type": "code",
   "execution_count": 27,
   "id": "96f301c7",
   "metadata": {
    "execution": {
     "iopub.execute_input": "2022-04-23T10:23:58.996825Z",
     "iopub.status.busy": "2022-04-23T10:23:58.995675Z",
     "iopub.status.idle": "2022-04-23T10:23:59.026376Z",
     "shell.execute_reply": "2022-04-23T10:23:59.026923Z"
    },
    "papermill": {
     "duration": 0.09651,
     "end_time": "2022-04-23T10:23:59.027094",
     "exception": false,
     "start_time": "2022-04-23T10:23:58.930584",
     "status": "completed"
    },
    "tags": []
   },
   "outputs": [],
   "source": [
    "class DINN(nn.Module):\n",
    "    def __init__(self, t, S_data, I_data, D_data, R_data): #[t,S,I,D,R]\n",
    "        super(DINN, self).__init__()\n",
    "        \n",
    "        self.N = 59e6 #population size\n",
    "        \n",
    "        #for the time steps, we need to convert them to a tensor, a float, and eventually to reshape it so it can be used as a batch\n",
    "        self.t = torch.tensor(t, requires_grad=True)\n",
    "        self.t_float = self.t.float()\n",
    "        self.t_batch = torch.reshape(self.t_float, (len(self.t),1)) #reshape for batch \n",
    "\n",
    "        #for the compartments we just need to convert them into tensors\n",
    "        self.S = torch.tensor(S_data)\n",
    "        self.I = torch.tensor(I_data)\n",
    "        self.D = torch.tensor(D_data)\n",
    "        self.R = torch.tensor(R_data)\n",
    "\n",
    "        self.losses = [] # here I saved the model's losses per epoch\n",
    "\n",
    "        #setting the parameters\n",
    "        self.alpha_tilda = torch.nn.Parameter(torch.rand(1, requires_grad=True))\n",
    "        self.beta_tilda = torch.nn.Parameter(torch.rand(1, requires_grad=True))\n",
    "        self.gamma_tilda = torch.nn.Parameter(torch.rand(1, requires_grad=True))\n",
    "\n",
    "        #find values for normalization\n",
    "        self.S_max = max(self.S)\n",
    "        self.I_max = max(self.I)\n",
    "        self.D_max = max(self.D)\n",
    "        self.R_max = max(self.R)\n",
    "        self.S_min = min(self.S)\n",
    "        self.I_min = min(self.I)\n",
    "        self.D_min = min(self.D)\n",
    "        self.R_min = min(self.R)\n",
    "\n",
    "        #normalize\n",
    "        self.S_hat = (self.S - self.S_min) / (self.S_max - self.S_min)\n",
    "        self.I_hat = (self.I - self.I_min) / (self.I_max - self.I_min)\n",
    "        self.D_hat = (self.D - self.D_min) / (self.D_max - self.D_min)\n",
    "        self.R_hat = (self.R - self.R_min) / (self.R_max - self.R_min)        \n",
    "\n",
    "        #matrices (x4 for S,I,D,R) for the gradients\n",
    "        self.m1 = torch.zeros((len(self.t), 4)); self.m1[:, 0] = 1\n",
    "        self.m2 = torch.zeros((len(self.t), 4)); self.m2[:, 1] = 1\n",
    "        self.m3 = torch.zeros((len(self.t), 4)); self.m3[:, 2] = 1\n",
    "        self.m4 = torch.zeros((len(self.t), 4)); self.m4[:, 3] = 1\n",
    "\n",
    "        #NN\n",
    "        self.net_sidr = self.Net_sidr()\n",
    "        self.params = list(self.net_sidr.parameters())\n",
    "        self.params.extend(list([self.alpha_tilda, self.beta_tilda, self.gamma_tilda]))\n",
    "\n",
    "    #force parameters to be in a range\n",
    "    @property\n",
    "    def alpha(self):\n",
    "        return torch.tanh(self.alpha_tilda) #* 0.1 + 0.2\n",
    "\n",
    "    @property\n",
    "    def beta(self):\n",
    "        return torch.tanh(self.beta_tilda) #* 0.01 + 0.05\n",
    "    \n",
    "    @property\n",
    "    def gamma(self):\n",
    "        return torch.tanh(self.gamma_tilda) #* 0.01 + 0.03\n",
    "\n",
    "    class Net_sidr(nn.Module): # input = [[t1], [t2]...[t100]] -- that is, a batch of timesteps \n",
    "        def __init__(self):\n",
    "            super(DINN.Net_sidr, self).__init__()\n",
    "\n",
    "            self.fc1=nn.Linear(1, 20) #takes 100 t's\n",
    "            self.fc2=nn.Linear(20, 20)\n",
    "            self.fc3=nn.Linear(20, 20)\n",
    "            self.fc4=nn.Linear(20, 20)\n",
    "            self.fc5=nn.Linear(20, 20)\n",
    "            self.fc6=nn.Linear(20, 20)\n",
    "            self.fc7=nn.Linear(20, 20)\n",
    "            self.fc8=nn.Linear(20, 20)\n",
    "            self.out=nn.Linear(20, 4) #outputs S, I, D, R (100 S, 100 I, 100 D, 100 R --- since we have a batch of 100 timesteps)\n",
    "\n",
    "        def forward(self, t_batch):\n",
    "            sidr=F.relu(self.fc1(t_batch))\n",
    "            sidr=F.relu(self.fc2(sidr))\n",
    "            sidr=F.relu(self.fc3(sidr))\n",
    "            sidr=F.relu(self.fc4(sidr))\n",
    "            sidr=F.relu(self.fc5(sidr))\n",
    "            sidr=F.relu(self.fc6(sidr))\n",
    "            sidr=F.relu(self.fc7(sidr))\n",
    "            sidr=F.relu(self.fc8(sidr))\n",
    "            sidr=self.out(sidr)\n",
    "            return sidr\n",
    "\n",
    "    def net_f(self, t_batch):\n",
    "            \n",
    "            #pass the timesteps batch to the neural network\n",
    "            sidr_hat = self.net_sidr(t_batch)\n",
    "            \n",
    "            #organize S,I,D,R from the neural network's output -- note that these are normalized values -- hence the \"hat\" part\n",
    "            S_hat, I_hat, D_hat, R_hat = sidr_hat[:,0], sidr_hat[:,1], sidr_hat[:,2], sidr_hat[:,3]\n",
    "\n",
    "            #S_t\n",
    "            sidr_hat.backward(self.m1, retain_graph=True)\n",
    "            S_hat_t = self.t.grad.clone()\n",
    "            self.t.grad.zero_()\n",
    "\n",
    "            #I_t\n",
    "            sidr_hat.backward(self.m2, retain_graph=True)\n",
    "            I_hat_t = self.t.grad.clone()\n",
    "            self.t.grad.zero_()\n",
    "\n",
    "            #D_t\n",
    "            sidr_hat.backward(self.m3, retain_graph=True)\n",
    "            D_hat_t = self.t.grad.clone()\n",
    "            self.t.grad.zero_()\n",
    "\n",
    "            #R_t\n",
    "            sidr_hat.backward(self.m4, retain_graph=True)\n",
    "            R_hat_t = self.t.grad.clone()\n",
    "            self.t.grad.zero_()"
   ]
  },
  {
   "cell_type": "markdown",
   "id": "49e35333",
   "metadata": {
    "papermill": {
     "duration": 0.059593,
     "end_time": "2022-04-23T10:23:59.147145",
     "exception": false,
     "start_time": "2022-04-23T10:23:59.087552",
     "status": "completed"
    },
    "tags": []
   },
   "source": [
    "## 13. We now unnormalize the compartments because we don't actually want the equations to change, we just wanted the network to learn quicker"
   ]
  },
  {
   "cell_type": "code",
   "execution_count": 28,
   "id": "17a48199",
   "metadata": {
    "execution": {
     "iopub.execute_input": "2022-04-23T10:23:59.270690Z",
     "iopub.status.busy": "2022-04-23T10:23:59.269685Z",
     "iopub.status.idle": "2022-04-23T10:23:59.273088Z",
     "shell.execute_reply": "2022-04-23T10:23:59.273667Z"
    },
    "papermill": {
     "duration": 0.066812,
     "end_time": "2022-04-23T10:23:59.273829",
     "exception": false,
     "start_time": "2022-04-23T10:23:59.207017",
     "status": "completed"
    },
    "tags": []
   },
   "outputs": [],
   "source": [
    "# #unnormalize\n",
    "# S = self.S_min + (self.S_max - self.S_min) * S_hat\n",
    "# I = self.I_min + (self.I_max - self.I_min) * I_hat\n",
    "# D = self.D_min + (self.D_max - self.D_min) * D_hat      \n",
    "# R = self.R_min + (self.R_max - self.R_min) * R_hat"
   ]
  },
  {
   "cell_type": "code",
   "execution_count": 29,
   "id": "e4676b1a",
   "metadata": {
    "execution": {
     "iopub.execute_input": "2022-04-23T10:23:59.397914Z",
     "iopub.status.busy": "2022-04-23T10:23:59.396847Z",
     "iopub.status.idle": "2022-04-23T10:23:59.428861Z",
     "shell.execute_reply": "2022-04-23T10:23:59.429420Z"
    },
    "papermill": {
     "duration": 0.096006,
     "end_time": "2022-04-23T10:23:59.429589",
     "exception": false,
     "start_time": "2022-04-23T10:23:59.333583",
     "status": "completed"
    },
    "tags": []
   },
   "outputs": [],
   "source": [
    "class DINN(nn.Module):\n",
    "    def __init__(self, t, S_data, I_data, D_data, R_data): #[t,S,I,D,R]\n",
    "        super(DINN, self).__init__()\n",
    "        \n",
    "        self.N = 59e6 #population size\n",
    "        \n",
    "        #for the time steps, we need to convert them to a tensor, a float, and eventually to reshape it so it can be used as a batch\n",
    "        self.t = torch.tensor(t, requires_grad=True)\n",
    "        self.t_float = self.t.float()\n",
    "        self.t_batch = torch.reshape(self.t_float, (len(self.t),1)) #reshape for batch \n",
    "\n",
    "        #for the compartments we just need to convert them into tensors\n",
    "        self.S = torch.tensor(S_data)\n",
    "        self.I = torch.tensor(I_data)\n",
    "        self.D = torch.tensor(D_data)\n",
    "        self.R = torch.tensor(R_data)\n",
    "\n",
    "        self.losses = [] # here I saved the model's losses per epoch\n",
    "\n",
    "        #setting the parameters\n",
    "        self.alpha_tilda = torch.nn.Parameter(torch.rand(1, requires_grad=True))\n",
    "        self.beta_tilda = torch.nn.Parameter(torch.rand(1, requires_grad=True))\n",
    "        self.gamma_tilda = torch.nn.Parameter(torch.rand(1, requires_grad=True))\n",
    "\n",
    "        #find values for normalization\n",
    "        self.S_max = max(self.S)\n",
    "        self.I_max = max(self.I)\n",
    "        self.D_max = max(self.D)\n",
    "        self.R_max = max(self.R)\n",
    "        self.S_min = min(self.S)\n",
    "        self.I_min = min(self.I)\n",
    "        self.D_min = min(self.D)\n",
    "        self.R_min = min(self.R)\n",
    "\n",
    "        #normalize\n",
    "        self.S_hat = (self.S - self.S_min) / (self.S_max - self.S_min)\n",
    "        self.I_hat = (self.I - self.I_min) / (self.I_max - self.I_min)\n",
    "        self.D_hat = (self.D - self.D_min) / (self.D_max - self.D_min)\n",
    "        self.R_hat = (self.R - self.R_min) / (self.R_max - self.R_min)        \n",
    "\n",
    "        #matrices (x4 for S,I,D,R) for the gradients\n",
    "        self.m1 = torch.zeros((len(self.t), 4)); self.m1[:, 0] = 1\n",
    "        self.m2 = torch.zeros((len(self.t), 4)); self.m2[:, 1] = 1\n",
    "        self.m3 = torch.zeros((len(self.t), 4)); self.m3[:, 2] = 1\n",
    "        self.m4 = torch.zeros((len(self.t), 4)); self.m4[:, 3] = 1\n",
    "\n",
    "        #NN\n",
    "        self.net_sidr = self.Net_sidr()\n",
    "        self.params = list(self.net_sidr.parameters())\n",
    "        self.params.extend(list([self.alpha_tilda, self.beta_tilda, self.gamma_tilda]))\n",
    "\n",
    "    #force parameters to be in a range\n",
    "    @property\n",
    "    def alpha(self):\n",
    "        return torch.tanh(self.alpha_tilda) #* 0.1 + 0.2\n",
    "\n",
    "    @property\n",
    "    def beta(self):\n",
    "        return torch.tanh(self.beta_tilda) #* 0.01 + 0.05\n",
    "    \n",
    "    @property\n",
    "    def gamma(self):\n",
    "        return torch.tanh(self.gamma_tilda) #* 0.01 + 0.03\n",
    "\n",
    "    class Net_sidr(nn.Module): # input = [[t1], [t2]...[t100]] -- that is, a batch of timesteps \n",
    "        def __init__(self):\n",
    "            super(DINN.Net_sidr, self).__init__()\n",
    "\n",
    "            self.fc1=nn.Linear(1, 20) #takes 100 t's\n",
    "            self.fc2=nn.Linear(20, 20)\n",
    "            self.fc3=nn.Linear(20, 20)\n",
    "            self.fc4=nn.Linear(20, 20)\n",
    "            self.fc5=nn.Linear(20, 20)\n",
    "            self.fc6=nn.Linear(20, 20)\n",
    "            self.fc7=nn.Linear(20, 20)\n",
    "            self.fc8=nn.Linear(20, 20)\n",
    "            self.out=nn.Linear(20, 4) #outputs S, I, D, R (100 S, 100 I, 100 D, 100 R --- since we have a batch of 100 timesteps)\n",
    "\n",
    "        def forward(self, t_batch):\n",
    "            sidr=F.relu(self.fc1(t_batch))\n",
    "            sidr=F.relu(self.fc2(sidr))\n",
    "            sidr=F.relu(self.fc3(sidr))\n",
    "            sidr=F.relu(self.fc4(sidr))\n",
    "            sidr=F.relu(self.fc5(sidr))\n",
    "            sidr=F.relu(self.fc6(sidr))\n",
    "            sidr=F.relu(self.fc7(sidr))\n",
    "            sidr=F.relu(self.fc8(sidr))\n",
    "            sidr=self.out(sidr)\n",
    "            return sidr\n",
    "\n",
    "    def net_f(self, t_batch):\n",
    "            \n",
    "            #pass the timesteps batch to the neural network\n",
    "            sidr_hat = self.net_sidr(t_batch)\n",
    "            \n",
    "            #organize S,I,D,R from the neural network's output -- note that these are normalized values -- hence the \"hat\" part\n",
    "            S_hat, I_hat, D_hat, R_hat = sidr_hat[:,0], sidr_hat[:,1], sidr_hat[:,2], sidr_hat[:,3]\n",
    "\n",
    "            #S_t\n",
    "            sidr_hat.backward(self.m1, retain_graph=True)\n",
    "            S_hat_t = self.t.grad.clone()\n",
    "            self.t.grad.zero_()\n",
    "\n",
    "            #I_t\n",
    "            sidr_hat.backward(self.m2, retain_graph=True)\n",
    "            I_hat_t = self.t.grad.clone()\n",
    "            self.t.grad.zero_()\n",
    "\n",
    "            #D_t\n",
    "            sidr_hat.backward(self.m3, retain_graph=True)\n",
    "            D_hat_t = self.t.grad.clone()\n",
    "            self.t.grad.zero_()\n",
    "\n",
    "            #R_t\n",
    "            sidr_hat.backward(self.m4, retain_graph=True)\n",
    "            R_hat_t = self.t.grad.clone()\n",
    "            self.t.grad.zero_() \n",
    "\n",
    "            #unnormalize\n",
    "            S = self.S_min + (self.S_max - self.S_min) * S_hat\n",
    "            I = self.I_min + (self.I_max - self.I_min) * I_hat\n",
    "            D = self.D_min + (self.D_max - self.D_min) * D_hat      \n",
    "            R = self.R_min + (self.R_max - self.R_min) * R_hat        "
   ]
  },
  {
   "cell_type": "markdown",
   "id": "30f10a78",
   "metadata": {
    "papermill": {
     "duration": 0.059754,
     "end_time": "2022-04-23T10:23:59.549340",
     "exception": false,
     "start_time": "2022-04-23T10:23:59.489586",
     "status": "completed"
    },
    "tags": []
   },
   "source": [
    "## 14. Lastly (almost), we write out the systems of equations we want to learn\n",
    "These are almost the same as the initial system of equations, except that we have another normalization component here (e.g \"/ (self.S_max - self.S_min)\"), and also that we use the partial derivates (e.g \"S\" with respect to time) here. We basically moved the right side of each compartment to the left (hence the negative signs after the derivatives)"
   ]
  },
  {
   "cell_type": "code",
   "execution_count": 30,
   "id": "a11ec57f",
   "metadata": {
    "execution": {
     "iopub.execute_input": "2022-04-23T10:23:59.673719Z",
     "iopub.status.busy": "2022-04-23T10:23:59.672749Z",
     "iopub.status.idle": "2022-04-23T10:23:59.676286Z",
     "shell.execute_reply": "2022-04-23T10:23:59.676848Z"
    },
    "papermill": {
     "duration": 0.067556,
     "end_time": "2022-04-23T10:23:59.677036",
     "exception": false,
     "start_time": "2022-04-23T10:23:59.609480",
     "status": "completed"
    },
    "tags": []
   },
   "outputs": [],
   "source": [
    "# f1_hat = S_hat_t - (-(self.alpha / self.N) * S * I)  / (self.S_max - self.S_min)\n",
    "# f2_hat = I_hat_t - ((self.alpha / self.N) * S * I - self.beta * I - self.gamma * I ) / (self.I_max - self.I_min)\n",
    "# f3_hat = D_hat_t - (self.gamma * I) / (self.D_max - self.D_min)\n",
    "# f4_hat = R_hat_t - (self.beta * I ) / (self.R_max - self.R_min)"
   ]
  },
  {
   "cell_type": "code",
   "execution_count": 31,
   "id": "e0de255e",
   "metadata": {
    "execution": {
     "iopub.execute_input": "2022-04-23T10:23:59.802017Z",
     "iopub.status.busy": "2022-04-23T10:23:59.800951Z",
     "iopub.status.idle": "2022-04-23T10:23:59.835822Z",
     "shell.execute_reply": "2022-04-23T10:23:59.836412Z"
    },
    "papermill": {
     "duration": 0.099191,
     "end_time": "2022-04-23T10:23:59.836595",
     "exception": false,
     "start_time": "2022-04-23T10:23:59.737404",
     "status": "completed"
    },
    "tags": []
   },
   "outputs": [],
   "source": [
    "class DINN(nn.Module):\n",
    "    def __init__(self, t, S_data, I_data, D_data, R_data): #[t,S,I,D,R]\n",
    "        super(DINN, self).__init__()\n",
    "        \n",
    "        self.N = 59e6 #population size\n",
    "        \n",
    "        #for the time steps, we need to convert them to a tensor, a float, and eventually to reshape it so it can be used as a batch\n",
    "        self.t = torch.tensor(t, requires_grad=True)\n",
    "        self.t_float = self.t.float()\n",
    "        self.t_batch = torch.reshape(self.t_float, (len(self.t),1)) #reshape for batch \n",
    "\n",
    "        #for the compartments we just need to convert them into tensors\n",
    "        self.S = torch.tensor(S_data)\n",
    "        self.I = torch.tensor(I_data)\n",
    "        self.D = torch.tensor(D_data)\n",
    "        self.R = torch.tensor(R_data)\n",
    "\n",
    "        self.losses = [] # here I saved the model's losses per epoch\n",
    "\n",
    "        #setting the parameters\n",
    "        self.alpha_tilda = torch.nn.Parameter(torch.rand(1, requires_grad=True))\n",
    "        self.beta_tilda = torch.nn.Parameter(torch.rand(1, requires_grad=True))\n",
    "        self.gamma_tilda = torch.nn.Parameter(torch.rand(1, requires_grad=True))\n",
    "\n",
    "        #find values for normalization\n",
    "        self.S_max = max(self.S)\n",
    "        self.I_max = max(self.I)\n",
    "        self.D_max = max(self.D)\n",
    "        self.R_max = max(self.R)\n",
    "        self.S_min = min(self.S)\n",
    "        self.I_min = min(self.I)\n",
    "        self.D_min = min(self.D)\n",
    "        self.R_min = min(self.R)\n",
    "\n",
    "        #normalize\n",
    "        self.S_hat = (self.S - self.S_min) / (self.S_max - self.S_min)\n",
    "        self.I_hat = (self.I - self.I_min) / (self.I_max - self.I_min)\n",
    "        self.D_hat = (self.D - self.D_min) / (self.D_max - self.D_min)\n",
    "        self.R_hat = (self.R - self.R_min) / (self.R_max - self.R_min)        \n",
    "\n",
    "        #matrices (x4 for S,I,D,R) for the gradients\n",
    "        self.m1 = torch.zeros((len(self.t), 4)); self.m1[:, 0] = 1\n",
    "        self.m2 = torch.zeros((len(self.t), 4)); self.m2[:, 1] = 1\n",
    "        self.m3 = torch.zeros((len(self.t), 4)); self.m3[:, 2] = 1\n",
    "        self.m4 = torch.zeros((len(self.t), 4)); self.m4[:, 3] = 1\n",
    "\n",
    "        #NN\n",
    "        self.net_sidr = self.Net_sidr()\n",
    "        self.params = list(self.net_sidr.parameters())\n",
    "        self.params.extend(list([self.alpha_tilda, self.beta_tilda, self.gamma_tilda]))\n",
    "\n",
    "    #force parameters to be in a range\n",
    "    @property\n",
    "    def alpha(self):\n",
    "        return torch.tanh(self.alpha_tilda) #* 0.1 + 0.2\n",
    "\n",
    "    @property\n",
    "    def beta(self):\n",
    "        return torch.tanh(self.beta_tilda) #* 0.01 + 0.05\n",
    "    \n",
    "    @property\n",
    "    def gamma(self):\n",
    "        return torch.tanh(self.gamma_tilda) #* 0.01 + 0.03\n",
    "\n",
    "    class Net_sidr(nn.Module): # input = [[t1], [t2]...[t100]] -- that is, a batch of timesteps \n",
    "        def __init__(self):\n",
    "            super(DINN.Net_sidr, self).__init__()\n",
    "\n",
    "            self.fc1=nn.Linear(1, 20) #takes 100 t's\n",
    "            self.fc2=nn.Linear(20, 20)\n",
    "            self.fc3=nn.Linear(20, 20)\n",
    "            self.fc4=nn.Linear(20, 20)\n",
    "            self.fc5=nn.Linear(20, 20)\n",
    "            self.fc6=nn.Linear(20, 20)\n",
    "            self.fc7=nn.Linear(20, 20)\n",
    "            self.fc8=nn.Linear(20, 20)\n",
    "            self.out=nn.Linear(20, 4) #outputs S, I, D, R (100 S, 100 I, 100 D, 100 R --- since we have a batch of 100 timesteps)\n",
    "\n",
    "        def forward(self, t_batch):\n",
    "            sidr=F.relu(self.fc1(t_batch))\n",
    "            sidr=F.relu(self.fc2(sidr))\n",
    "            sidr=F.relu(self.fc3(sidr))\n",
    "            sidr=F.relu(self.fc4(sidr))\n",
    "            sidr=F.relu(self.fc5(sidr))\n",
    "            sidr=F.relu(self.fc6(sidr))\n",
    "            sidr=F.relu(self.fc7(sidr))\n",
    "            sidr=F.relu(self.fc8(sidr))\n",
    "            sidr=self.out(sidr)\n",
    "            return sidr\n",
    "\n",
    "    def net_f(self, t_batch):\n",
    "            \n",
    "            #pass the timesteps batch to the neural network\n",
    "            sidr_hat = self.net_sidr(t_batch)\n",
    "            \n",
    "            #organize S,I,D,R from the neural network's output -- note that these are normalized values -- hence the \"hat\" part\n",
    "            S_hat, I_hat, D_hat, R_hat = sidr_hat[:,0], sidr_hat[:,1], sidr_hat[:,2], sidr_hat[:,3]\n",
    "\n",
    "            #S_t\n",
    "            sidr_hat.backward(self.m1, retain_graph=True)\n",
    "            S_hat_t = self.t.grad.clone()\n",
    "            self.t.grad.zero_()\n",
    "\n",
    "            #I_t\n",
    "            sidr_hat.backward(self.m2, retain_graph=True)\n",
    "            I_hat_t = self.t.grad.clone()\n",
    "            self.t.grad.zero_()\n",
    "\n",
    "            #D_t\n",
    "            sidr_hat.backward(self.m3, retain_graph=True)\n",
    "            D_hat_t = self.t.grad.clone()\n",
    "            self.t.grad.zero_()\n",
    "\n",
    "            #R_t\n",
    "            sidr_hat.backward(self.m4, retain_graph=True)\n",
    "            R_hat_t = self.t.grad.clone()\n",
    "            self.t.grad.zero_() \n",
    "\n",
    "            #unnormalize\n",
    "            S = self.S_min + (self.S_max - self.S_min) * S_hat\n",
    "            I = self.I_min + (self.I_max - self.I_min) * I_hat\n",
    "            D = self.D_min + (self.D_max - self.D_min) * D_hat      \n",
    "            R = self.R_min + (self.R_max - self.R_min) * R_hat        \n",
    "\n",
    "            f1_hat = S_hat_t - (-(self.alpha / self.N) * S * I)  / (self.S_max - self.S_min)\n",
    "            f2_hat = I_hat_t - ((self.alpha / self.N) * S * I - self.beta * I - self.gamma * I ) / (self.I_max - self.I_min)\n",
    "            f3_hat = D_hat_t - (self.gamma * I) / (self.D_max - self.D_min)\n",
    "            f4_hat = R_hat_t - (self.beta * I ) / (self.R_max - self.R_min)        "
   ]
  },
  {
   "cell_type": "markdown",
   "id": "53524138",
   "metadata": {
    "papermill": {
     "duration": 0.060601,
     "end_time": "2022-04-23T10:23:59.958257",
     "exception": false,
     "start_time": "2022-04-23T10:23:59.897656",
     "status": "completed"
    },
    "tags": []
   },
   "source": [
    "## 15. Lastly, we return the values we learned and want to optimize --- S, I, D, R, and each system's compartment (e.g f1_hat)"
   ]
  },
  {
   "cell_type": "code",
   "execution_count": 32,
   "id": "7e6bd969",
   "metadata": {
    "execution": {
     "iopub.execute_input": "2022-04-23T10:24:00.083807Z",
     "iopub.status.busy": "2022-04-23T10:24:00.082820Z",
     "iopub.status.idle": "2022-04-23T10:24:00.086280Z",
     "shell.execute_reply": "2022-04-23T10:24:00.086829Z"
    },
    "papermill": {
     "duration": 0.067973,
     "end_time": "2022-04-23T10:24:00.087009",
     "exception": false,
     "start_time": "2022-04-23T10:24:00.019036",
     "status": "completed"
    },
    "tags": []
   },
   "outputs": [],
   "source": [
    "# return f1_hat, f2_hat, f3_hat, f4_hat, S_hat, I_hat, D_hat, R_hat"
   ]
  },
  {
   "cell_type": "code",
   "execution_count": 33,
   "id": "a824d2a8",
   "metadata": {
    "execution": {
     "iopub.execute_input": "2022-04-23T10:24:00.212716Z",
     "iopub.status.busy": "2022-04-23T10:24:00.211688Z",
     "iopub.status.idle": "2022-04-23T10:24:00.246944Z",
     "shell.execute_reply": "2022-04-23T10:24:00.247456Z"
    },
    "papermill": {
     "duration": 0.099595,
     "end_time": "2022-04-23T10:24:00.247634",
     "exception": false,
     "start_time": "2022-04-23T10:24:00.148039",
     "status": "completed"
    },
    "tags": []
   },
   "outputs": [],
   "source": [
    "class DINN(nn.Module):\n",
    "    def __init__(self, t, S_data, I_data, D_data, R_data): #[t,S,I,D,R]\n",
    "        super(DINN, self).__init__()\n",
    "        \n",
    "        self.N = 59e6 #population size\n",
    "        \n",
    "        #for the time steps, we need to convert them to a tensor, a float, and eventually to reshape it so it can be used as a batch\n",
    "        self.t = torch.tensor(t, requires_grad=True)\n",
    "        self.t_float = self.t.float()\n",
    "        self.t_batch = torch.reshape(self.t_float, (len(self.t),1)) #reshape for batch \n",
    "\n",
    "        #for the compartments we just need to convert them into tensors\n",
    "        self.S = torch.tensor(S_data)\n",
    "        self.I = torch.tensor(I_data)\n",
    "        self.D = torch.tensor(D_data)\n",
    "        self.R = torch.tensor(R_data)\n",
    "\n",
    "        self.losses = [] # here I saved the model's losses per epoch\n",
    "\n",
    "        #setting the parameters\n",
    "        self.alpha_tilda = torch.nn.Parameter(torch.rand(1, requires_grad=True))\n",
    "        self.beta_tilda = torch.nn.Parameter(torch.rand(1, requires_grad=True))\n",
    "        self.gamma_tilda = torch.nn.Parameter(torch.rand(1, requires_grad=True))\n",
    "\n",
    "        #find values for normalization\n",
    "        self.S_max = max(self.S)\n",
    "        self.I_max = max(self.I)\n",
    "        self.D_max = max(self.D)\n",
    "        self.R_max = max(self.R)\n",
    "        self.S_min = min(self.S)\n",
    "        self.I_min = min(self.I)\n",
    "        self.D_min = min(self.D)\n",
    "        self.R_min = min(self.R)\n",
    "\n",
    "        #normalize\n",
    "        self.S_hat = (self.S - self.S_min) / (self.S_max - self.S_min)\n",
    "        self.I_hat = (self.I - self.I_min) / (self.I_max - self.I_min)\n",
    "        self.D_hat = (self.D - self.D_min) / (self.D_max - self.D_min)\n",
    "        self.R_hat = (self.R - self.R_min) / (self.R_max - self.R_min)        \n",
    "\n",
    "        #matrices (x4 for S,I,D,R) for the gradients\n",
    "        self.m1 = torch.zeros((len(self.t), 4)); self.m1[:, 0] = 1\n",
    "        self.m2 = torch.zeros((len(self.t), 4)); self.m2[:, 1] = 1\n",
    "        self.m3 = torch.zeros((len(self.t), 4)); self.m3[:, 2] = 1\n",
    "        self.m4 = torch.zeros((len(self.t), 4)); self.m4[:, 3] = 1\n",
    "\n",
    "        #NN\n",
    "        self.net_sidr = self.Net_sidr()\n",
    "        self.params = list(self.net_sidr.parameters())\n",
    "        self.params.extend(list([self.alpha_tilda, self.beta_tilda, self.gamma_tilda]))\n",
    "\n",
    "    #force parameters to be in a range\n",
    "    @property\n",
    "    def alpha(self):\n",
    "        return torch.tanh(self.alpha_tilda) #* 0.1 + 0.2\n",
    "\n",
    "    @property\n",
    "    def beta(self):\n",
    "        return torch.tanh(self.beta_tilda) #* 0.01 + 0.05\n",
    "    \n",
    "    @property\n",
    "    def gamma(self):\n",
    "        return torch.tanh(self.gamma_tilda) #* 0.01 + 0.03\n",
    "\n",
    "    class Net_sidr(nn.Module): # input = [[t1], [t2]...[t100]] -- that is, a batch of timesteps \n",
    "        def __init__(self):\n",
    "            super(DINN.Net_sidr, self).__init__()\n",
    "\n",
    "            self.fc1=nn.Linear(1, 20) #takes 100 t's\n",
    "            self.fc2=nn.Linear(20, 20)\n",
    "            self.fc3=nn.Linear(20, 20)\n",
    "            self.fc4=nn.Linear(20, 20)\n",
    "            self.fc5=nn.Linear(20, 20)\n",
    "            self.fc6=nn.Linear(20, 20)\n",
    "            self.fc7=nn.Linear(20, 20)\n",
    "            self.fc8=nn.Linear(20, 20)\n",
    "            self.out=nn.Linear(20, 4) #outputs S, I, D, R (100 S, 100 I, 100 D, 100 R --- since we have a batch of 100 timesteps)\n",
    "\n",
    "        def forward(self, t_batch):\n",
    "            sidr=F.relu(self.fc1(t_batch))\n",
    "            sidr=F.relu(self.fc2(sidr))\n",
    "            sidr=F.relu(self.fc3(sidr))\n",
    "            sidr=F.relu(self.fc4(sidr))\n",
    "            sidr=F.relu(self.fc5(sidr))\n",
    "            sidr=F.relu(self.fc6(sidr))\n",
    "            sidr=F.relu(self.fc7(sidr))\n",
    "            sidr=F.relu(self.fc8(sidr))\n",
    "            sidr=self.out(sidr)\n",
    "            return sidr\n",
    "\n",
    "    def net_f(self, t_batch):\n",
    "            \n",
    "            #pass the timesteps batch to the neural network\n",
    "            sidr_hat = self.net_sidr(t_batch)\n",
    "            \n",
    "            #organize S,I,D,R from the neural network's output -- note that these are normalized values -- hence the \"hat\" part\n",
    "            S_hat, I_hat, D_hat, R_hat = sidr_hat[:,0], sidr_hat[:,1], sidr_hat[:,2], sidr_hat[:,3]\n",
    "\n",
    "            #S_t\n",
    "            sidr_hat.backward(self.m1, retain_graph=True)\n",
    "            S_hat_t = self.t.grad.clone()\n",
    "            self.t.grad.zero_()\n",
    "\n",
    "            #I_t\n",
    "            sidr_hat.backward(self.m2, retain_graph=True)\n",
    "            I_hat_t = self.t.grad.clone()\n",
    "            self.t.grad.zero_()\n",
    "\n",
    "            #D_t\n",
    "            sidr_hat.backward(self.m3, retain_graph=True)\n",
    "            D_hat_t = self.t.grad.clone()\n",
    "            self.t.grad.zero_()\n",
    "\n",
    "            #R_t\n",
    "            sidr_hat.backward(self.m4, retain_graph=True)\n",
    "            R_hat_t = self.t.grad.clone()\n",
    "            self.t.grad.zero_() \n",
    "\n",
    "            #unnormalize\n",
    "            S = self.S_min + (self.S_max - self.S_min) * S_hat\n",
    "            I = self.I_min + (self.I_max - self.I_min) * I_hat\n",
    "            D = self.D_min + (self.D_max - self.D_min) * D_hat      \n",
    "            R = self.R_min + (self.R_max - self.R_min) * R_hat        \n",
    "\n",
    "            f1_hat = S_hat_t - (-(self.alpha / self.N) * S * I)  / (self.S_max - self.S_min)\n",
    "            f2_hat = I_hat_t - ((self.alpha / self.N) * S * I - self.beta * I - self.gamma * I ) / (self.I_max - self.I_min)\n",
    "            f3_hat = D_hat_t - (self.gamma * I) / (self.D_max - self.D_min)\n",
    "            f4_hat = R_hat_t - (self.beta * I ) / (self.R_max - self.R_min)        \n",
    "\n",
    "            return f1_hat, f2_hat, f3_hat, f4_hat, S_hat, I_hat, D_hat, R_hat"
   ]
  },
  {
   "cell_type": "markdown",
   "id": "9bfac617",
   "metadata": {
    "papermill": {
     "duration": 0.061408,
     "end_time": "2022-04-23T10:24:00.369976",
     "exception": false,
     "start_time": "2022-04-23T10:24:00.308568",
     "status": "completed"
    },
    "tags": []
   },
   "source": [
    "## 15. The training process:\n",
    "Here we just create a function called \"train\", that will take a number of epochs to train for, and will train the network"
   ]
  },
  {
   "cell_type": "code",
   "execution_count": 34,
   "id": "538db1aa",
   "metadata": {
    "execution": {
     "iopub.execute_input": "2022-04-23T10:24:00.495624Z",
     "iopub.status.busy": "2022-04-23T10:24:00.494665Z",
     "iopub.status.idle": "2022-04-23T10:24:00.507065Z",
     "shell.execute_reply": "2022-04-23T10:24:00.507613Z"
    },
    "papermill": {
     "duration": 0.076826,
     "end_time": "2022-04-23T10:24:00.507769",
     "exception": false,
     "start_time": "2022-04-23T10:24:00.430943",
     "status": "completed"
    },
    "tags": []
   },
   "outputs": [],
   "source": [
    "def train(self, n_epochs):\n",
    "      # train\n",
    "      print('\\nstarting training...\\n')\n",
    "      \n",
    "      for epoch in range(n_epochs):\n",
    "        # lists to hold the output (maintain only the final epoch)\n",
    "        S_pred_list = []\n",
    "        I_pred_list = []\n",
    "        D_pred_list = []\n",
    "        R_pred_list = []\n",
    "\n",
    "        # we pass the timesteps batch into net_f\n",
    "        f1, f2, f3, f4, S_pred, I_pred, D_pred, R_pred = self.net_f(self.t_batch) # net_f outputs f1_hat, f2_hat, f3_hat, f4_hat, S_hat, I_hat, D_hat, R_hat\n",
    "        \n",
    "        self.optimizer.zero_grad() #zero grad\n",
    "        \n",
    "        #append the values to plot later (note that we unnormalize them here for plotting)\n",
    "        S_pred_list.append(self.S_min + (self.S_max - self.S_min) * S_pred)\n",
    "        I_pred_list.append(self.I_min + (self.I_max - self.I_min) * I_pred)\n",
    "        D_pred_list.append(self.D_min + (self.D_max - self.D_min) * D_pred)\n",
    "        R_pred_list.append(self.R_min + (self.R_max - self.R_min) * R_pred)\n",
    "\n",
    "        #calculate the loss --- MSE of the neural networks output and each compartment\n",
    "        loss = (torch.mean(torch.square(self.S_hat - S_pred))+ \n",
    "                torch.mean(torch.square(self.I_hat - I_pred))+\n",
    "                torch.mean(torch.square(self.D_hat - D_pred))+\n",
    "                torch.mean(torch.square(self.R_hat - R_pred))+\n",
    "                torch.mean(torch.square(f1))+\n",
    "                torch.mean(torch.square(f2))+\n",
    "                torch.mean(torch.square(f3))+\n",
    "                torch.mean(torch.square(f4))\n",
    "                ) \n",
    "\n",
    "        loss.backward()\n",
    "        self.optimizer.step()\n",
    "        self.scheduler.step() \n",
    "\n",
    "        # append the loss value (we call \"loss.item()\" because we just want the value of the loss and not the entire computational graph)\n",
    "        self.losses.append(loss.item())\n",
    "\n",
    "        if epoch % 1000 == 0:          \n",
    "          print('\\nEpoch ', epoch)\n",
    "\n",
    "          print('alpha: (goal 0.191 ', self.alpha)\n",
    "          print('beta: (goal 0.05 ', self.beta)\n",
    "          print('gamma: (goal 0.0294 ', self.gamma)\n",
    "\n",
    "          print('#################################')                \n",
    "\n",
    "      return S_pred_list, I_pred_list, D_pred_list, R_pred_list"
   ]
  },
  {
   "cell_type": "code",
   "execution_count": 35,
   "id": "a552e00b",
   "metadata": {
    "execution": {
     "iopub.execute_input": "2022-04-23T10:24:00.634743Z",
     "iopub.status.busy": "2022-04-23T10:24:00.633658Z",
     "iopub.status.idle": "2022-04-23T10:24:00.676930Z",
     "shell.execute_reply": "2022-04-23T10:24:00.677452Z"
    },
    "papermill": {
     "duration": 0.108577,
     "end_time": "2022-04-23T10:24:00.677629",
     "exception": false,
     "start_time": "2022-04-23T10:24:00.569052",
     "status": "completed"
    },
    "tags": []
   },
   "outputs": [],
   "source": [
    "class DINN(nn.Module):\n",
    "    def __init__(self, t, S_data, I_data, D_data, R_data): #[t,S,I,D,R]\n",
    "        super(DINN, self).__init__()\n",
    "        \n",
    "        self.N = 59e6 #population size\n",
    "        \n",
    "        #for the time steps, we need to convert them to a tensor, a float, and eventually to reshape it so it can be used as a batch\n",
    "        self.t = torch.tensor(t, requires_grad=True)\n",
    "        self.t_float = self.t.float()\n",
    "        self.t_batch = torch.reshape(self.t_float, (len(self.t),1)) #reshape for batch \n",
    "\n",
    "        #for the compartments we just need to convert them into tensors\n",
    "        self.S = torch.tensor(S_data)\n",
    "        self.I = torch.tensor(I_data)\n",
    "        self.D = torch.tensor(D_data)\n",
    "        self.R = torch.tensor(R_data)\n",
    "\n",
    "        self.losses = [] # here I saved the model's losses per epoch\n",
    "\n",
    "        #setting the parameters\n",
    "        self.alpha_tilda = torch.nn.Parameter(torch.rand(1, requires_grad=True))\n",
    "        self.beta_tilda = torch.nn.Parameter(torch.rand(1, requires_grad=True))\n",
    "        self.gamma_tilda = torch.nn.Parameter(torch.rand(1, requires_grad=True))\n",
    "\n",
    "        #find values for normalization\n",
    "        self.S_max = max(self.S)\n",
    "        self.I_max = max(self.I)\n",
    "        self.D_max = max(self.D)\n",
    "        self.R_max = max(self.R)\n",
    "        self.S_min = min(self.S)\n",
    "        self.I_min = min(self.I)\n",
    "        self.D_min = min(self.D)\n",
    "        self.R_min = min(self.R)\n",
    "\n",
    "        #normalize\n",
    "        self.S_hat = (self.S - self.S_min) / (self.S_max - self.S_min)\n",
    "        self.I_hat = (self.I - self.I_min) / (self.I_max - self.I_min)\n",
    "        self.D_hat = (self.D - self.D_min) / (self.D_max - self.D_min)\n",
    "        self.R_hat = (self.R - self.R_min) / (self.R_max - self.R_min)        \n",
    "\n",
    "        #matrices (x4 for S,I,D,R) for the gradients\n",
    "        self.m1 = torch.zeros((len(self.t), 4)); self.m1[:, 0] = 1\n",
    "        self.m2 = torch.zeros((len(self.t), 4)); self.m2[:, 1] = 1\n",
    "        self.m3 = torch.zeros((len(self.t), 4)); self.m3[:, 2] = 1\n",
    "        self.m4 = torch.zeros((len(self.t), 4)); self.m4[:, 3] = 1\n",
    "\n",
    "        #NN\n",
    "        self.net_sidr = self.Net_sidr()\n",
    "        self.params = list(self.net_sidr.parameters())\n",
    "        self.params.extend(list([self.alpha_tilda, self.beta_tilda, self.gamma_tilda]))\n",
    "\n",
    "    #force parameters to be in a range\n",
    "    @property\n",
    "    def alpha(self):\n",
    "        return torch.tanh(self.alpha_tilda) #* 0.1 + 0.2\n",
    "\n",
    "    @property\n",
    "    def beta(self):\n",
    "        return torch.tanh(self.beta_tilda) #* 0.01 + 0.05\n",
    "    \n",
    "    @property\n",
    "    def gamma(self):\n",
    "        return torch.tanh(self.gamma_tilda) #* 0.01 + 0.03\n",
    "\n",
    "    class Net_sidr(nn.Module): # input = [[t1], [t2]...[t100]] -- that is, a batch of timesteps \n",
    "        def __init__(self):\n",
    "            super(DINN.Net_sidr, self).__init__()\n",
    "\n",
    "            self.fc1=nn.Linear(1, 20) #takes 100 t's\n",
    "            self.fc2=nn.Linear(20, 20)\n",
    "            self.fc3=nn.Linear(20, 20)\n",
    "            self.fc4=nn.Linear(20, 20)\n",
    "            self.fc5=nn.Linear(20, 20)\n",
    "            self.fc6=nn.Linear(20, 20)\n",
    "            self.fc7=nn.Linear(20, 20)\n",
    "            self.fc8=nn.Linear(20, 20)\n",
    "            self.out=nn.Linear(20, 4) #outputs S, I, D, R (100 S, 100 I, 100 D, 100 R --- since we have a batch of 100 timesteps)\n",
    "\n",
    "        def forward(self, t_batch):\n",
    "            sidr=F.relu(self.fc1(t_batch))\n",
    "            sidr=F.relu(self.fc2(sidr))\n",
    "            sidr=F.relu(self.fc3(sidr))\n",
    "            sidr=F.relu(self.fc4(sidr))\n",
    "            sidr=F.relu(self.fc5(sidr))\n",
    "            sidr=F.relu(self.fc6(sidr))\n",
    "            sidr=F.relu(self.fc7(sidr))\n",
    "            sidr=F.relu(self.fc8(sidr))\n",
    "            sidr=self.out(sidr)\n",
    "            return sidr\n",
    "\n",
    "    def net_f(self, t_batch):\n",
    "            \n",
    "            #pass the timesteps batch to the neural network\n",
    "            sidr_hat = self.net_sidr(t_batch)\n",
    "            \n",
    "            #organize S,I,D,R from the neural network's output -- note that these are normalized values -- hence the \"hat\" part\n",
    "            S_hat, I_hat, D_hat, R_hat = sidr_hat[:,0], sidr_hat[:,1], sidr_hat[:,2], sidr_hat[:,3]\n",
    "\n",
    "            #S_t\n",
    "            sidr_hat.backward(self.m1, retain_graph=True)\n",
    "            S_hat_t = self.t.grad.clone()\n",
    "            self.t.grad.zero_()\n",
    "\n",
    "            #I_t\n",
    "            sidr_hat.backward(self.m2, retain_graph=True)\n",
    "            I_hat_t = self.t.grad.clone()\n",
    "            self.t.grad.zero_()\n",
    "\n",
    "            #D_t\n",
    "            sidr_hat.backward(self.m3, retain_graph=True)\n",
    "            D_hat_t = self.t.grad.clone()\n",
    "            self.t.grad.zero_()\n",
    "\n",
    "            #R_t\n",
    "            sidr_hat.backward(self.m4, retain_graph=True)\n",
    "            R_hat_t = self.t.grad.clone()\n",
    "            self.t.grad.zero_() \n",
    "\n",
    "            #unnormalize\n",
    "            S = self.S_min + (self.S_max - self.S_min) * S_hat\n",
    "            I = self.I_min + (self.I_max - self.I_min) * I_hat\n",
    "            D = self.D_min + (self.D_max - self.D_min) * D_hat      \n",
    "            R = self.R_min + (self.R_max - self.R_min) * R_hat        \n",
    "\n",
    "            f1_hat = S_hat_t - (-(self.alpha / self.N) * S * I)  / (self.S_max - self.S_min)\n",
    "            f2_hat = I_hat_t - ((self.alpha / self.N) * S * I - self.beta * I - self.gamma * I ) / (self.I_max - self.I_min)\n",
    "            f3_hat = D_hat_t - (self.gamma * I) / (self.D_max - self.D_min)\n",
    "            f4_hat = R_hat_t - (self.beta * I ) / (self.R_max - self.R_min)        \n",
    "\n",
    "            return f1_hat, f2_hat, f3_hat, f4_hat, S_hat, I_hat, D_hat, R_hat\n",
    "\n",
    "    def train(self, n_epochs):\n",
    "        # train\n",
    "        print('\\nstarting training...\\n')\n",
    "        \n",
    "        for epoch in range(n_epochs):\n",
    "            # lists to hold the output (maintain only the final epoch)\n",
    "            S_pred_list = []\n",
    "            I_pred_list = []\n",
    "            D_pred_list = []\n",
    "            R_pred_list = []\n",
    "\n",
    "            # we pass the timesteps batch into net_f\n",
    "            f1, f2, f3, f4, S_pred, I_pred, D_pred, R_pred = self.net_f(self.t_batch) # net_f outputs f1_hat, f2_hat, f3_hat, f4_hat, S_hat, I_hat, D_hat, R_hat\n",
    "            \n",
    "            self.optimizer.zero_grad() #zero grad\n",
    "            \n",
    "            #append the values to plot later (note that we unnormalize them here for plotting)\n",
    "            S_pred_list.append(self.S_min + (self.S_max - self.S_min) * S_pred)\n",
    "            I_pred_list.append(self.I_min + (self.I_max - self.I_min) * I_pred)\n",
    "            D_pred_list.append(self.D_min + (self.D_max - self.D_min) * D_pred)\n",
    "            R_pred_list.append(self.R_min + (self.R_max - self.R_min) * R_pred)\n",
    "\n",
    "            #calculate the loss --- MSE of the neural networks output and each compartment\n",
    "            loss = (torch.mean(torch.square(self.S_hat - S_pred))+ \n",
    "                    torch.mean(torch.square(self.I_hat - I_pred))+\n",
    "                    torch.mean(torch.square(self.D_hat - D_pred))+\n",
    "                    torch.mean(torch.square(self.R_hat - R_pred))+\n",
    "                    torch.mean(torch.square(f1))+\n",
    "                    torch.mean(torch.square(f2))+\n",
    "                    torch.mean(torch.square(f3))+\n",
    "                    torch.mean(torch.square(f4))\n",
    "                    ) \n",
    "\n",
    "            loss.backward()\n",
    "            self.optimizer.step()\n",
    "            self.scheduler.step() \n",
    "\n",
    "            # append the loss value (we call \"loss.item()\" because we just want the value of the loss and not the entire computational graph)\n",
    "            self.losses.append(loss.item())\n",
    "\n",
    "            if epoch % 1000 == 0:          \n",
    "                print('\\nEpoch ', epoch)\n",
    "\n",
    "                print('alpha: (goal 0.191 ', self.alpha)\n",
    "                print('beta: (goal 0.05 ', self.beta)\n",
    "                print('gamma: (goal 0.0294 ', self.gamma)\n",
    "\n",
    "                print('#################################')                \n",
    "\n",
    "        return S_pred_list, I_pred_list, D_pred_list, R_pred_list"
   ]
  },
  {
   "cell_type": "markdown",
   "id": "a96dce0b",
   "metadata": {
    "papermill": {
     "duration": 0.060989,
     "end_time": "2022-04-23T10:24:00.800044",
     "exception": false,
     "start_time": "2022-04-23T10:24:00.739055",
     "status": "completed"
    },
    "tags": []
   },
   "source": [
    "## 16. Training the network"
   ]
  },
  {
   "cell_type": "code",
   "execution_count": 36,
   "id": "f6078fd8",
   "metadata": {
    "execution": {
     "iopub.execute_input": "2022-04-23T10:24:00.927465Z",
     "iopub.status.busy": "2022-04-23T10:24:00.926453Z",
     "iopub.status.idle": "2022-04-23T10:27:57.189849Z",
     "shell.execute_reply": "2022-04-23T10:27:57.190322Z"
    },
    "papermill": {
     "duration": 236.328592,
     "end_time": "2022-04-23T10:27:57.190517",
     "exception": false,
     "start_time": "2022-04-23T10:24:00.861925",
     "status": "completed"
    },
    "tags": []
   },
   "outputs": [
    {
     "name": "stdout",
     "output_type": "stream",
     "text": [
      "\n",
      "starting training...\n",
      "\n",
      "\n",
      "Epoch  0\n",
      "alpha: (goal 0.191  tensor([0.0290], grad_fn=<TanhBackward>)\n",
      "beta: (goal 0.05  tensor([0.3816], grad_fn=<TanhBackward>)\n",
      "gamma: (goal 0.0294  tensor([0.2541], grad_fn=<TanhBackward>)\n",
      "#################################\n",
      "\n",
      "Epoch  1000\n",
      "alpha: (goal 0.191  tensor([0.0450], grad_fn=<TanhBackward>)\n",
      "beta: (goal 0.05  tensor([0.3683], grad_fn=<TanhBackward>)\n",
      "gamma: (goal 0.0294  tensor([0.2397], grad_fn=<TanhBackward>)\n",
      "#################################\n",
      "\n",
      "Epoch  2000\n",
      "alpha: (goal 0.191  tensor([0.0532], grad_fn=<TanhBackward>)\n",
      "beta: (goal 0.05  tensor([0.3603], grad_fn=<TanhBackward>)\n",
      "gamma: (goal 0.0294  tensor([0.2310], grad_fn=<TanhBackward>)\n",
      "#################################\n",
      "\n",
      "Epoch  3000\n",
      "alpha: (goal 0.191  tensor([0.0619], grad_fn=<TanhBackward>)\n",
      "beta: (goal 0.05  tensor([0.3508], grad_fn=<TanhBackward>)\n",
      "gamma: (goal 0.0294  tensor([0.2208], grad_fn=<TanhBackward>)\n",
      "#################################\n",
      "\n",
      "Epoch  4000\n",
      "alpha: (goal 0.191  tensor([0.0737], grad_fn=<TanhBackward>)\n",
      "beta: (goal 0.05  tensor([0.3402], grad_fn=<TanhBackward>)\n",
      "gamma: (goal 0.0294  tensor([0.2093], grad_fn=<TanhBackward>)\n",
      "#################################\n",
      "\n",
      "Epoch  5000\n",
      "alpha: (goal 0.191  tensor([0.0869], grad_fn=<TanhBackward>)\n",
      "beta: (goal 0.05  tensor([0.3289], grad_fn=<TanhBackward>)\n",
      "gamma: (goal 0.0294  tensor([0.1972], grad_fn=<TanhBackward>)\n",
      "#################################\n",
      "\n",
      "Epoch  6000\n",
      "alpha: (goal 0.191  tensor([0.0995], grad_fn=<TanhBackward>)\n",
      "beta: (goal 0.05  tensor([0.3182], grad_fn=<TanhBackward>)\n",
      "gamma: (goal 0.0294  tensor([0.1857], grad_fn=<TanhBackward>)\n",
      "#################################\n",
      "\n",
      "Epoch  7000\n",
      "alpha: (goal 0.191  tensor([0.1115], grad_fn=<TanhBackward>)\n",
      "beta: (goal 0.05  tensor([0.3080], grad_fn=<TanhBackward>)\n",
      "gamma: (goal 0.0294  tensor([0.1748], grad_fn=<TanhBackward>)\n",
      "#################################\n",
      "\n",
      "Epoch  8000\n",
      "alpha: (goal 0.191  tensor([0.1233], grad_fn=<TanhBackward>)\n",
      "beta: (goal 0.05  tensor([0.2981], grad_fn=<TanhBackward>)\n",
      "gamma: (goal 0.0294  tensor([0.1642], grad_fn=<TanhBackward>)\n",
      "#################################\n",
      "\n",
      "Epoch  9000\n",
      "alpha: (goal 0.191  tensor([0.1333], grad_fn=<TanhBackward>)\n",
      "beta: (goal 0.05  tensor([0.2893], grad_fn=<TanhBackward>)\n",
      "gamma: (goal 0.0294  tensor([0.1549], grad_fn=<TanhBackward>)\n",
      "#################################\n",
      "\n",
      "Epoch  10000\n",
      "alpha: (goal 0.191  tensor([0.1431], grad_fn=<TanhBackward>)\n",
      "beta: (goal 0.05  tensor([0.2801], grad_fn=<TanhBackward>)\n",
      "gamma: (goal 0.0294  tensor([0.1451], grad_fn=<TanhBackward>)\n",
      "#################################\n",
      "\n",
      "Epoch  11000\n",
      "alpha: (goal 0.191  tensor([0.1538], grad_fn=<TanhBackward>)\n",
      "beta: (goal 0.05  tensor([0.2697], grad_fn=<TanhBackward>)\n",
      "gamma: (goal 0.0294  tensor([0.1341], grad_fn=<TanhBackward>)\n",
      "#################################\n",
      "\n",
      "Epoch  12000\n",
      "alpha: (goal 0.191  tensor([0.1653], grad_fn=<TanhBackward>)\n",
      "beta: (goal 0.05  tensor([0.2581], grad_fn=<TanhBackward>)\n",
      "gamma: (goal 0.0294  tensor([0.1219], grad_fn=<TanhBackward>)\n",
      "#################################\n",
      "\n",
      "Epoch  13000\n",
      "alpha: (goal 0.191  tensor([0.1760], grad_fn=<TanhBackward>)\n",
      "beta: (goal 0.05  tensor([0.2467], grad_fn=<TanhBackward>)\n",
      "gamma: (goal 0.0294  tensor([0.1100], grad_fn=<TanhBackward>)\n",
      "#################################\n",
      "\n",
      "Epoch  14000\n",
      "alpha: (goal 0.191  tensor([0.1852], grad_fn=<TanhBackward>)\n",
      "beta: (goal 0.05  tensor([0.2366], grad_fn=<TanhBackward>)\n",
      "gamma: (goal 0.0294  tensor([0.0995], grad_fn=<TanhBackward>)\n",
      "#################################\n",
      "\n",
      "Epoch  15000\n",
      "alpha: (goal 0.191  tensor([0.1945], grad_fn=<TanhBackward>)\n",
      "beta: (goal 0.05  tensor([0.2274], grad_fn=<TanhBackward>)\n",
      "gamma: (goal 0.0294  tensor([0.0900], grad_fn=<TanhBackward>)\n",
      "#################################\n",
      "\n",
      "Epoch  16000\n",
      "alpha: (goal 0.191  tensor([0.2041], grad_fn=<TanhBackward>)\n",
      "beta: (goal 0.05  tensor([0.2182], grad_fn=<TanhBackward>)\n",
      "gamma: (goal 0.0294  tensor([0.0805], grad_fn=<TanhBackward>)\n",
      "#################################\n",
      "\n",
      "Epoch  17000\n",
      "alpha: (goal 0.191  tensor([0.2139], grad_fn=<TanhBackward>)\n",
      "beta: (goal 0.05  tensor([0.2087], grad_fn=<TanhBackward>)\n",
      "gamma: (goal 0.0294  tensor([0.0708], grad_fn=<TanhBackward>)\n",
      "#################################\n",
      "\n",
      "Epoch  18000\n",
      "alpha: (goal 0.191  tensor([0.2235], grad_fn=<TanhBackward>)\n",
      "beta: (goal 0.05  tensor([0.1991], grad_fn=<TanhBackward>)\n",
      "gamma: (goal 0.0294  tensor([0.0610], grad_fn=<TanhBackward>)\n",
      "#################################\n",
      "\n",
      "Epoch  19000\n",
      "alpha: (goal 0.191  tensor([0.2326], grad_fn=<TanhBackward>)\n",
      "beta: (goal 0.05  tensor([0.1896], grad_fn=<TanhBackward>)\n",
      "gamma: (goal 0.0294  tensor([0.0514], grad_fn=<TanhBackward>)\n",
      "#################################\n",
      "\n",
      "Epoch  20000\n",
      "alpha: (goal 0.191  tensor([0.2413], grad_fn=<TanhBackward>)\n",
      "beta: (goal 0.05  tensor([0.1803], grad_fn=<TanhBackward>)\n",
      "gamma: (goal 0.0294  tensor([0.0422], grad_fn=<TanhBackward>)\n",
      "#################################\n",
      "\n",
      "Epoch  21000\n",
      "alpha: (goal 0.191  tensor([0.2494], grad_fn=<TanhBackward>)\n",
      "beta: (goal 0.05  tensor([0.1715], grad_fn=<TanhBackward>)\n",
      "gamma: (goal 0.0294  tensor([0.0334], grad_fn=<TanhBackward>)\n",
      "#################################\n",
      "\n",
      "Epoch  22000\n",
      "alpha: (goal 0.191  tensor([0.2569], grad_fn=<TanhBackward>)\n",
      "beta: (goal 0.05  tensor([0.1630], grad_fn=<TanhBackward>)\n",
      "gamma: (goal 0.0294  tensor([0.0253], grad_fn=<TanhBackward>)\n",
      "#################################\n",
      "\n",
      "Epoch  23000\n",
      "alpha: (goal 0.191  tensor([0.2639], grad_fn=<TanhBackward>)\n",
      "beta: (goal 0.05  tensor([0.1550], grad_fn=<TanhBackward>)\n",
      "gamma: (goal 0.0294  tensor([0.0178], grad_fn=<TanhBackward>)\n",
      "#################################\n",
      "\n",
      "Epoch  24000\n",
      "alpha: (goal 0.191  tensor([0.2700], grad_fn=<TanhBackward>)\n",
      "beta: (goal 0.05  tensor([0.1473], grad_fn=<TanhBackward>)\n",
      "gamma: (goal 0.0294  tensor([0.0112], grad_fn=<TanhBackward>)\n",
      "#################################\n",
      "\n",
      "Epoch  25000\n",
      "alpha: (goal 0.191  tensor([0.2751], grad_fn=<TanhBackward>)\n",
      "beta: (goal 0.05  tensor([0.1402], grad_fn=<TanhBackward>)\n",
      "gamma: (goal 0.0294  tensor([0.0059], grad_fn=<TanhBackward>)\n",
      "#################################\n",
      "\n",
      "Epoch  26000\n",
      "alpha: (goal 0.191  tensor([0.2787], grad_fn=<TanhBackward>)\n",
      "beta: (goal 0.05  tensor([0.1334], grad_fn=<TanhBackward>)\n",
      "gamma: (goal 0.0294  tensor([0.0024], grad_fn=<TanhBackward>)\n",
      "#################################\n",
      "\n",
      "Epoch  27000\n",
      "alpha: (goal 0.191  tensor([0.2802], grad_fn=<TanhBackward>)\n",
      "beta: (goal 0.05  tensor([0.1270], grad_fn=<TanhBackward>)\n",
      "gamma: (goal 0.0294  tensor([0.0019], grad_fn=<TanhBackward>)\n",
      "#################################\n",
      "\n",
      "Epoch  28000\n",
      "alpha: (goal 0.191  tensor([0.2792], grad_fn=<TanhBackward>)\n",
      "beta: (goal 0.05  tensor([0.1203], grad_fn=<TanhBackward>)\n",
      "gamma: (goal 0.0294  tensor([0.0045], grad_fn=<TanhBackward>)\n",
      "#################################\n",
      "\n",
      "Epoch  29000\n",
      "alpha: (goal 0.191  tensor([0.2759], grad_fn=<TanhBackward>)\n",
      "beta: (goal 0.05  tensor([0.1130], grad_fn=<TanhBackward>)\n",
      "gamma: (goal 0.0294  tensor([0.0089], grad_fn=<TanhBackward>)\n",
      "#################################\n",
      "\n",
      "Epoch  30000\n",
      "alpha: (goal 0.191  tensor([0.2702], grad_fn=<TanhBackward>)\n",
      "beta: (goal 0.05  tensor([0.1052], grad_fn=<TanhBackward>)\n",
      "gamma: (goal 0.0294  tensor([0.0135], grad_fn=<TanhBackward>)\n",
      "#################################\n",
      "\n",
      "Epoch  31000\n",
      "alpha: (goal 0.191  tensor([0.2619], grad_fn=<TanhBackward>)\n",
      "beta: (goal 0.05  tensor([0.0974], grad_fn=<TanhBackward>)\n",
      "gamma: (goal 0.0294  tensor([0.0174], grad_fn=<TanhBackward>)\n",
      "#################################\n",
      "\n",
      "Epoch  32000\n",
      "alpha: (goal 0.191  tensor([0.2537], grad_fn=<TanhBackward>)\n",
      "beta: (goal 0.05  tensor([0.0892], grad_fn=<TanhBackward>)\n",
      "gamma: (goal 0.0294  tensor([0.0204], grad_fn=<TanhBackward>)\n",
      "#################################\n",
      "\n",
      "Epoch  33000\n",
      "alpha: (goal 0.191  tensor([0.2446], grad_fn=<TanhBackward>)\n",
      "beta: (goal 0.05  tensor([0.0816], grad_fn=<TanhBackward>)\n",
      "gamma: (goal 0.0294  tensor([0.0233], grad_fn=<TanhBackward>)\n",
      "#################################\n",
      "\n",
      "Epoch  34000\n",
      "alpha: (goal 0.191  tensor([0.2354], grad_fn=<TanhBackward>)\n",
      "beta: (goal 0.05  tensor([0.0745], grad_fn=<TanhBackward>)\n",
      "gamma: (goal 0.0294  tensor([0.0257], grad_fn=<TanhBackward>)\n",
      "#################################\n",
      "\n",
      "Epoch  35000\n",
      "alpha: (goal 0.191  tensor([0.2261], grad_fn=<TanhBackward>)\n",
      "beta: (goal 0.05  tensor([0.0680], grad_fn=<TanhBackward>)\n",
      "gamma: (goal 0.0294  tensor([0.0275], grad_fn=<TanhBackward>)\n",
      "#################################\n",
      "\n",
      "Epoch  36000\n",
      "alpha: (goal 0.191  tensor([0.2172], grad_fn=<TanhBackward>)\n",
      "beta: (goal 0.05  tensor([0.0625], grad_fn=<TanhBackward>)\n",
      "gamma: (goal 0.0294  tensor([0.0289], grad_fn=<TanhBackward>)\n",
      "#################################\n",
      "\n",
      "Epoch  37000\n",
      "alpha: (goal 0.191  tensor([0.2089], grad_fn=<TanhBackward>)\n",
      "beta: (goal 0.05  tensor([0.0582], grad_fn=<TanhBackward>)\n",
      "gamma: (goal 0.0294  tensor([0.0294], grad_fn=<TanhBackward>)\n",
      "#################################\n",
      "\n",
      "Epoch  38000\n",
      "alpha: (goal 0.191  tensor([0.2017], grad_fn=<TanhBackward>)\n",
      "beta: (goal 0.05  tensor([0.0551], grad_fn=<TanhBackward>)\n",
      "gamma: (goal 0.0294  tensor([0.0297], grad_fn=<TanhBackward>)\n",
      "#################################\n",
      "\n",
      "Epoch  39000\n",
      "alpha: (goal 0.191  tensor([0.1961], grad_fn=<TanhBackward>)\n",
      "beta: (goal 0.05  tensor([0.0530], grad_fn=<TanhBackward>)\n",
      "gamma: (goal 0.0294  tensor([0.0295], grad_fn=<TanhBackward>)\n",
      "#################################\n",
      "\n",
      "Epoch  40000\n",
      "alpha: (goal 0.191  tensor([0.1926], grad_fn=<TanhBackward>)\n",
      "beta: (goal 0.05  tensor([0.0517], grad_fn=<TanhBackward>)\n",
      "gamma: (goal 0.0294  tensor([0.0293], grad_fn=<TanhBackward>)\n",
      "#################################\n",
      "\n",
      "Epoch  41000\n",
      "alpha: (goal 0.191  tensor([0.1907], grad_fn=<TanhBackward>)\n",
      "beta: (goal 0.05  tensor([0.0513], grad_fn=<TanhBackward>)\n",
      "gamma: (goal 0.0294  tensor([0.0291], grad_fn=<TanhBackward>)\n",
      "#################################\n",
      "\n",
      "Epoch  42000\n",
      "alpha: (goal 0.191  tensor([0.1903], grad_fn=<TanhBackward>)\n",
      "beta: (goal 0.05  tensor([0.0512], grad_fn=<TanhBackward>)\n",
      "gamma: (goal 0.0294  tensor([0.0291], grad_fn=<TanhBackward>)\n",
      "#################################\n",
      "\n",
      "Epoch  43000\n",
      "alpha: (goal 0.191  tensor([0.1902], grad_fn=<TanhBackward>)\n",
      "beta: (goal 0.05  tensor([0.0513], grad_fn=<TanhBackward>)\n",
      "gamma: (goal 0.0294  tensor([0.0290], grad_fn=<TanhBackward>)\n",
      "#################################\n",
      "\n",
      "Epoch  44000\n",
      "alpha: (goal 0.191  tensor([0.1906], grad_fn=<TanhBackward>)\n",
      "beta: (goal 0.05  tensor([0.0513], grad_fn=<TanhBackward>)\n",
      "gamma: (goal 0.0294  tensor([0.0290], grad_fn=<TanhBackward>)\n",
      "#################################\n",
      "\n",
      "Epoch  45000\n",
      "alpha: (goal 0.191  tensor([0.1910], grad_fn=<TanhBackward>)\n",
      "beta: (goal 0.05  tensor([0.0513], grad_fn=<TanhBackward>)\n",
      "gamma: (goal 0.0294  tensor([0.0293], grad_fn=<TanhBackward>)\n",
      "#################################\n",
      "\n",
      "Epoch  46000\n",
      "alpha: (goal 0.191  tensor([0.1910], grad_fn=<TanhBackward>)\n",
      "beta: (goal 0.05  tensor([0.0515], grad_fn=<TanhBackward>)\n",
      "gamma: (goal 0.0294  tensor([0.0290], grad_fn=<TanhBackward>)\n",
      "#################################\n",
      "\n",
      "Epoch  47000\n",
      "alpha: (goal 0.191  tensor([0.1914], grad_fn=<TanhBackward>)\n",
      "beta: (goal 0.05  tensor([0.0512], grad_fn=<TanhBackward>)\n",
      "gamma: (goal 0.0294  tensor([0.0291], grad_fn=<TanhBackward>)\n",
      "#################################\n",
      "\n",
      "Epoch  48000\n",
      "alpha: (goal 0.191  tensor([0.1912], grad_fn=<TanhBackward>)\n",
      "beta: (goal 0.05  tensor([0.0516], grad_fn=<TanhBackward>)\n",
      "gamma: (goal 0.0294  tensor([0.0290], grad_fn=<TanhBackward>)\n",
      "#################################\n",
      "\n",
      "Epoch  49000\n",
      "alpha: (goal 0.191  tensor([0.1910], grad_fn=<TanhBackward>)\n",
      "beta: (goal 0.05  tensor([0.0515], grad_fn=<TanhBackward>)\n",
      "gamma: (goal 0.0294  tensor([0.0290], grad_fn=<TanhBackward>)\n",
      "#################################\n",
      "CPU times: user 3min 55s, sys: 122 ms, total: 3min 56s\n",
      "Wall time: 3min 56s\n"
     ]
    }
   ],
   "source": [
    "%%time\n",
    "\n",
    "dinn = DINN(covid_data[0], covid_data[1], covid_data[2], covid_data[3], \n",
    "            covid_data[4]) #in the form of [t,S,I,D,R]\n",
    "\n",
    "learning_rate = 1e-6\n",
    "optimizer = optim.Adam(dinn.params, lr = learning_rate)\n",
    "dinn.optimizer = optimizer\n",
    "\n",
    "scheduler = torch.optim.lr_scheduler.CyclicLR(dinn.optimizer, base_lr=1e-5, max_lr=1e-3, step_size_up=1000, mode=\"exp_range\", gamma=0.85, cycle_momentum=False)\n",
    "\n",
    "dinn.scheduler = scheduler\n",
    "\n",
    "S_pred_list, I_pred_list, D_pred_list, R_pred_list = dinn.train(50000) #train"
   ]
  },
  {
   "cell_type": "markdown",
   "id": "5e033c13",
   "metadata": {
    "papermill": {
     "duration": 0.080327,
     "end_time": "2022-04-23T10:27:57.351937",
     "exception": false,
     "start_time": "2022-04-23T10:27:57.271610",
     "status": "completed"
    },
    "tags": []
   },
   "source": [
    "## 17. Plotting the losses and values"
   ]
  },
  {
   "cell_type": "code",
   "execution_count": 37,
   "id": "1deea8ae",
   "metadata": {
    "execution": {
     "iopub.execute_input": "2022-04-23T10:27:57.535168Z",
     "iopub.status.busy": "2022-04-23T10:27:57.534499Z",
     "iopub.status.idle": "2022-04-23T10:27:57.695045Z",
     "shell.execute_reply": "2022-04-23T10:27:57.694503Z"
    },
    "papermill": {
     "duration": 0.263137,
     "end_time": "2022-04-23T10:27:57.695178",
     "exception": false,
     "start_time": "2022-04-23T10:27:57.432041",
     "status": "completed"
    },
    "tags": []
   },
   "outputs": [
    {
     "data": {
      "text/plain": [
       "(Text(0, 0.5, 'Loss'),)"
      ]
     },
     "execution_count": 37,
     "metadata": {},
     "output_type": "execute_result"
    },
    {
     "data": {
      "image/png": "[encoded data removed]",
      "text/plain": [
       "<Figure size 432x288 with 1 Axes>"
      ]
     },
     "metadata": {
      "needs_background": "light"
     },
     "output_type": "display_data"
    }
   ],
   "source": [
    "plt.plot(dinn.losses[0:], color = 'teal')\n",
    "plt.xlabel('Epochs')\n",
    "plt.ylabel('Loss'),"
   ]
  },
  {
   "cell_type": "code",
   "execution_count": 38,
   "id": "7d402b54",
   "metadata": {
    "execution": {
     "iopub.execute_input": "2022-04-23T10:27:58.012345Z",
     "iopub.status.busy": "2022-04-23T10:27:57.873003Z",
     "iopub.status.idle": "2022-04-23T10:27:58.281146Z",
     "shell.execute_reply": "2022-04-23T10:27:58.281670Z"
    },
    "papermill": {
     "duration": 0.505091,
     "end_time": "2022-04-23T10:27:58.281841",
     "exception": false,
     "start_time": "2022-04-23T10:27:57.776750",
     "status": "completed"
    },
    "tags": []
   },
   "outputs": [
    {
     "name": "stderr",
     "output_type": "stream",
     "text": [
      "/opt/conda/lib/python3.7/site-packages/ipykernel_launcher.py:22: MatplotlibDeprecationWarning: The 'b' parameter of grid() has been renamed 'visible' since Matplotlib 3.5; support for the old name will be dropped two minor releases later.\n"
     ]
    },
    {
     "data": {
      "image/png": "[encoded data removed]",
      "text/plain": [
       "<Figure size 864x864 with 1 Axes>"
      ]
     },
     "metadata": {
      "needs_background": "light"
     },
     "output_type": "display_data"
    }
   ],
   "source": [
    "fig = plt.figure(figsize=(12,12))\n",
    "ax = fig.add_subplot(111, facecolor='#dddddd', axisbelow=True)\n",
    "ax.set_facecolor('xkcd:white')\n",
    "\n",
    "ax.plot(covid_data[0], covid_data[1], 'pink', alpha=0.5, lw=2, label='Susceptible')\n",
    "ax.plot(covid_data[0], S_pred_list[0].detach().numpy(), 'red', alpha=0.9, lw=2, label='Susceptible Prediction', linestyle='dashed')\n",
    "\n",
    "ax.plot(covid_data[0], covid_data[2], 'violet', alpha=0.5, lw=2, label='Infected')\n",
    "ax.plot(covid_data[0], I_pred_list[0].detach().numpy(), 'dodgerblue', alpha=0.9, lw=2, label='Infected Prediction', linestyle='dashed')\n",
    "\n",
    "ax.plot(covid_data[0], covid_data[3], 'darkgreen', alpha=0.5, lw=2, label='Dead')\n",
    "ax.plot(covid_data[0], D_pred_list[0].detach().numpy(), 'green', alpha=0.9, lw=2, label='Dead Prediction', linestyle='dashed')\n",
    "\n",
    "ax.plot(covid_data[0], covid_data[4], 'blue', alpha=0.5, lw=2, label='Recovered')\n",
    "ax.plot(covid_data[0], R_pred_list[0].detach().numpy(), 'teal', alpha=0.9, lw=2, label='Recovered Prediction', linestyle='dashed')\n",
    "\n",
    "\n",
    "ax.set_xlabel('Time /days')\n",
    "ax.set_ylabel('Number')\n",
    "ax.yaxis.set_tick_params(length=0)\n",
    "ax.xaxis.set_tick_params(length=0)\n",
    "ax.grid(b=True, which='major', c='black', lw=0.2, ls='-')\n",
    "legend = ax.legend()\n",
    "legend.get_frame().set_alpha(0.5)\n",
    "for spine in ('top', 'right', 'bottom', 'left'):\n",
    "    ax.spines[spine].set_visible(False)\n",
    "plt.show()"
   ]
  },
  {
   "cell_type": "markdown",
   "id": "81e20654",
   "metadata": {
    "papermill": {
     "duration": 0.084984,
     "end_time": "2022-04-23T10:27:58.451977",
     "exception": false,
     "start_time": "2022-04-23T10:27:58.366993",
     "status": "completed"
    },
    "tags": []
   },
   "source": [
    "**This is the end of this notebook, go to ... to have more infromation.**"
   ]
  }
 ],
 "metadata": {
  "kernelspec": {
   "display_name": "Python 3",
   "language": "python",
   "name": "python3"
  },
  "language_info": {
   "codemirror_mode": {
    "name": "ipython",
    "version": 3
   },
   "file_extension": ".py",
   "mimetype": "text/x-python",
   "name": "python",
   "nbconvert_exporter": "python",
   "pygments_lexer": "ipython3",
   "version": "3.7.12"
  },
  "papermill": {
   "default_parameters": {},
   "duration": 258.657081,
   "end_time": "2022-04-23T10:27:59.349090",
   "environment_variables": {},
   "exception": null,
   "input_path": "__notebook__.ipynb",
   "output_path": "__notebook__.ipynb",
   "parameters": {},
   "start_time": "2022-04-23T10:23:40.692009",
   "version": "2.3.3"
  }
 },
 "nbformat": 4,
 "nbformat_minor": 5
}
